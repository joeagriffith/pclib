{
 "cells": [
  {
   "cell_type": "code",
   "execution_count": 1,
   "metadata": {},
   "outputs": [],
   "source": [
    "import torch\n",
    "import torchvision.datasets as datasets\n",
    "import torchvision.transforms as transforms\n",
    "from pclib.nn.models import SmallLinearClassifier, PCLeNetV1, PCLeNetV2\n",
    "from pclib.optim.train import train\n",
    "from customdataset import PreloadedDataset"
   ]
  },
  {
   "cell_type": "code",
   "execution_count": 2,
   "metadata": {},
   "outputs": [
    {
     "data": {
      "text/plain": [
       "device(type='cuda')"
      ]
     },
     "execution_count": 2,
     "metadata": {},
     "output_type": "execute_result"
    }
   ],
   "source": [
    "device = torch.device('cuda' if torch.cuda.is_available() else 'cpu')\n",
    "device"
   ]
  },
  {
   "cell_type": "code",
   "execution_count": 3,
   "metadata": {},
   "outputs": [
    {
     "name": "stderr",
     "output_type": "stream",
     "text": [
      "                                                        \r"
     ]
    }
   ],
   "source": [
    "VAL_RATIO = 0.1\n",
    "# transform = transforms.Compose([\n",
    "#     transforms.RandomHorizontalFlip(),\n",
    "#     transforms.RandomAffine(degrees=10, translate=(0.1, 0.1), scale=(0.9, 1.1)),                                \n",
    "# ])\n",
    "transform = transforms.ToTensor()\n",
    "\n",
    "dataset = datasets.MNIST('../Datasets/', train=True, download=False, transform=transforms.ToTensor())\n",
    "# shorten dataset\n",
    "# length = 100\n",
    "# dataset = torch.utils.data.Subset(dataset, range(length))\n",
    "val_len = int(len(dataset) * VAL_RATIO)\n",
    "train_len = len(dataset) - val_len\n",
    "train_dataset, val_dataset = torch.utils.data.random_split(dataset, [train_len, val_len])\n",
    "train_dataset = PreloadedDataset.from_dataset(train_dataset, transform, device)\n",
    "val_dataset = PreloadedDataset.from_dataset(val_dataset, transforms.ToTensor(), device)\n",
    "INPUT_SHAPE = 784\n",
    "NUM_CLASSES = 10"
   ]
  },
  {
   "cell_type": "code",
   "execution_count": 18,
   "metadata": {},
   "outputs": [],
   "source": [
    "from pclib.nn.layers import PCLinearUniweighted as PCLinear\n",
    "\n",
    "class pclinear(torch.nn.Module):\n",
    "    def __init__(self, input_size, output_size):\n",
    "        super(pclinear, self).__init__()\n",
    "        layers = []\n",
    "        layers.append(PCLinear(input_size, output_size, relu_errs=False, bias=False))\n",
    "\n",
    "        self.layers = torch.nn.ModuleList(layers)\n",
    "        self.steps = 5\n",
    "        self.device = device\n",
    "        self.num_classes=10\n",
    "    \n",
    "    def step(self, x, R, E, y=None):\n",
    "        if y is not None:\n",
    "            assert y.shape == R[-1].shape\n",
    "            R[-1] = y\n",
    "        R[0], E[0] = self.layers[0](x, R[0], None)\n",
    "        return R, E\n",
    "    \n",
    "    def init_vars(self, batch_size: int):\n",
    "        R = []\n",
    "        E = []\n",
    "        r, e = self.layers[0].init_vars(batch_size, bias=True)\n",
    "        R.append(r)\n",
    "        E.append(e)\n",
    "        return R, E\n",
    "\n",
    "    def to(self, device):\n",
    "        self.device = device\n",
    "        for layer in self.layers:\n",
    "            layer.to(device)\n",
    "        return self\n",
    "    \n",
    "    def forward(self, x, y=None, steps=None, full_data=False):\n",
    "        assert len(x.shape) == 2, f\"Input must be 2D, got {len(x.shape)}D\"\n",
    "        if steps is None:\n",
    "            steps = self.steps\n",
    "\n",
    "        R, E = self.init_vars(x.shape[0])\n",
    "\n",
    "        # Setting it here and after each step so out-target error is 0 if y is not none\n",
    "        if y is not None:\n",
    "            assert y.shape == R[-1].shape\n",
    "            R[-1] = y\n",
    "\n",
    "        for _ in range(steps):\n",
    "            R, E = self.step(x, R, E)\n",
    "            if y is not None:\n",
    "                R[-1] = y\n",
    "\n",
    "        out = R[-1]\n",
    "\n",
    "        if full_data:\n",
    "            return out, R, E\n",
    "\n",
    "        return out"
   ]
  },
  {
   "cell_type": "code",
   "execution_count": 19,
   "metadata": {},
   "outputs": [],
   "source": [
    "seed = 42\n",
    "torch.manual_seed(seed)\n",
    "\n",
    "model_name = \"mnist_pclinear\"\n",
    "LEARNING_RATE = 0.001\n",
    "model = pclinear(INPUT_SHAPE, NUM_CLASSES).to(device)\n",
    "optimiser = torch.optim.Adam(model.parameters(), lr=LEARNING_RATE)\n",
    "criterion = torch.nn.CrossEntropyLoss()\n",
    "step = 0"
   ]
  },
  {
   "cell_type": "code",
   "execution_count": 20,
   "metadata": {},
   "outputs": [
    {
     "name": "stderr",
     "output_type": "stream",
     "text": [
      "                                                                                                                                                                                                    \r"
     ]
    },
    {
     "ename": "KeyboardInterrupt",
     "evalue": "",
     "output_type": "error",
     "traceback": [
      "\u001b[1;31m---------------------------------------------------------------------------\u001b[0m",
      "\u001b[1;31mKeyboardInterrupt\u001b[0m                         Traceback (most recent call last)",
      "\u001b[1;32m~\\AppData\\Local\\Temp\\ipykernel_24192\\2828857168.py\u001b[0m in \u001b[0;36m<module>\u001b[1;34m\u001b[0m\n\u001b[0;32m     16\u001b[0m     \u001b[0mstep\u001b[0m\u001b[1;33m=\u001b[0m\u001b[0mstep\u001b[0m\u001b[1;33m,\u001b[0m\u001b[1;33m\u001b[0m\u001b[1;33m\u001b[0m\u001b[0m\n\u001b[0;32m     17\u001b[0m     \u001b[0mdevice\u001b[0m\u001b[1;33m=\u001b[0m\u001b[0mdevice\u001b[0m\u001b[1;33m,\u001b[0m\u001b[1;33m\u001b[0m\u001b[1;33m\u001b[0m\u001b[0m\n\u001b[1;32m---> 18\u001b[1;33m     \u001b[0mbatch_size\u001b[0m\u001b[1;33m=\u001b[0m\u001b[1;36m128\u001b[0m\u001b[1;33m,\u001b[0m\u001b[1;33m\u001b[0m\u001b[1;33m\u001b[0m\u001b[0m\n\u001b[0m\u001b[0;32m     19\u001b[0m )\n",
      "\u001b[1;32mc:\\Users\\Joe\\Documents\\pclib\\pclib\\optim\\train.py\u001b[0m in \u001b[0;36mtrain\u001b[1;34m(model, train_data, val_data, optimiser, criterion, model_name, num_epochs, learning_rate, weight_decay, flatten, model_dir, log_dir, step, best, save_model, batch_size, plot_err, e_weight_mode, augment, train_loss, train_on_loss, device)\u001b[0m\n\u001b[0;32m     93\u001b[0m                 \u001b[1;32mfor\u001b[0m \u001b[0mi\u001b[0m\u001b[1;33m,\u001b[0m \u001b[0me\u001b[0m \u001b[1;32min\u001b[0m \u001b[0menumerate\u001b[0m\u001b[1;33m(\u001b[0m\u001b[0mE\u001b[0m\u001b[1;33m)\u001b[0m\u001b[1;33m:\u001b[0m\u001b[1;33m\u001b[0m\u001b[1;33m\u001b[0m\u001b[0m\n\u001b[0;32m     94\u001b[0m                     \u001b[0me_loss\u001b[0m \u001b[1;33m+=\u001b[0m \u001b[0me\u001b[0m\u001b[1;33m.\u001b[0m\u001b[0msquare\u001b[0m\u001b[1;33m(\u001b[0m\u001b[1;33m)\u001b[0m\u001b[1;33m.\u001b[0m\u001b[0msum\u001b[0m\u001b[1;33m(\u001b[0m\u001b[1;33m)\u001b[0m \u001b[1;33m*\u001b[0m \u001b[0mlayer_loss_weights\u001b[0m\u001b[1;33m[\u001b[0m\u001b[0mi\u001b[0m\u001b[1;33m]\u001b[0m \u001b[1;33m*\u001b[0m \u001b[0mstep_loss_weights\u001b[0m\u001b[1;33m[\u001b[0m\u001b[0mstep_i\u001b[0m\u001b[1;33m]\u001b[0m\u001b[1;33m\u001b[0m\u001b[1;33m\u001b[0m\u001b[0m\n\u001b[1;32m---> 95\u001b[1;33m                 \u001b[0me_loss\u001b[0m\u001b[1;33m.\u001b[0m\u001b[0mbackward\u001b[0m\u001b[1;33m(\u001b[0m\u001b[1;33m)\u001b[0m\u001b[1;33m\u001b[0m\u001b[1;33m\u001b[0m\u001b[0m\n\u001b[0m\u001b[0;32m     96\u001b[0m \u001b[1;33m\u001b[0m\u001b[0m\n\u001b[0;32m     97\u001b[0m                 \u001b[1;31m# r_loss = 0.0\u001b[0m\u001b[1;33m\u001b[0m\u001b[1;33m\u001b[0m\u001b[1;33m\u001b[0m\u001b[0m\n",
      "\u001b[1;32mc:\\Users\\Joe\\anaconda3\\envs\\ml-env\\lib\\site-packages\\torch\\_tensor.py\u001b[0m in \u001b[0;36mbackward\u001b[1;34m(self, gradient, retain_graph, create_graph, inputs)\u001b[0m\n\u001b[0;32m    487\u001b[0m             )\n\u001b[0;32m    488\u001b[0m         torch.autograd.backward(\n\u001b[1;32m--> 489\u001b[1;33m             \u001b[0mself\u001b[0m\u001b[1;33m,\u001b[0m \u001b[0mgradient\u001b[0m\u001b[1;33m,\u001b[0m \u001b[0mretain_graph\u001b[0m\u001b[1;33m,\u001b[0m \u001b[0mcreate_graph\u001b[0m\u001b[1;33m,\u001b[0m \u001b[0minputs\u001b[0m\u001b[1;33m=\u001b[0m\u001b[0minputs\u001b[0m\u001b[1;33m\u001b[0m\u001b[1;33m\u001b[0m\u001b[0m\n\u001b[0m\u001b[0;32m    490\u001b[0m         )\n\u001b[0;32m    491\u001b[0m \u001b[1;33m\u001b[0m\u001b[0m\n",
      "\u001b[1;32mc:\\Users\\Joe\\anaconda3\\envs\\ml-env\\lib\\site-packages\\torch\\autograd\\__init__.py\u001b[0m in \u001b[0;36mbackward\u001b[1;34m(tensors, grad_tensors, retain_graph, create_graph, grad_variables, inputs)\u001b[0m\n\u001b[0;32m    197\u001b[0m     Variable._execution_engine.run_backward(  # Calls into the C++ engine to run the backward pass\n\u001b[0;32m    198\u001b[0m         \u001b[0mtensors\u001b[0m\u001b[1;33m,\u001b[0m \u001b[0mgrad_tensors_\u001b[0m\u001b[1;33m,\u001b[0m \u001b[0mretain_graph\u001b[0m\u001b[1;33m,\u001b[0m \u001b[0mcreate_graph\u001b[0m\u001b[1;33m,\u001b[0m \u001b[0minputs\u001b[0m\u001b[1;33m,\u001b[0m\u001b[1;33m\u001b[0m\u001b[1;33m\u001b[0m\u001b[0m\n\u001b[1;32m--> 199\u001b[1;33m         allow_unreachable=True, accumulate_grad=True)  # Calls into the C++ engine to run the backward pass\n\u001b[0m\u001b[0;32m    200\u001b[0m \u001b[1;33m\u001b[0m\u001b[0m\n\u001b[0;32m    201\u001b[0m def grad(\n",
      "\u001b[1;31mKeyboardInterrupt\u001b[0m: "
     ]
    }
   ],
   "source": [
    "# Train Loop\n",
    "\n",
    "NUM_EPOCHS = 20\n",
    "step = train(\n",
    "    model, \n",
    "    train_dataset, \n",
    "    val_dataset, \n",
    "    optimiser, \n",
    "    criterion,\n",
    "    model_name, \n",
    "    NUM_EPOCHS, \n",
    "    LEARNING_RATE, \n",
    "    log_dir=\"mnist/out/logs\",\n",
    "    model_dir=\"mnist/out/weights\",\n",
    "    flatten=True, \n",
    "    step=step, \n",
    "    device=device,\n",
    "    batch_size=128,\n",
    ")"
   ]
  },
  {
   "cell_type": "code",
   "execution_count": 13,
   "metadata": {},
   "outputs": [
    {
     "name": "stdout",
     "output_type": "stream",
     "text": [
      "PCLinearUniweighted()\n",
      "layer.weight.mean(): 0.3066323697566986\n",
      "layer.weight.std(): 0.23584160208702087\n",
      "layer.bias.mean(): 0.4673560559749603\n",
      "layer.bias.std(): 0.2265135794878006\n"
     ]
    }
   ],
   "source": [
    "\n",
    "# print mean and std of weights\n",
    "for layer in model.layers:\n",
    "    print(layer)\n",
    "    print(f\"layer.weight.mean(): {layer.weight.mean()}\")\n",
    "    print(f\"layer.weight.std(): {layer.weight.std()}\")\n",
    "    print(f\"layer.bias.mean(): {layer.bias.mean()}\")\n",
    "    print(f\"layer.bias.std(): {layer.bias.std()}\")"
   ]
  },
  {
   "cell_type": "code",
   "execution_count": 9,
   "metadata": {},
   "outputs": [
    {
     "name": "stdout",
     "output_type": "stream",
     "text": [
      "PCLinearUniweighted()\n",
      "layer.weight.mean(): 0.03455418720841408\n",
      "layer.weight.std(): 0.14680886268615723\n",
      "layer.bias.mean(): 0.09652074426412582\n",
      "layer.bias.std(): 0.13295072317123413\n"
     ]
    }
   ],
   "source": [
    "# print mean and std of weights\n",
    "for layer in model.layers:\n",
    "    print(layer)\n",
    "    print(f\"layer.weight.mean(): {layer.weight.mean()}\")\n",
    "    print(f\"layer.weight.std(): {layer.weight.std()}\")\n",
    "    print(f\"layer.bias.mean(): {layer.bias.mean()}\")\n",
    "    print(f\"layer.bias.std(): {layer.bias.std()}\")"
   ]
  },
  {
   "cell_type": "code",
   "execution_count": null,
   "metadata": {},
   "outputs": [],
   "source": []
  }
 ],
 "metadata": {
  "kernelspec": {
   "display_name": "ml-env",
   "language": "python",
   "name": "python3"
  },
  "language_info": {
   "codemirror_mode": {
    "name": "ipython",
    "version": 3
   },
   "file_extension": ".py",
   "mimetype": "text/x-python",
   "name": "python",
   "nbconvert_exporter": "python",
   "pygments_lexer": "ipython3",
   "version": "3.7.15"
  },
  "orig_nbformat": 4
 },
 "nbformat": 4,
 "nbformat_minor": 2
}
