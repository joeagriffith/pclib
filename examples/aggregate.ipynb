{
 "cells": [
  {
   "cell_type": "code",
   "execution_count": 2,
   "metadata": {},
   "outputs": [],
   "source": [
    "import shutil\n",
    "from glob import glob\n",
    "import tensorboard_reducer as tbr"
   ]
  },
  {
   "cell_type": "code",
   "execution_count": 3,
   "metadata": {},
   "outputs": [
    {
     "name": "stdout",
     "output_type": "stream",
     "text": [
      "Found 3 event dirs:\n",
      "examples/mnist/out/logs/fc/unsup_iPC/greedy_layerwise/784-128_2/encoder\\run 1\n",
      "examples/mnist/out/logs/fc/unsup_iPC/greedy_layerwise/784-128_2/encoder\\run 2\n",
      "examples/mnist/out/logs/fc/unsup_iPC/greedy_layerwise/784-128_2/encoder\\run 3\n"
     ]
    }
   ],
   "source": [
    "input_event_dirs = sorted(glob('examples/mnist/out/logs/fc/unsup_iPC/greedy_layerwise/784-128_2/encoder/*'))\n",
    "joined_dirs = \"\\n\".join(input_event_dirs)\n",
    "print(f\"Found {len(input_event_dirs)} event dirs:\\n{joined_dirs}\")"
   ]
  },
  {
   "cell_type": "code",
   "execution_count": 10,
   "metadata": {},
   "outputs": [
    {
     "name": "stderr",
     "output_type": "stream",
     "text": [
      "Loading runs: 100%|██████████| 3/3 [00:00<00:00,  4.67it/s]\n",
      "Reading tags: 100%|██████████| 3/3 [00:00<00:00, 127.69it/s]"
     ]
    },
    {
     "name": "stdout",
     "output_type": "stream",
     "text": [
      "Loaded 3 TensorBoard runs with 9 scalars and 10 steps each\n"
     ]
    },
    {
     "name": "stderr",
     "output_type": "stream",
     "text": [
      "\n"
     ]
    }
   ],
   "source": [
    "events_out_dir = 'examples/mnist/out/logs/fc/unsup_iPC/greedy_layerwise/784-128_2/encoder_reduced'\n",
    "overwrite = True\n",
    "reduce_ops = (\"mean\", \"min\", \"max\", \"std\")\n",
    "events_dict = tbr.load_tb_events(input_event_dirs, verbose=True)"
   ]
  },
  {
   "cell_type": "code",
   "execution_count": 11,
   "metadata": {},
   "outputs": [
    {
     "name": "stderr",
     "output_type": "stream",
     "text": [
      "Writing mean+std reduction to disk...\n"
     ]
    },
    {
     "name": "stdout",
     "output_type": "stream",
     "text": [
      "Reduced 9 scalars with 4 operations: (mean, min, max, std)\n",
      "Writing 'mean' reduction to 'examples/mnist/out/logs/fc/unsup_iPC/greedy_layerwise/784-128_2/encoder_reduced-mean'\n",
      "Writing 'min' reduction to 'examples/mnist/out/logs/fc/unsup_iPC/greedy_layerwise/784-128_2/encoder_reduced-min'\n",
      "Writing 'max' reduction to 'examples/mnist/out/logs/fc/unsup_iPC/greedy_layerwise/784-128_2/encoder_reduced-max'\n",
      "Writing 'std' reduction to 'examples/mnist/out/logs/fc/unsup_iPC/greedy_layerwise/784-128_2/encoder_reduced-std'\n"
     ]
    },
    {
     "name": "stderr",
     "output_type": "stream",
     "text": [
      "Writing mean-std reduction to disk...\n",
      "Writing max reduction to disk: 100%|██████████| 3/3 [00:08<00:00,  2.72s/it] "
     ]
    },
    {
     "name": "stdout",
     "output_type": "stream",
     "text": [
      "Created new TensorBoard event files in\n",
      "- examples/mnist/out/logs/fc/unsup_iPC/greedy_layerwise/784-128_2/encoder_reduced-mean+std\n",
      "- examples/mnist/out/logs/fc/unsup_iPC/greedy_layerwise/784-128_2/encoder_reduced-mean-std\n",
      "- examples/mnist/out/logs/fc/unsup_iPC/greedy_layerwise/784-128_2/encoder_reduced-mean\n",
      "- examples/mnist/out/logs/fc/unsup_iPC/greedy_layerwise/784-128_2/encoder_reduced-min\n",
      "- examples/mnist/out/logs/fc/unsup_iPC/greedy_layerwise/784-128_2/encoder_reduced-max\n",
      "Reduction complete\n"
     ]
    },
    {
     "name": "stderr",
     "output_type": "stream",
     "text": [
      "\n"
     ]
    }
   ],
   "source": [
    "reduced_events = tbr.reduce_events(events_dict, reduce_ops, verbose=True)\n",
    "\n",
    "for op in reduce_ops:\n",
    "    print(f\"Writing '{op}' reduction to '{events_out_dir}-{op}'\")\n",
    "\n",
    "tbr.write_tb_events(reduced_events, events_out_dir, overwrite=overwrite, verbose=True)\n",
    "\n",
    "print(\"Reduction complete\")"
   ]
  }
 ],
 "metadata": {
  "kernelspec": {
   "display_name": "ml-env",
   "language": "python",
   "name": "python3"
  },
  "language_info": {
   "codemirror_mode": {
    "name": "ipython",
    "version": 3
   },
   "file_extension": ".py",
   "mimetype": "text/x-python",
   "name": "python",
   "nbconvert_exporter": "python",
   "pygments_lexer": "ipython3",
   "version": "3.11.4"
  }
 },
 "nbformat": 4,
 "nbformat_minor": 2
}
