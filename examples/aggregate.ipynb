{
 "cells": [
  {
   "cell_type": "code",
   "execution_count": 6,
   "metadata": {},
   "outputs": [],
   "source": [
    "import shutil\n",
    "from glob import glob\n",
    "import tensorboard_reducer as tbr"
   ]
  },
  {
   "cell_type": "code",
   "execution_count": 17,
   "metadata": {},
   "outputs": [
    {
     "name": "stdout",
     "output_type": "stream",
     "text": [
      "Found 5 event dirs:\n",
      "examples/mnist/out/logs/fc/unsup_iPC/size_w_mom/784-64/encoder\\run 1\n",
      "examples/mnist/out/logs/fc/unsup_iPC/size_w_mom/784-64/encoder\\run 2\n",
      "examples/mnist/out/logs/fc/unsup_iPC/size_w_mom/784-64/encoder\\run 3\n",
      "examples/mnist/out/logs/fc/unsup_iPC/size_w_mom/784-64/encoder\\run 4\n",
      "examples/mnist/out/logs/fc/unsup_iPC/size_w_mom/784-64/encoder\\run 5\n"
     ]
    },
    {
     "name": "stderr",
     "output_type": "stream",
     "text": [
      "Loading runs: 100%|██████████| 5/5 [00:00<00:00,  5.08it/s]\n",
      "Reading tags: 100%|██████████| 5/5 [00:00<00:00, 131.89it/s]\n"
     ]
    },
    {
     "name": "stdout",
     "output_type": "stream",
     "text": [
      "Loaded 5 TensorBoard runs with 9 scalars and 10 steps each\n",
      "Reduced 9 scalars with 4 operations: (mean, min, max, std)\n",
      "Created new data file at 'examples/mnist/out/logs/fc/unsup_iPC/size_w_mom/784-64/encoder/reduction.csv'\n",
      "Reduction complete\n",
      "Found 5 event dirs:\n",
      "examples/mnist/out/logs/fc/unsup_iPC/size_w_mom/784-64/classifier\\run 1\n",
      "examples/mnist/out/logs/fc/unsup_iPC/size_w_mom/784-64/classifier\\run 2\n",
      "examples/mnist/out/logs/fc/unsup_iPC/size_w_mom/784-64/classifier\\run 3\n",
      "examples/mnist/out/logs/fc/unsup_iPC/size_w_mom/784-64/classifier\\run 4\n",
      "examples/mnist/out/logs/fc/unsup_iPC/size_w_mom/784-64/classifier\\run 5\n"
     ]
    },
    {
     "name": "stderr",
     "output_type": "stream",
     "text": [
      "Loading runs: 100%|██████████| 5/5 [00:00<00:00, 116.70it/s]\n",
      "Reading tags: 100%|██████████| 5/5 [00:00<00:00, 704.85it/s]\n"
     ]
    },
    {
     "name": "stdout",
     "output_type": "stream",
     "text": [
      "Loaded 5 TensorBoard runs with 4 scalars and 100 steps each\n",
      "Reduced 4 scalars with 4 operations: (mean, min, max, std)\n",
      "Created new data file at 'examples/mnist/out/logs/fc/unsup_iPC/size_w_mom/784-64/classifier/reduction.csv'\n",
      "Reduction complete\n",
      "Found 5 event dirs:\n",
      "examples/mnist/out/logs/fc/unsup_iPC/size_w_mom/784-128/encoder\\run 1\n",
      "examples/mnist/out/logs/fc/unsup_iPC/size_w_mom/784-128/encoder\\run 2\n",
      "examples/mnist/out/logs/fc/unsup_iPC/size_w_mom/784-128/encoder\\run 3\n",
      "examples/mnist/out/logs/fc/unsup_iPC/size_w_mom/784-128/encoder\\run 4\n",
      "examples/mnist/out/logs/fc/unsup_iPC/size_w_mom/784-128/encoder\\run 5\n"
     ]
    },
    {
     "name": "stderr",
     "output_type": "stream",
     "text": [
      "Loading runs: 100%|██████████| 5/5 [00:01<00:00,  4.41it/s]\n",
      "Reading tags: 100%|██████████| 5/5 [00:00<00:00, 135.67it/s]\n"
     ]
    },
    {
     "name": "stdout",
     "output_type": "stream",
     "text": [
      "Loaded 5 TensorBoard runs with 9 scalars and 10 steps each\n",
      "Reduced 9 scalars with 4 operations: (mean, min, max, std)\n",
      "Created new data file at 'examples/mnist/out/logs/fc/unsup_iPC/size_w_mom/784-128/encoder/reduction.csv'\n",
      "Reduction complete\n",
      "Found 5 event dirs:\n",
      "examples/mnist/out/logs/fc/unsup_iPC/size_w_mom/784-128/classifier\\run 1\n",
      "examples/mnist/out/logs/fc/unsup_iPC/size_w_mom/784-128/classifier\\run 2\n",
      "examples/mnist/out/logs/fc/unsup_iPC/size_w_mom/784-128/classifier\\run 3\n",
      "examples/mnist/out/logs/fc/unsup_iPC/size_w_mom/784-128/classifier\\run 4\n",
      "examples/mnist/out/logs/fc/unsup_iPC/size_w_mom/784-128/classifier\\run 5\n"
     ]
    },
    {
     "name": "stderr",
     "output_type": "stream",
     "text": [
      "Loading runs: 100%|██████████| 5/5 [00:00<00:00, 147.24it/s]\n",
      "Reading tags: 100%|██████████| 5/5 [00:00<00:00, 810.56it/s]\n"
     ]
    },
    {
     "name": "stdout",
     "output_type": "stream",
     "text": [
      "Loaded 5 TensorBoard runs with 4 scalars and 100 steps each\n",
      "Reduced 4 scalars with 4 operations: (mean, min, max, std)\n",
      "Created new data file at 'examples/mnist/out/logs/fc/unsup_iPC/size_w_mom/784-128/classifier/reduction.csv'\n",
      "Reduction complete\n",
      "Found 5 event dirs:\n",
      "examples/mnist/out/logs/fc/unsup_iPC/size_w_mom/784-256/encoder\\run 1\n",
      "examples/mnist/out/logs/fc/unsup_iPC/size_w_mom/784-256/encoder\\run 2\n",
      "examples/mnist/out/logs/fc/unsup_iPC/size_w_mom/784-256/encoder\\run 3\n",
      "examples/mnist/out/logs/fc/unsup_iPC/size_w_mom/784-256/encoder\\run 4\n",
      "examples/mnist/out/logs/fc/unsup_iPC/size_w_mom/784-256/encoder\\run 5\n"
     ]
    },
    {
     "name": "stderr",
     "output_type": "stream",
     "text": [
      "Loading runs: 100%|██████████| 5/5 [00:00<00:00,  5.09it/s]\n",
      "Reading tags: 100%|██████████| 5/5 [00:00<00:00, 142.37it/s]\n"
     ]
    },
    {
     "name": "stdout",
     "output_type": "stream",
     "text": [
      "Loaded 5 TensorBoard runs with 9 scalars and 10 steps each\n",
      "Reduced 9 scalars with 4 operations: (mean, min, max, std)\n",
      "Created new data file at 'examples/mnist/out/logs/fc/unsup_iPC/size_w_mom/784-256/encoder/reduction.csv'\n",
      "Reduction complete\n",
      "Found 5 event dirs:\n",
      "examples/mnist/out/logs/fc/unsup_iPC/size_w_mom/784-256/classifier\\run 1\n",
      "examples/mnist/out/logs/fc/unsup_iPC/size_w_mom/784-256/classifier\\run 2\n",
      "examples/mnist/out/logs/fc/unsup_iPC/size_w_mom/784-256/classifier\\run 3\n",
      "examples/mnist/out/logs/fc/unsup_iPC/size_w_mom/784-256/classifier\\run 4\n",
      "examples/mnist/out/logs/fc/unsup_iPC/size_w_mom/784-256/classifier\\run 5\n"
     ]
    },
    {
     "name": "stderr",
     "output_type": "stream",
     "text": [
      "Loading runs: 100%|██████████| 5/5 [00:00<00:00, 145.94it/s]\n",
      "Reading tags: 100%|██████████| 5/5 [00:00<00:00, 785.30it/s]\n"
     ]
    },
    {
     "name": "stdout",
     "output_type": "stream",
     "text": [
      "Loaded 5 TensorBoard runs with 4 scalars and 100 steps each\n",
      "Reduced 4 scalars with 4 operations: (mean, min, max, std)\n",
      "Created new data file at 'examples/mnist/out/logs/fc/unsup_iPC/size_w_mom/784-256/classifier/reduction.csv'\n",
      "Reduction complete\n",
      "Found 5 event dirs:\n",
      "examples/mnist/out/logs/fc/unsup_iPC/size_w_mom/784-512/encoder\\run 1\n",
      "examples/mnist/out/logs/fc/unsup_iPC/size_w_mom/784-512/encoder\\run 2\n",
      "examples/mnist/out/logs/fc/unsup_iPC/size_w_mom/784-512/encoder\\run 3\n",
      "examples/mnist/out/logs/fc/unsup_iPC/size_w_mom/784-512/encoder\\run 4\n",
      "examples/mnist/out/logs/fc/unsup_iPC/size_w_mom/784-512/encoder\\run 5\n"
     ]
    },
    {
     "name": "stderr",
     "output_type": "stream",
     "text": [
      "Loading runs: 100%|██████████| 5/5 [00:01<00:00,  4.46it/s]\n",
      "Reading tags: 100%|██████████| 5/5 [00:00<00:00, 135.93it/s]\n"
     ]
    },
    {
     "name": "stdout",
     "output_type": "stream",
     "text": [
      "Loaded 5 TensorBoard runs with 9 scalars and 10 steps each\n",
      "Reduced 9 scalars with 4 operations: (mean, min, max, std)\n",
      "Created new data file at 'examples/mnist/out/logs/fc/unsup_iPC/size_w_mom/784-512/encoder/reduction.csv'\n",
      "Reduction complete\n",
      "Found 5 event dirs:\n",
      "examples/mnist/out/logs/fc/unsup_iPC/size_w_mom/784-512/classifier\\run 1\n",
      "examples/mnist/out/logs/fc/unsup_iPC/size_w_mom/784-512/classifier\\run 2\n",
      "examples/mnist/out/logs/fc/unsup_iPC/size_w_mom/784-512/classifier\\run 3\n",
      "examples/mnist/out/logs/fc/unsup_iPC/size_w_mom/784-512/classifier\\run 4\n",
      "examples/mnist/out/logs/fc/unsup_iPC/size_w_mom/784-512/classifier\\run 5\n"
     ]
    },
    {
     "name": "stderr",
     "output_type": "stream",
     "text": [
      "Loading runs: 100%|██████████| 5/5 [00:00<00:00, 144.90it/s]\n",
      "Reading tags: 100%|██████████| 5/5 [00:00<00:00, 833.13it/s]\n"
     ]
    },
    {
     "name": "stdout",
     "output_type": "stream",
     "text": [
      "Loaded 5 TensorBoard runs with 4 scalars and 100 steps each\n",
      "Reduced 4 scalars with 4 operations: (mean, min, max, std)\n",
      "Created new data file at 'examples/mnist/out/logs/fc/unsup_iPC/size_w_mom/784-512/classifier/reduction.csv'\n",
      "Reduction complete\n",
      "Found 5 event dirs:\n",
      "examples/mnist/out/logs/fc/unsup_iPC/size_w_mom/784-1024/encoder\\run 1\n",
      "examples/mnist/out/logs/fc/unsup_iPC/size_w_mom/784-1024/encoder\\run 2\n",
      "examples/mnist/out/logs/fc/unsup_iPC/size_w_mom/784-1024/encoder\\run 3\n",
      "examples/mnist/out/logs/fc/unsup_iPC/size_w_mom/784-1024/encoder\\run 4\n",
      "examples/mnist/out/logs/fc/unsup_iPC/size_w_mom/784-1024/encoder\\run 5\n"
     ]
    },
    {
     "name": "stderr",
     "output_type": "stream",
     "text": [
      "Loading runs: 100%|██████████| 5/5 [00:00<00:00,  5.12it/s]\n",
      "Reading tags: 100%|██████████| 5/5 [00:00<00:00, 134.75it/s]\n"
     ]
    },
    {
     "name": "stdout",
     "output_type": "stream",
     "text": [
      "Loaded 5 TensorBoard runs with 9 scalars and 10 steps each\n",
      "Reduced 9 scalars with 4 operations: (mean, min, max, std)\n",
      "Created new data file at 'examples/mnist/out/logs/fc/unsup_iPC/size_w_mom/784-1024/encoder/reduction.csv'\n",
      "Reduction complete\n",
      "Found 5 event dirs:\n",
      "examples/mnist/out/logs/fc/unsup_iPC/size_w_mom/784-1024/classifier\\run 1\n",
      "examples/mnist/out/logs/fc/unsup_iPC/size_w_mom/784-1024/classifier\\run 2\n",
      "examples/mnist/out/logs/fc/unsup_iPC/size_w_mom/784-1024/classifier\\run 3\n",
      "examples/mnist/out/logs/fc/unsup_iPC/size_w_mom/784-1024/classifier\\run 4\n",
      "examples/mnist/out/logs/fc/unsup_iPC/size_w_mom/784-1024/classifier\\run 5\n"
     ]
    },
    {
     "name": "stderr",
     "output_type": "stream",
     "text": [
      "Loading runs: 100%|██████████| 5/5 [00:00<00:00, 148.36it/s]\n",
      "Reading tags: 100%|██████████| 5/5 [00:00<00:00, 831.58it/s]"
     ]
    },
    {
     "name": "stdout",
     "output_type": "stream",
     "text": [
      "Loaded 5 TensorBoard runs with 4 scalars and 100 steps each\n",
      "Reduced 4 scalars with 4 operations: (mean, min, max, std)\n",
      "Created new data file at 'examples/mnist/out/logs/fc/unsup_iPC/size_w_mom/784-1024/classifier/reduction.csv'\n",
      "Reduction complete\n"
     ]
    },
    {
     "name": "stderr",
     "output_type": "stream",
     "text": [
      "\n"
     ]
    }
   ],
   "source": [
    "for size in [64, 128, 256, 512, 1024]:\n",
    "    for model_type in ['encoder', 'classifier']:\n",
    "        input_event_dirs = sorted(glob(f'examples/mnist/out/logs/fc/unsup_iPC/size_w_mom/784-{size}/{model_type}/*'))\n",
    "        joined_dirs = \"\\n\".join(input_event_dirs)\n",
    "        print(f\"Found {len(input_event_dirs)} event dirs:\\n{joined_dirs}\")\n",
    "\n",
    "        csv_out_dir = f'examples/mnist/out/logs/fc/unsup_iPC/size_w_mom/784-{size}/{model_type}/reduction.csv'\n",
    "        overwrite = True\n",
    "        reduce_ops = (\"mean\", \"min\", \"max\", \"std\")\n",
    "        events_dict = tbr.load_tb_events(input_event_dirs, verbose=True)\n",
    "\n",
    "        reduced_events = tbr.reduce_events(events_dict, reduce_ops, verbose=True)\n",
    "\n",
    "        tbr.write_data_file(reduced_events, csv_out_dir, overwrite=overwrite, verbose=True)\n",
    "\n",
    "        print(\"Reduction complete\")"
   ]
  }
 ],
 "metadata": {
  "kernelspec": {
   "display_name": "ml-env",
   "language": "python",
   "name": "python3"
  },
  "language_info": {
   "codemirror_mode": {
    "name": "ipython",
    "version": 3
   },
   "file_extension": ".py",
   "mimetype": "text/x-python",
   "name": "python",
   "nbconvert_exporter": "python",
   "pygments_lexer": "ipython3",
   "version": "3.11.4"
  }
 },
 "nbformat": 4,
 "nbformat_minor": 2
}
