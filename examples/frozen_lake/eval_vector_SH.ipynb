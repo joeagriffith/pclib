{
 "cells": [
  {
   "cell_type": "code",
   "execution_count": 1,
   "metadata": {},
   "outputs": [],
   "source": [
    "import gymnasium as gym\n",
    "import numpy as np\n",
    "import time\n",
    "from q_learning import QL\n",
    "from tqdm import tqdm\n",
    "\n",
    "import torch\n",
    "import matplotlib.pyplot as plt\n",
    "import torch.nn.functional as F\n",
    "from pclib.nn.models import StochasticHebbian"
   ]
  },
  {
   "cell_type": "code",
   "execution_count": 2,
   "metadata": {},
   "outputs": [],
   "source": [
    "device = torch.device(\"cuda\" if torch.cuda.is_available() else \"cpu\")"
   ]
  },
  {
   "cell_type": "code",
   "execution_count": 3,
   "metadata": {},
   "outputs": [
    {
     "name": "stderr",
     "output_type": "stream",
     "text": [
      "                                                                           \r"
     ]
    },
    {
     "name": "stdout",
     "output_type": "stream",
     "text": [
      "tensor([[ 3.7533e-01,  5.8422e-04,  5.3725e-02, -3.0594e-03],\n",
      "        [ 4.5613e-01,  0.0000e+00,  2.7289e-01,  0.0000e+00],\n",
      "        [ 5.3617e-01,  6.1645e-01,  7.0002e-01,  0.0000e+00],\n",
      "        [ 0.0000e+00,  2.1108e-01,  7.8989e-01,  0.0000e+00]], device='cuda:0',\n",
      "       dtype=torch.float64)\n"
     ]
    }
   ],
   "source": [
    "env = gym.make('FrozenLake-v1', is_slippery=False)\n",
    "ql = QL(env, 0.001, 0.9, epsilon=0.1)\n",
    "ql.train(10000)\n",
    "state_value = torch.tensor(ql.Q.max(1)).to(device)\n",
    "print(state_value.reshape(4,4))"
   ]
  },
  {
   "cell_type": "code",
   "execution_count": 20,
   "metadata": {},
   "outputs": [],
   "source": [
    "seed = 42\n",
    "torch.manual_seed(seed)\n",
    "\n",
    "model = StochasticHebbian(\n",
    "    in_features=16,\n",
    "    out_features=4,\n",
    "    hidden_features=[],\n",
    "    bias=False,\n",
    "    actv_fn=F.tanh,\n",
    "    noise_coeff=0.8,\n",
    "    steps=1,\n",
    ").to(device)\n",
    "model.layers[0].weight.data = torch.zeros_like(model.layers[0].weight.data)\n",
    "\n",
    "def format_obs(obs):\n",
    "    obs = F.one_hot(torch.tensor(obs), num_classes=16).float().to(device)\n",
    "    # baseline = torch.ones_like(obs).to(device) * 0.034\n",
    "    # obs = baseline + (obs * 0.94)\n",
    "    return obs\n",
    "\n",
    "optimiser = torch.optim.AdamW(model.parameters(), lr=0.001, weight_decay=0.2)"
   ]
  },
  {
   "cell_type": "code",
   "execution_count": 5,
   "metadata": {},
   "outputs": [
    {
     "name": "stdout",
     "output_type": "stream",
     "text": [
      "state: 3\n"
     ]
    },
    {
     "data": {
      "text/plain": [
       "(tensor([[0.0928, 0.6640, 0.0644, 0.1788]], device='cuda:0',\n",
       "        grad_fn=<SoftmaxBackward0>),\n",
       " tensor([1], device='cuda:0'))"
      ]
     },
     "execution_count": 5,
     "metadata": {},
     "output_type": "execute_result"
    }
   ],
   "source": [
    "s = env.observation_space.sample()\n",
    "# s = 11\n",
    "print(f\"state: {s}\")\n",
    "obs = format_obs(s).unsqueeze(0)\n",
    "model.noise_coeff = 1.0\n",
    "out, state = model(obs)\n",
    "out, out.argmax(1)"
   ]
  },
  {
   "cell_type": "code",
   "execution_count": 6,
   "metadata": {},
   "outputs": [
    {
     "data": {
      "text/plain": [
       "(tensor([[0., 0., 0., 0., 0., 0., 0., 0., 0., 0., 0., 0., 0., 0., 0., 0.],\n",
       "         [0., 0., 0., 0., 0., 0., 0., 0., 0., 0., 0., 0., 0., 0., 0., 0.],\n",
       "         [0., 0., 0., 0., 0., 0., 0., 0., 0., 0., 0., 0., 0., 0., 0., 0.],\n",
       "         [0., 0., 0., 0., 0., 0., 0., 0., 0., 0., 0., 0., 0., 0., 0., 0.]],\n",
       "        device='cuda:0'),\n",
       " None)"
      ]
     },
     "execution_count": 6,
     "metadata": {},
     "output_type": "execute_result"
    }
   ],
   "source": [
    "model.layers[-1].weight.data, model.layers[-1].bias"
   ]
  },
  {
   "cell_type": "code",
   "execution_count": 7,
   "metadata": {},
   "outputs": [
    {
     "data": {
      "text/plain": [
       "(tensor([[0., 0., 0., 0., 0., 0., 0., 0., 0., 0., 0., 0., 0., 0., 0., 0.],\n",
       "         [0., 0., 0., 0., 0., 0., 0., 0., 0., 0., 0., 0., 0., 0., 0., 0.],\n",
       "         [0., 0., 0., 0., 0., 0., 0., 0., 0., 0., 0., 0., 0., 0., 0., 0.],\n",
       "         [0., 0., 0., 0., 0., 0., 0., 0., 0., 0., 0., 0., 0., 0., 0., 0.]],\n",
       "        device='cuda:0'),\n",
       " None)"
      ]
     },
     "execution_count": 7,
     "metadata": {},
     "output_type": "execute_result"
    }
   ],
   "source": [
    "model.layers[-1].weight.data, model.layers[-1].bias"
   ]
  },
  {
   "cell_type": "code",
   "execution_count": 16,
   "metadata": {},
   "outputs": [
    {
     "data": {
      "text/plain": [
       "torch.Size([64, 4])"
      ]
     },
     "execution_count": 16,
     "metadata": {},
     "output_type": "execute_result"
    }
   ],
   "source": [
    "num_envs = 64\n",
    "# envs = gym.vector.make('FrozenLake-v1', num_envs=num_envs, asynchronous=False, is_slippery=False)\n",
    "envs = gym.make_vec('FrozenLake-v1', num_envs=num_envs, is_slippery=False)\n",
    "obs = format_obs(envs.observation_space.sample())\n",
    "model(obs)[0].shape"
   ]
  },
  {
   "cell_type": "code",
   "execution_count": 21,
   "metadata": {},
   "outputs": [
    {
     "name": "stderr",
     "output_type": "stream",
     "text": [
      "                                                                                                  \r"
     ]
    }
   ],
   "source": [
    "num_epochs = 500\n",
    "final_rewards = []\n",
    "delta_Ers = []\n",
    "loop = tqdm(range(num_epochs), leave=False, total=num_epochs)\n",
    "for epoch in loop:\n",
    "    model.noise_coeff = 1.0 - (epoch / 750)\n",
    "\n",
    "    if epoch > 0:\n",
    "        loop.set_description(f\"Epoch {epoch}/{num_epochs}, Reward: {final_rewards[-1]:.3f}, delta_Er: {delta_Ers[-1]:.3g}\")\n",
    "    state = envs.reset()[0]\n",
    "    total_reward = [0] * num_envs\n",
    "    done = np.array([False] * num_envs)\n",
    "    prev_value = state_value[state]\n",
    "    prev_state = state\n",
    "    step = 0\n",
    "    epoch_deltaErs = []\n",
    "    while not done.all():\n",
    "        step += 1\n",
    "        if step % 300 == 0:\n",
    "            print(f\"{terminated + truncated}, {(terminated + truncated).all()}\")\n",
    "        obs = format_obs(state)\n",
    "        with torch.no_grad():\n",
    "            actions, s = model(obs)\n",
    "            action = actions.argmax(dim=1).cpu().numpy()\n",
    "        # print(s[-1], actions, action)\n",
    "\n",
    "        state, reward, terminated, truncated, _ = envs.step(action)\n",
    "        for i, t in enumerate(terminated):\n",
    "            if t:\n",
    "                total_reward[i] -= 0.2\n",
    "        \n",
    "        value = state_value[state] \n",
    "        total_reward += reward - 0.01\n",
    "        done = done + terminated + truncated\n",
    "\n",
    "        # reward has to be added in this env, because state set to 0 when goal is reached.\n",
    "        # reward simulates state_value[final_state] as it is 1 when goal and 0 elsewhere.\n",
    "        # this implementation will likely be different for other envs.\n",
    "        same_state = prev_state == state\n",
    "        delta_Er = (value - prev_value).float() - (0.5 * torch.tensor(same_state).to(device).float()) + torch.tensor(reward).float().to(device)\n",
    "        epoch_deltaErs.append(delta_Er.mean().item())\n",
    "        optimiser.zero_grad()\n",
    "        model.update_parameters(s, delta_Er)\n",
    "        optimiser.step()\n",
    "\n",
    "        prev_value = value\n",
    "        prev_state = state\n",
    "    final_rewards.append(sum(total_reward) / len(total_reward))\n",
    "    delta_Ers.append(sum(epoch_deltaErs) / len(epoch_deltaErs))\n",
    "\n"
   ]
  },
  {
   "cell_type": "code",
   "execution_count": 72,
   "metadata": {},
   "outputs": [
    {
     "data": {
      "text/plain": [
       "tensor([-3.4422, -3.3547,  3.4564, -3.3930], device='cuda:0')"
      ]
     },
     "execution_count": 72,
     "metadata": {},
     "output_type": "execute_result"
    }
   ],
   "source": [
    "model.layers[-1].weight.data[:,14]"
   ]
  },
  {
   "cell_type": "code",
   "execution_count": 22,
   "metadata": {},
   "outputs": [
    {
     "data": {
      "text/plain": [
       "Text(0.5, 1.0, 'Delta Er')"
      ]
     },
     "execution_count": 22,
     "metadata": {},
     "output_type": "execute_result"
    },
    {
     "name": "stderr",
     "output_type": "stream",
     "text": [
      "c:\\Users\\joeag\\Documents\\venvs\\ml-env\\Lib\\site-packages\\gymnasium\\experimental\\vector\\async_vector_env.py:510: UserWarning: \u001b[33mWARN: Calling `close` while waiting for a pending call to `step` to complete.\u001b[0m\n",
      "  logger.warn(\n"
     ]
    },
    {
     "data": {
      "image/png": "[encoded data removed]",
      "text/plain": [
       "<Figure size 640x480 with 2 Axes>"
      ]
     },
     "metadata": {},
     "output_type": "display_data"
    }
   ],
   "source": [
    "plt.subplot(1, 2, 1)\n",
    "plt.plot(final_rewards)\n",
    "plt.title(\"Final reward\")\n",
    "plt.subplot(1, 2, 2)\n",
    "plt.plot(delta_Ers)\n",
    "plt.title(\"Delta Er\")"
   ]
  },
  {
   "cell_type": "code",
   "execution_count": 23,
   "metadata": {},
   "outputs": [
    {
     "name": "stdout",
     "output_type": "stream",
     "text": [
      "mean reward: 1.0\n"
     ]
    }
   ],
   "source": [
    "# Watch the agent play\n",
    "model.noise_coeff = 0.0\n",
    "env = gym.make('FrozenLake-v1', is_slippery=False, render_mode='human')\n",
    "QL.env = env\n",
    "total_rewards = []\n",
    "for i in range(3):\n",
    "    total_reward = 0.0\n",
    "    state = env.reset()[0]\n",
    "    terminated, truncated = False, False\n",
    "    while not terminated and not truncated:\n",
    "        obs = format_obs(state).unsqueeze(0)\n",
    "        actions, s = model(obs)\n",
    "        action = actions.argmax(dim=1).cpu().numpy()\n",
    "        state, reward, terminated, truncated, _ =env.step(action[0])\n",
    "        total_reward += reward\n",
    "        env.render()\n",
    "        time.sleep(0.2)\n",
    "    total_rewards.append(reward)\n",
    "\n",
    "print(f\"mean reward: {np.array(total_rewards).mean()}\")\n",
    "env.close()"
   ]
  }
 ],
 "metadata": {
  "kernelspec": {
   "display_name": "ml-env",
   "language": "python",
   "name": "python3"
  },
  "language_info": {
   "codemirror_mode": {
    "name": "ipython",
    "version": 3
   },
   "file_extension": ".py",
   "mimetype": "text/x-python",
   "name": "python",
   "nbconvert_exporter": "python",
   "pygments_lexer": "ipython3",
   "version": "3.11.4"
  }
 },
 "nbformat": 4,
 "nbformat_minor": 2
}
