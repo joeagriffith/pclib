{
 "cells": [
  {
   "cell_type": "code",
   "execution_count": 1,
   "metadata": {},
   "outputs": [],
   "source": [
    "import torch\n",
    "import albumentations as A\n",
    "from albumentations.pytorch import ToTensorV2\n",
    "from tqdm import tqdm\n",
    "import torch.nn as nn\n",
    "import torch.optim as optim\n",
    "from pclib.nn.models import UNet\n",
    "from pclib.nn.layers import ConvTranspose2d\n",
    "from examples.carvana.dataset import CarvanaDatasetLoaded, CarvanaDataset\n",
    "from examples.carvana.train import train\n",
    "from examples.carvana.utils import (\n",
    "    load_checkpoint,\n",
    "    save_checkpoint,\n",
    "    get_loaders,\n",
    "    check_accuracy,\n",
    "    save_predictions_as_imgs,\n",
    ")"
   ]
  },
  {
   "cell_type": "code",
   "execution_count": 2,
   "metadata": {},
   "outputs": [],
   "source": [
    "# Hyperparameters etc.\n",
    "LEARNING_RATE = 3e-4\n",
    "DEVICE = \"cuda\" if torch.cuda.is_available() else \"cpu\"\n",
    "BATCH_SIZE = 12\n",
    "NUM_EPOCHS = 10\n",
    "NUM_WORKERS = 2\n",
    "IMAGE_HEIGHT = 160  # 1280 originally\n",
    "IMAGE_WIDTH = 256  # 1918 originally\n",
    "PIN_MEMORY = True\n",
    "LOAD_MODEL = False\n",
    "VAL_RATIO = 0.01\n",
    "IMG_DIR = \"../Datasets/carvana/train/\"\n",
    "MASK_DIR = \"../Datasets/carvana/train_masks/\""
   ]
  },
  {
   "cell_type": "code",
   "execution_count": 3,
   "metadata": {},
   "outputs": [],
   "source": [
    "train_transform = A.Compose([\n",
    "    A.Resize(height=IMAGE_HEIGHT, width=IMAGE_WIDTH),\n",
    "    A.Rotate(limit=35, p=1.0),\n",
    "    A.HorizontalFlip(p=0.5),\n",
    "    A.VerticalFlip(p=0.1),\n",
    "    A.ColorJitter(),\n",
    "    A.GaussNoise(),\n",
    "    A.Normalize(\n",
    "        mean=[0.0, 0.0, 0.0],\n",
    "        std=[1.0, 1.0, 1.0],\n",
    "        max_pixel_value=255.0,\n",
    "    ),\n",
    "    ToTensorV2(),\n",
    "])\n",
    "val_transform = A.Compose([\n",
    "    A.Resize(height=IMAGE_HEIGHT, width=IMAGE_WIDTH),\n",
    "    A.Normalize(\n",
    "        mean=[0.0, 0.0, 0.0],\n",
    "        std=[1.0, 1.0, 1.0],\n",
    "        max_pixel_value=255.0,\n",
    "    ),\n",
    "    ToTensorV2(),\n",
    "])"
   ]
  },
  {
   "cell_type": "code",
   "execution_count": 4,
   "metadata": {},
   "outputs": [],
   "source": [
    "model = UNet(steps=60, device=DEVICE)\n",
    "train_loader, val_loader = get_loaders(\n",
    "    IMG_DIR,\n",
    "    MASK_DIR,\n",
    "    VAL_RATIO,\n",
    "    BATCH_SIZE,\n",
    "    train_transform,\n",
    "    val_transform,\n",
    "    NUM_WORKERS,\n",
    "    PIN_MEMORY,\n",
    ")\n",
    "step = 0\n",
    "stats = None\n",
    "if LOAD_MODEL:\n",
    "    load_checkpoint(torch.load(\"my_checkpoint.pth.tar\"), model)\n"
   ]
  },
  {
   "cell_type": "code",
   "execution_count": 7,
   "metadata": {},
   "outputs": [
    {
     "data": {
      "text/plain": [
       "(torch.Size([12, 1, 160, 256]),\n",
       " tensor(3093.7871, device='cuda:0', grad_fn=<MeanBackward0>))"
      ]
     },
     "execution_count": 7,
     "metadata": {},
     "output_type": "execute_result"
    }
   ],
   "source": [
    "for images, masks in train_loader:\n",
    "    images = images.to(DEVICE)\n",
    "    masks = masks.unsqueeze(1).to(DEVICE)\n",
    "    out, state = model(images, y=masks)\n",
    "    break\n",
    "out.shape, model.vfe(state)"
   ]
  },
  {
   "cell_type": "code",
   "execution_count": 6,
   "metadata": {},
   "outputs": [
    {
     "name": "stderr",
     "output_type": "stream",
     "text": [
      "  5%|▍         | 19/420 [02:17<48:27,  7.25s/it]\n"
     ]
    },
    {
     "ename": "KeyboardInterrupt",
     "evalue": "",
     "output_type": "error",
     "traceback": [
      "\u001b[1;31m---------------------------------------------------------------------------\u001b[0m",
      "\u001b[1;31mKeyboardInterrupt\u001b[0m                         Traceback (most recent call last)",
      "\u001b[1;32mc:\\Users\\joeag\\Documents\\pclib\\examples\\carvana\\run.ipynb Cell 6\u001b[0m line \u001b[0;36m1\n\u001b[1;32m----> <a href='vscode-notebook-cell:/c%3A/Users/joeag/Documents/pclib/examples/carvana/run.ipynb#W4sZmlsZQ%3D%3D?line=0'>1</a>\u001b[0m train(\n\u001b[0;32m      <a href='vscode-notebook-cell:/c%3A/Users/joeag/Documents/pclib/examples/carvana/run.ipynb#W4sZmlsZQ%3D%3D?line=1'>2</a>\u001b[0m     model,\n\u001b[0;32m      <a href='vscode-notebook-cell:/c%3A/Users/joeag/Documents/pclib/examples/carvana/run.ipynb#W4sZmlsZQ%3D%3D?line=2'>3</a>\u001b[0m     train_loader, \n\u001b[0;32m      <a href='vscode-notebook-cell:/c%3A/Users/joeag/Documents/pclib/examples/carvana/run.ipynb#W4sZmlsZQ%3D%3D?line=3'>4</a>\u001b[0m     val_loader, \n\u001b[0;32m      <a href='vscode-notebook-cell:/c%3A/Users/joeag/Documents/pclib/examples/carvana/run.ipynb#W4sZmlsZQ%3D%3D?line=4'>5</a>\u001b[0m     NUM_EPOCHS, \n\u001b[0;32m      <a href='vscode-notebook-cell:/c%3A/Users/joeag/Documents/pclib/examples/carvana/run.ipynb#W4sZmlsZQ%3D%3D?line=5'>6</a>\u001b[0m     lr\u001b[39m=\u001b[39;49mLEARNING_RATE,\n\u001b[0;32m      <a href='vscode-notebook-cell:/c%3A/Users/joeag/Documents/pclib/examples/carvana/run.ipynb#W4sZmlsZQ%3D%3D?line=6'>7</a>\u001b[0m     batch_size\u001b[39m=\u001b[39;49mBATCH_SIZE,\n\u001b[0;32m      <a href='vscode-notebook-cell:/c%3A/Users/joeag/Documents/pclib/examples/carvana/run.ipynb#W4sZmlsZQ%3D%3D?line=7'>8</a>\u001b[0m     reg_coeff\u001b[39m=\u001b[39;49m\u001b[39m0.01\u001b[39;49m,\n\u001b[0;32m      <a href='vscode-notebook-cell:/c%3A/Users/joeag/Documents/pclib/examples/carvana/run.ipynb#W4sZmlsZQ%3D%3D?line=8'>9</a>\u001b[0m     step\u001b[39m=\u001b[39;49mstep,\n\u001b[0;32m     <a href='vscode-notebook-cell:/c%3A/Users/joeag/Documents/pclib/examples/carvana/run.ipynb#W4sZmlsZQ%3D%3D?line=9'>10</a>\u001b[0m     stats\u001b[39m=\u001b[39;49mstats,\n\u001b[0;32m     <a href='vscode-notebook-cell:/c%3A/Users/joeag/Documents/pclib/examples/carvana/run.ipynb#W4sZmlsZQ%3D%3D?line=10'>11</a>\u001b[0m     device\u001b[39m=\u001b[39;49mDEVICE,\n\u001b[0;32m     <a href='vscode-notebook-cell:/c%3A/Users/joeag/Documents/pclib/examples/carvana/run.ipynb#W4sZmlsZQ%3D%3D?line=11'>12</a>\u001b[0m     optim\u001b[39m=\u001b[39;49m\u001b[39m'\u001b[39;49m\u001b[39mAdamW\u001b[39;49m\u001b[39m'\u001b[39;49m,\n\u001b[0;32m     <a href='vscode-notebook-cell:/c%3A/Users/joeag/Documents/pclib/examples/carvana/run.ipynb#W4sZmlsZQ%3D%3D?line=12'>13</a>\u001b[0m     save_every\u001b[39m=\u001b[39;49m\u001b[39mNone\u001b[39;49;00m,\n\u001b[0;32m     <a href='vscode-notebook-cell:/c%3A/Users/joeag/Documents/pclib/examples/carvana/run.ipynb#W4sZmlsZQ%3D%3D?line=13'>14</a>\u001b[0m )\n",
      "File \u001b[1;32mc:\\Users\\joeag\\Documents\\pclib\\examples\\carvana\\train.py:86\u001b[0m, in \u001b[0;36mtrain\u001b[1;34m(model, train_loader, val_loader, epochs, lr, batch_size, reg_coeff, step, stats, device, optim, save_every)\u001b[0m\n\u001b[0;32m     84\u001b[0m \u001b[39m# Forward\u001b[39;00m\n\u001b[0;32m     85\u001b[0m \u001b[39mwith\u001b[39;00m torch\u001b[39m.\u001b[39mcuda\u001b[39m.\u001b[39mamp\u001b[39m.\u001b[39mautocast():\n\u001b[1;32m---> 86\u001b[0m     out, state \u001b[39m=\u001b[39m model(images, y\u001b[39m=\u001b[39;49mtargets)\n\u001b[0;32m     87\u001b[0m     model\u001b[39m.\u001b[39mvfe(state)\u001b[39m.\u001b[39mbackward()\n\u001b[0;32m     89\u001b[0m optimiser\u001b[39m.\u001b[39mstep()\n",
      "File \u001b[1;32mc:\\Users\\joeag\\Documents\\venvs\\ml-env\\Lib\\site-packages\\torch\\nn\\modules\\module.py:1501\u001b[0m, in \u001b[0;36mModule._call_impl\u001b[1;34m(self, *args, **kwargs)\u001b[0m\n\u001b[0;32m   1496\u001b[0m \u001b[39m# If we don't have any hooks, we want to skip the rest of the logic in\u001b[39;00m\n\u001b[0;32m   1497\u001b[0m \u001b[39m# this function, and just call forward.\u001b[39;00m\n\u001b[0;32m   1498\u001b[0m \u001b[39mif\u001b[39;00m \u001b[39mnot\u001b[39;00m (\u001b[39mself\u001b[39m\u001b[39m.\u001b[39m_backward_hooks \u001b[39mor\u001b[39;00m \u001b[39mself\u001b[39m\u001b[39m.\u001b[39m_backward_pre_hooks \u001b[39mor\u001b[39;00m \u001b[39mself\u001b[39m\u001b[39m.\u001b[39m_forward_hooks \u001b[39mor\u001b[39;00m \u001b[39mself\u001b[39m\u001b[39m.\u001b[39m_forward_pre_hooks\n\u001b[0;32m   1499\u001b[0m         \u001b[39mor\u001b[39;00m _global_backward_pre_hooks \u001b[39mor\u001b[39;00m _global_backward_hooks\n\u001b[0;32m   1500\u001b[0m         \u001b[39mor\u001b[39;00m _global_forward_hooks \u001b[39mor\u001b[39;00m _global_forward_pre_hooks):\n\u001b[1;32m-> 1501\u001b[0m     \u001b[39mreturn\u001b[39;00m forward_call(\u001b[39m*\u001b[39;49margs, \u001b[39m*\u001b[39;49m\u001b[39m*\u001b[39;49mkwargs)\n\u001b[0;32m   1502\u001b[0m \u001b[39m# Do not call functions when jit is used\u001b[39;00m\n\u001b[0;32m   1503\u001b[0m full_backward_hooks, non_full_backward_hooks \u001b[39m=\u001b[39m [], []\n",
      "File \u001b[1;32mc:\\Users\\joeag\\Documents\\pclib\\pclib\\nn\\models\\UNet.py:210\u001b[0m, in \u001b[0;36mUNet.forward\u001b[1;34m(self, obs, y, steps)\u001b[0m\n\u001b[0;32m    208\u001b[0m \u001b[39mfor\u001b[39;00m i \u001b[39min\u001b[39;00m \u001b[39mrange\u001b[39m(steps):\n\u001b[0;32m    209\u001b[0m     temp \u001b[39m=\u001b[39m \u001b[39mself\u001b[39m\u001b[39m.\u001b[39mcalc_temp(i, steps)\n\u001b[1;32m--> 210\u001b[0m     \u001b[39mself\u001b[39;49m\u001b[39m.\u001b[39;49mstep(state, obs, y, temp)\n\u001b[0;32m    212\u001b[0m out \u001b[39m=\u001b[39m \u001b[39mself\u001b[39m\u001b[39m.\u001b[39mget_output(state)\n\u001b[0;32m    214\u001b[0m \u001b[39mreturn\u001b[39;00m out, state\n",
      "File \u001b[1;32mc:\\Users\\joeag\\Documents\\pclib\\pclib\\nn\\models\\UNet.py:127\u001b[0m, in \u001b[0;36mUNet.step\u001b[1;34m(self, state, obs, y, temp)\u001b[0m\n\u001b[0;32m    124\u001b[0m             pred \u001b[39m=\u001b[39m module\u001b[39m.\u001b[39mpredict(state[i])\n\u001b[0;32m    126\u001b[0m \u001b[39m# print(\"vfe before: \", self.vfe(state))\u001b[39;00m\n\u001b[1;32m--> 127\u001b[0m \u001b[39mself\u001b[39;49m\u001b[39m.\u001b[39;49mvfe(state)\u001b[39m.\u001b[39;49mbackward(retain_graph\u001b[39m=\u001b[39;49m\u001b[39mTrue\u001b[39;49;00m)\n\u001b[0;32m    128\u001b[0m \u001b[39m# for i, layer in enumerate(self.layers):\u001b[39;00m\n\u001b[0;32m    129\u001b[0m \u001b[39m#     if state[i]['x'].requires_grad:\u001b[39;00m\n\u001b[0;32m    130\u001b[0m \u001b[39m#         has_grad = state[i]['x'].grad is not None\u001b[39;00m\n\u001b[0;32m    131\u001b[0m \u001b[39m#         print(f\"layer {i} has grad: \", has_grad)\u001b[39;00m\n\u001b[0;32m    133\u001b[0m \u001b[39mfor\u001b[39;00m i, module \u001b[39min\u001b[39;00m \u001b[39menumerate\u001b[39m(\u001b[39mself\u001b[39m\u001b[39m.\u001b[39mencoder \u001b[39m+\u001b[39m \u001b[39mself\u001b[39m\u001b[39m.\u001b[39mbottleneck \u001b[39m+\u001b[39m \u001b[39mself\u001b[39m\u001b[39m.\u001b[39mdecoder \u001b[39m+\u001b[39m \u001b[39mself\u001b[39m\u001b[39m.\u001b[39mfinal):\n",
      "File \u001b[1;32mc:\\Users\\joeag\\Documents\\venvs\\ml-env\\Lib\\site-packages\\torch\\_tensor.py:487\u001b[0m, in \u001b[0;36mTensor.backward\u001b[1;34m(self, gradient, retain_graph, create_graph, inputs)\u001b[0m\n\u001b[0;32m    477\u001b[0m \u001b[39mif\u001b[39;00m has_torch_function_unary(\u001b[39mself\u001b[39m):\n\u001b[0;32m    478\u001b[0m     \u001b[39mreturn\u001b[39;00m handle_torch_function(\n\u001b[0;32m    479\u001b[0m         Tensor\u001b[39m.\u001b[39mbackward,\n\u001b[0;32m    480\u001b[0m         (\u001b[39mself\u001b[39m,),\n\u001b[1;32m   (...)\u001b[0m\n\u001b[0;32m    485\u001b[0m         inputs\u001b[39m=\u001b[39minputs,\n\u001b[0;32m    486\u001b[0m     )\n\u001b[1;32m--> 487\u001b[0m torch\u001b[39m.\u001b[39;49mautograd\u001b[39m.\u001b[39;49mbackward(\n\u001b[0;32m    488\u001b[0m     \u001b[39mself\u001b[39;49m, gradient, retain_graph, create_graph, inputs\u001b[39m=\u001b[39;49minputs\n\u001b[0;32m    489\u001b[0m )\n",
      "File \u001b[1;32mc:\\Users\\joeag\\Documents\\venvs\\ml-env\\Lib\\site-packages\\torch\\autograd\\__init__.py:200\u001b[0m, in \u001b[0;36mbackward\u001b[1;34m(tensors, grad_tensors, retain_graph, create_graph, grad_variables, inputs)\u001b[0m\n\u001b[0;32m    195\u001b[0m     retain_graph \u001b[39m=\u001b[39m create_graph\n\u001b[0;32m    197\u001b[0m \u001b[39m# The reason we repeat same the comment below is that\u001b[39;00m\n\u001b[0;32m    198\u001b[0m \u001b[39m# some Python versions print out the first line of a multi-line function\u001b[39;00m\n\u001b[0;32m    199\u001b[0m \u001b[39m# calls in the traceback and some print out the last line\u001b[39;00m\n\u001b[1;32m--> 200\u001b[0m Variable\u001b[39m.\u001b[39;49m_execution_engine\u001b[39m.\u001b[39;49mrun_backward(  \u001b[39m# Calls into the C++ engine to run the backward pass\u001b[39;49;00m\n\u001b[0;32m    201\u001b[0m     tensors, grad_tensors_, retain_graph, create_graph, inputs,\n\u001b[0;32m    202\u001b[0m     allow_unreachable\u001b[39m=\u001b[39;49m\u001b[39mTrue\u001b[39;49;00m, accumulate_grad\u001b[39m=\u001b[39;49m\u001b[39mTrue\u001b[39;49;00m)\n",
      "\u001b[1;31mKeyboardInterrupt\u001b[0m: "
     ]
    }
   ],
   "source": [
    "train(\n",
    "    model,\n",
    "    train_loader, \n",
    "    val_loader, \n",
    "    NUM_EPOCHS, \n",
    "    lr=LEARNING_RATE,\n",
    "    batch_size=BATCH_SIZE,\n",
    "    reg_coeff=0.01,\n",
    "    step=step,\n",
    "    stats=stats,\n",
    "    device=DEVICE,\n",
    "    optim='AdamW',\n",
    "    save_every=None,\n",
    ")"
   ]
  },
  {
   "cell_type": "code",
   "execution_count": null,
   "metadata": {},
   "outputs": [],
   "source": []
  },
  {
   "cell_type": "markdown",
   "metadata": {},
   "source": []
  }
 ],
 "metadata": {
  "kernelspec": {
   "display_name": "ml-env",
   "language": "python",
   "name": "python3"
  },
  "language_info": {
   "codemirror_mode": {
    "name": "ipython",
    "version": 3
   },
   "file_extension": ".py",
   "mimetype": "text/x-python",
   "name": "python",
   "nbconvert_exporter": "python",
   "pygments_lexer": "ipython3",
   "version": "3.11.4"
  }
 },
 "nbformat": 4,
 "nbformat_minor": 2
}
