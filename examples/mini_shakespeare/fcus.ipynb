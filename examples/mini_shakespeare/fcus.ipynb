{
 "cells": [
  {
   "cell_type": "code",
   "execution_count": 3,
   "metadata": {},
   "outputs": [],
   "source": [
    "import torch\n",
    "import torch.nn.functional as F\n",
    "import torchvision.datasets as datasets\n",
    "import torchvision.transforms as transforms\n",
    "from torch.utils.data import Dataset\n",
    "%matplotlib inline\n",
    "\n",
    "from pclib.nn.models import FCClassifierUs\n",
    "from pclib.optim.train import train\n",
    "from pclib.optim.eval import track_vfe, accuracy\n",
    "from pclib.utils.customdataset import PreloadedDataset"
   ]
  },
  {
   "cell_type": "code",
   "execution_count": 4,
   "metadata": {},
   "outputs": [
    {
     "data": {
      "text/plain": [
       "device(type='cuda', index=0)"
      ]
     },
     "execution_count": 4,
     "metadata": {},
     "output_type": "execute_result"
    }
   ],
   "source": [
    "device = torch.device(\"cuda:0\" if torch.cuda.is_available() else \"cpu\")\n",
    "device"
   ]
  },
  {
   "cell_type": "code",
   "execution_count": 5,
   "metadata": {},
   "outputs": [],
   "source": [
    "with open('../Datasets/mini_shakespeare.txt', 'r', encoding='utf8') as f:\n",
    "    text = f.read()\n",
    "chars = sorted(list(set(text)))\n",
    "stoi = {c: i+1 for i, c in enumerate(chars)}\n",
    "itos = {i+1: c for i, c in enumerate(chars)}\n",
    "encode = lambda x: [stoi[ch] for ch in x]\n",
    "decode = lambda x: ''.join([itos[i] for i in x])"
   ]
  },
  {
   "cell_type": "code",
   "execution_count": 6,
   "metadata": {},
   "outputs": [],
   "source": [
    "BATCH_SIZE = 64\n",
    "BLOCK_SIZE = 32"
   ]
  },
  {
   "cell_type": "code",
   "execution_count": 7,
   "metadata": {},
   "outputs": [],
   "source": [
    "class CustomDataset(Dataset):\n",
    "    def __init__(self, data):\n",
    "        self.data = data\n",
    "    def __len__(self):\n",
    "        return 500\n",
    "    def __getitem__(self):\n",
    "        hi_idx = torch.randint(1, len(self.data), (1,)).item()\n",
    "        lo_idx = max(0, hi_idx - BLOCK_SIZE)\n",
    "        x = self.data[lo_idx:hi_idx]\n",
    "        y = self.data[hi_idx]\n",
    "        return x, y\n",
    "    def apply_transform(self):\n",
    "        pass\n",
    "\n",
    "split1 = int(len(words) * 0.8)\n",
    "split2 = int(len(words) * 0.9)\n",
    "\n",
    "\n",
    "import random\n",
    "seed = 42\n",
    "random.seed(seed)\n",
    "random.shuffle(words)\n",
    "\n",
    "Xs, Ys = BuildDataset(words, device)\n",
    "train_dataset = CustomDataset(Xs[:split1], Ys[:split1])\n",
    "val_dataset = CustomDataset(Xs[split1:split2], Ys[split1:split2])\n",
    "test_dataset = CustomDataset(Xs[split2:], Ys[split2:])"
   ]
  },
  {
   "cell_type": "code",
   "execution_count": 8,
   "metadata": {},
   "outputs": [],
   "source": [
    "INPUT_SHAPE = BLOCK_SIZE\n",
    "NUM_CLASSES = vocab_len\n",
    "torch.manual_seed(42)\n",
    "\n",
    "model_name = 'FCClUs-BS5'\n",
    "model = FCClassifierUs(\n",
    "    in_features = INPUT_SHAPE, \n",
    "    num_classes = NUM_CLASSES,\n",
    "    hidden_sizes = [200, 200],\n",
    "    bias=True, \n",
    "    symmetric=True, \n",
    "    precision_weighted=False,\n",
    "    actv_fn=F.tanh,\n",
    "    steps=100,\n",
    "    gamma=0.34,\n",
    "    ).to(device)"
   ]
  },
  {
   "cell_type": "code",
   "execution_count": 9,
   "metadata": {},
   "outputs": [
    {
     "name": "stderr",
     "output_type": "stream",
     "text": [
      "                                                                                                             \r"
     ]
    }
   ],
   "source": [
    "NUM_EPOCHS = 10\n",
    "BATCH_SIZE = 256\n",
    "\n",
    "log_dir = f'examples/names/logs/{model_name}'\n",
    "\n",
    "train(\n",
    "    model, \n",
    "    train_dataset, \n",
    "    val_dataset, \n",
    "    NUM_EPOCHS, \n",
    "    lr=0.001,\n",
    "    c_lr=0.0,\n",
    "    batch_size=BATCH_SIZE,\n",
    "    reg_coeff=0.02,\n",
    "    optim='AdamW',\n",
    "    save_best=False,\n",
    "    log_dir=log_dir,\n",
    ")\n",
    "NUM_EPOCHS = 5\n",
    "train(\n",
    "    model, \n",
    "    train_dataset, \n",
    "    val_dataset, \n",
    "    NUM_EPOCHS, \n",
    "    lr=0.0001,\n",
    "    c_lr=0.01,\n",
    "    batch_size=BATCH_SIZE,\n",
    "    reg_coeff=0.02,\n",
    "    optim='AdamW',\n",
    "    save_best=False,\n",
    "    log_dir=log_dir,\n",
    ")"
   ]
  },
  {
   "cell_type": "code",
   "execution_count": null,
   "metadata": {},
   "outputs": [],
   "source": []
  }
 ],
 "metadata": {
  "kernelspec": {
   "display_name": "ml-env",
   "language": "python",
   "name": "python3"
  },
  "language_info": {
   "codemirror_mode": {
    "name": "ipython",
    "version": 3
   },
   "file_extension": ".py",
   "mimetype": "text/x-python",
   "name": "python",
   "nbconvert_exporter": "python",
   "pygments_lexer": "ipython3",
   "version": "3.11.4"
  }
 },
 "nbformat": 4,
 "nbformat_minor": 2
}
