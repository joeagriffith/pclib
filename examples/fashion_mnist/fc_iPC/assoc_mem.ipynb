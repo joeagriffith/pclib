{
 "cells": [
  {
   "cell_type": "code",
   "execution_count": 89,
   "metadata": {},
   "outputs": [],
   "source": [
    "import torch\n",
    "import torch.nn.functional as F\n",
    "import torchvision.datasets as datasets\n",
    "import torchvision.transforms as transforms\n",
    "import matplotlib.pyplot as plt\n",
    "%matplotlib inline\n",
    "import os\n",
    "\n",
    "from pclib.nn.models import FCPCN\n",
    "from pclib.optim.eval import track_vfe, accuracy\n",
    "from pclib.utils.functional import format_y, identity, shrinkage\n",
    "from pclib.utils.customdataset import PreloadedDataset\n",
    "from tqdm import tqdm\n",
    "from pclib.optim.train import val_pass"
   ]
  },
  {
   "cell_type": "code",
   "execution_count": 90,
   "metadata": {},
   "outputs": [
    {
     "data": {
      "text/plain": [
       "device(type='cuda')"
      ]
     },
     "execution_count": 90,
     "metadata": {},
     "output_type": "execute_result"
    }
   ],
   "source": [
    "seed = 42\n",
    "# For reproducibility\n",
    "os.environ['CUBLAS_WORKSPACE_CONFIG'] = ':4096:8'\n",
    "device = torch.device('cuda' if torch.cuda.is_available() else 'cpu')\n",
    "device"
   ]
  },
  {
   "cell_type": "code",
   "execution_count": 91,
   "metadata": {},
   "outputs": [
    {
     "name": "stderr",
     "output_type": "stream",
     "text": [
      "                                       \r"
     ]
    }
   ],
   "source": [
    "torch.manual_seed(seed)\n",
    "\n",
    "# Scale img transform\n",
    "class Scale(object):\n",
    "    def __init__(self, scale_factor):\n",
    "        self.scale_factor = scale_factor\n",
    "\n",
    "    def __call__(self, img):\n",
    "        return img * self.scale_factor + 0.5 * (1 - self.scale_factor)\n",
    "\n",
    "# Inverse Logistic Sigmoid Transform\n",
    "class InvLogit(object):\n",
    "    def __call__(self, x):\n",
    "        return torch.log(x / (1 - x))\n",
    "\n",
    "train_transform = transforms.Compose([\n",
    "    transforms.ToTensor(),\n",
    "    # Scale(0.9),\n",
    "    # InvLogit(),\n",
    "    # transforms.RandomAffine(degrees=10, translate=(0.1, 0.1), scale=(0.9, 1.1)),                                \n",
    "    # transforms.Normalize((0.1307,), (0.3081,)),\n",
    "])\n",
    "\n",
    "val_transform = transforms.Compose([\n",
    "    transforms.ToTensor(),\n",
    "    # Scale(0.9),\n",
    "    # InvLogit(),\n",
    "    # transforms.Normalize((0.1307,), (0.3081,)),\n",
    "])\n",
    "\n",
    "dataset = datasets.MNIST('../Datasets/', train=True, download=False, transform=transforms.ToTensor())\n",
    "dataset = torch.utils.data.Subset(dataset, range(100))\n",
    "train_dataset = PreloadedDataset.from_dataset(dataset, train_transform, device)\n",
    "INPUT_SHAPE = 784\n",
    "NUM_CLASSES = 10"
   ]
  },
  {
   "cell_type": "code",
   "execution_count": 94,
   "metadata": {},
   "outputs": [
    {
     "data": {
      "image/png": "[encoded data removed]",
      "text/plain": [
       "<Figure size 1500x500 with 10 Axes>"
      ]
     },
     "metadata": {},
     "output_type": "display_data"
    },
    {
     "name": "stdout",
     "output_type": "stream",
     "text": [
      "Max value:  tensor(1., device='cuda:0')\n",
      "Min value:  tensor(0., device='cuda:0')\n"
     ]
    }
   ],
   "source": [
    "# Show some images\n",
    "fig, axes = plt.subplots(1, 10, figsize=(15, 5))\n",
    "for i, ax in enumerate(axes):\n",
    "    img, label = train_dataset[i]\n",
    "    ax.imshow(img.squeeze().cpu(), cmap='gray')\n",
    "    ax.axis('off')\n",
    "plt.show()\n",
    "\n",
    "# print max min values\n",
    "print('Max value: ', train_dataset.transformed_images.max())\n",
    "print('Min value: ', train_dataset.transformed_images.min())"
   ]
  },
  {
   "cell_type": "code",
   "execution_count": 95,
   "metadata": {},
   "outputs": [],
   "source": [
    "def train(\n",
    "        model,\n",
    "        BATCH_SIZE,\n",
    "        NUM_EPOCHS,\n",
    "        train_dataset,\n",
    "        val_dataset,\n",
    "        optimiser,\n",
    "        scheduler,\n",
    "        stats,\n",
    "        eval_every=500,\n",
    "):\n",
    "    # Init data\n",
    "    trainX = train_dataset.transformed_images.flatten(1).reshape(-1, BATCH_SIZE, INPUT_SHAPE)\n",
    "    if val_dataset is not None:\n",
    "        valLoader = torch.utils.data.DataLoader(val_dataset, batch_size=128, shuffle=False)\n",
    "\n",
    "    # Init particles\n",
    "    train_states = [model.init_state(x) for x in trainX]\n",
    "    # neg_states = [model.init_state(x) for x in trainX]\n",
    "\n",
    "    # Init trackers\n",
    "    if stats is None:\n",
    "        stats = {\n",
    "            'epoch': 0,\n",
    "            'trainVfe': [],\n",
    "            'negVfe': [],\n",
    "            'valVfe': [],\n",
    "            'valAcc': [],\n",
    "        }\n",
    "\n",
    "    gamma = torch.ones(BATCH_SIZE).to(device) * 0.5\n",
    "\n",
    "    for i in range(NUM_EPOCHS):\n",
    "\n",
    "        # Epoch stats\n",
    "        epochTrainVfes = []\n",
    "        epochNegVfes = []\n",
    "\n",
    "        # TQDM loop\n",
    "        loop = tqdm(range(len(train_states)), leave=False)\n",
    "        loop.set_description('Epoch [{}/{}]'.format(i, NUM_EPOCHS))\n",
    "        if stats['epoch'] > 0:\n",
    "            loop.set_postfix({'steps': i, 'trainVFE': stats['trainVfe'][-1]})#, 'valVFE': stats['valVfe'][-1]})#, 'negVFE': stats['negVfe'][-1]})#, 'valVFE': stats['valVfe'][-1], 'valAcc': stats['valAcc'][-1]})\n",
    "\n",
    "        # Iterate over all batches\n",
    "        for batch_idx in loop:\n",
    "            # Update positive and negative particles\n",
    "            model.step(train_states[batch_idx], gamma, pin_obs=True, temp=0.0)\n",
    "            # model.step(neg_states[batch_idx], temp=0.0, gamma=0.5)\n",
    "\n",
    "            # Compute positive and negative VFEs\n",
    "            train_vfe = model.vfe(train_states[batch_idx])\n",
    "            # neg_vfe = model.vfe(neg_states[batch_idx])\n",
    "\n",
    "            # Update model parameters\n",
    "            optimiser.zero_grad()\n",
    "            loss = train_vfe\n",
    "            # loss = train_vfe / train_vfe.item() # <--- Without negative particles\n",
    "            # loss = train_vfe / train_vfe.item() - neg_vfe / neg_vfe.item() # <--- With negative particles\n",
    "            loss.backward()\n",
    "            optimiser.step()\n",
    "\n",
    "            # Track batch stats\n",
    "            epochTrainVfes.append(train_vfe.item())\n",
    "            # epochNegVfes.append(neg_vfe.item())\n",
    "\n",
    "        # Track epoch stats\n",
    "        stats['trainVfe'].append(torch.tensor(epochTrainVfes).mean().item())\n",
    "        # stats['negVfe'].append(torch.tensor(epochNegVfes).mean())\n",
    "\n",
    "        # Update learning rate\n",
    "        if scheduler is not None:\n",
    "            scheduler.step(stats['trainVfe'][-1])\n",
    "\n",
    "        # Validation pass\n",
    "        if i % eval_every == 0 and val_dataset is not None:\n",
    "            val_results = val_pass(model, valLoader, True, False, None)\n",
    "            stats['valVfe'].append(val_results['vfe'].item())\n",
    "            stats['valAcc'].append(val_results['acc'].item())\n",
    "            # neg_states = [model.init_state(x) for x in trainX]\n",
    "            # negY = format_y((train_dataset.targets + torch.randint_like(train_dataset.targets, 1, 9)) %10, NUM_CLASSES).reshape(-1, BATCH_SIZE, NUM_CLASSES)\n",
    "        \n",
    "        stats['epoch'] += 1\n",
    "    \n",
    "    return stats"
   ]
  },
  {
   "cell_type": "code",
   "execution_count": 96,
   "metadata": {},
   "outputs": [],
   "source": [
    "torch.manual_seed(seed)\n",
    "\n",
    "model_name = 'original'\n",
    "model = FCPCN(\n",
    "    sizes=[INPUT_SHAPE, 600, 600],\n",
    "    bias=True, \n",
    "    symmetric=True, \n",
    "    # actv_fn=F.sigmoid,\n",
    "    actv_fn=F.relu,\n",
    "    # actv_fn=shrinkage,\n",
    "    steps=20,\n",
    "    gamma=0.2,\n",
    "    temp_k=0.0,\n",
    "    x_decay=0.0,\n",
    ").to(device)\n",
    "stats = None\n",
    "optimiser = torch.optim.AdamW(model.parameters(), lr=0.00001, weight_decay=0.02)\n",
    "scheduler = torch.optim.lr_scheduler.ReduceLROnPlateau(optimiser, patience=200, factor=0.5, verbose=True, threshold=1e-9, min_lr=1e-6)"
   ]
  },
  {
   "cell_type": "code",
   "execution_count": 98,
   "metadata": {},
   "outputs": [
    {
     "name": "stderr",
     "output_type": "stream",
     "text": [
      "                                                                                       \r"
     ]
    },
    {
     "name": "stdout",
     "output_type": "stream",
     "text": [
      "Epoch 05663: reducing learning rate of group 0 to 5.0000e-06.\n"
     ]
    },
    {
     "name": "stderr",
     "output_type": "stream",
     "text": [
      "                                                                                       \r"
     ]
    },
    {
     "name": "stdout",
     "output_type": "stream",
     "text": [
      "Epoch 07033: reducing learning rate of group 0 to 2.5000e-06.\n"
     ]
    },
    {
     "name": "stderr",
     "output_type": "stream",
     "text": [
      "                                                                                       \r"
     ]
    },
    {
     "name": "stdout",
     "output_type": "stream",
     "text": [
      "Epoch 08302: reducing learning rate of group 0 to 1.2500e-06.\n"
     ]
    },
    {
     "name": "stderr",
     "output_type": "stream",
     "text": [
      "                                                                                          \r"
     ]
    },
    {
     "name": "stdout",
     "output_type": "stream",
     "text": [
      "Epoch 14043: reducing learning rate of group 0 to 1.0000e-06.\n"
     ]
    },
    {
     "name": "stderr",
     "output_type": "stream",
     "text": [
      "                                                                                          \r"
     ]
    }
   ],
   "source": [
    "BATCH_SIZE = 100\n",
    "NUM_EPOCHS = 20000\n",
    "stats = train(\n",
    "    model,\n",
    "    BATCH_SIZE,\n",
    "    NUM_EPOCHS,\n",
    "    train_dataset,\n",
    "    None,\n",
    "    optimiser,\n",
    "    scheduler,\n",
    "    stats,\n",
    "    25,\n",
    ")"
   ]
  },
  {
   "cell_type": "code",
   "execution_count": 103,
   "metadata": {},
   "outputs": [
    {
     "data": {
      "image/png": "[encoded data removed]",
      "text/plain": [
       "<Figure size 1500x500 with 10 Axes>"
      ]
     },
     "metadata": {},
     "output_type": "display_data"
    }
   ],
   "source": [
    "trainX = train_dataset.transformed_images.flatten(1).reshape(-1, INPUT_SHAPE)\n",
    "img = trainX[0].unsqueeze(0).clone()\n",
    "# img += torch.randn_like(img) * 0.1\n",
    "img[torch.rand_like(img) < 0.3] = 0.0\n",
    "\n",
    "# Plot the first 1st digit after multiple steps\n",
    "fig, axes = plt.subplots(1, 10, figsize=(15, 5))\n",
    "for i, ax in enumerate(axes):\n",
    "    ax.imshow(img.cpu().detach().reshape(28, 28), cmap='gray')\n",
    "    img, _ = model.reconstruct(img, steps=500)\n",
    "    ax.axis('off')"
   ]
  },
  {
   "cell_type": "code",
   "execution_count": 88,
   "metadata": {},
   "outputs": [
    {
     "data": {
      "image/png": "[encoded data removed]",
      "text/plain": [
       "<Figure size 640x480 with 1 Axes>"
      ]
     },
     "metadata": {},
     "output_type": "display_data"
    }
   ],
   "source": [
    "plt.plot(stats['trainVfe'])\n",
    "plt.yscale('log')"
   ]
  }
 ],
 "metadata": {
  "kernelspec": {
   "display_name": "ml-env",
   "language": "python",
   "name": "python3"
  },
  "language_info": {
   "codemirror_mode": {
    "name": "ipython",
    "version": 3
   },
   "file_extension": ".py",
   "mimetype": "text/x-python",
   "name": "python",
   "nbconvert_exporter": "python",
   "pygments_lexer": "ipython3",
   "version": "3.11.4"
  },
  "orig_nbformat": 4
 },
 "nbformat": 4,
 "nbformat_minor": 2
}
