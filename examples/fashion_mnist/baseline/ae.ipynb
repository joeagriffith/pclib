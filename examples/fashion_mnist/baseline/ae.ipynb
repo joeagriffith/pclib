{
 "cells": [
  {
   "cell_type": "code",
   "execution_count": 1,
   "metadata": {},
   "outputs": [],
   "source": [
    "import torch\n",
    "import torch.nn as nn\n",
    "import torch.nn.functional as F\n",
    "import torchvision.datasets as datasets\n",
    "import torchvision.transforms as transforms\n",
    "from pclib.utils.customdataset import PreloadedDataset\n",
    "import os\n",
    "import matplotlib.pyplot as plt\n",
    "%matplotlib inline  \n",
    "from torch.utils.tensorboard import SummaryWriter\n",
    "from tqdm import tqdm"
   ]
  },
  {
   "cell_type": "code",
   "execution_count": 2,
   "metadata": {},
   "outputs": [
    {
     "data": {
      "text/plain": [
       "device(type='cuda')"
      ]
     },
     "execution_count": 2,
     "metadata": {},
     "output_type": "execute_result"
    }
   ],
   "source": [
    "seed = 42\n",
    "os.environ['CUBLAS_WORKSPACE_CONFIG'] = ':4096:8'\n",
    "device = torch.device('cuda' if torch.cuda.is_available() else 'cpu')\n",
    "device"
   ]
  },
  {
   "cell_type": "code",
   "execution_count": 3,
   "metadata": {},
   "outputs": [
    {
     "name": "stderr",
     "output_type": "stream",
     "text": [
      "  0%|          | 0/48000 [00:00<?, ?it/s]"
     ]
    },
    {
     "name": "stderr",
     "output_type": "stream",
     "text": [
      "                                                        \r"
     ]
    }
   ],
   "source": [
    "torch.manual_seed(seed)\n",
    "\n",
    "train_transform = transforms.Compose([\n",
    "    transforms.ToTensor(),\n",
    "    transforms.RandomAffine(degrees=10, translate=(0.1, 0.1), scale=(0.9, 1.1)),                                \n",
    "    transforms.Normalize((0.1307,), (0.3081,)),\n",
    "])\n",
    "\n",
    "val_transform = transforms.Compose([\n",
    "    transforms.ToTensor(),\n",
    "    # InvTanhTransform(),\n",
    "    transforms.Normalize((0.1307,), (0.3081,)),\n",
    "    # SigmoidTransform(),\n",
    "    # TanhTransform(a=2.0),\n",
    "    # TanhTransform(a=1.0, b=1.0, c=0.5),\n",
    "])\n",
    "\n",
    "dataset = datasets.MNIST('../Datasets/', train=True, download=False, transform=transforms.ToTensor())\n",
    "\n",
    "VAL_RATIO = 0.2\n",
    "val_len = int(len(dataset) * VAL_RATIO)\n",
    "train_len = len(dataset) - val_len\n",
    "train_dataset, val_dataset = torch.utils.data.random_split(dataset, [train_len, val_len])\n",
    "train_dataset = PreloadedDataset.from_dataset(train_dataset, train_transform, device)\n",
    "val_dataset = PreloadedDataset.from_dataset(val_dataset, val_transform, device)\n",
    "\n",
    "INPUT_SHAPE = 784\n",
    "NUM_CLASSES = 10"
   ]
  },
  {
   "cell_type": "code",
   "execution_count": 32,
   "metadata": {},
   "outputs": [],
   "source": [
    "def test(\n",
    "    model,\n",
    "    criterion,\n",
    "    test_loader,\n",
    "):\n",
    "    model.eval()\n",
    "    test_loss = 0\n",
    "    with torch.no_grad():\n",
    "        for data, _ in test_loader:\n",
    "            data = data.view(-1, 784).to(device)\n",
    "            output = model(data)\n",
    "            test_loss += criterion(output, data).item()\n",
    "\n",
    "    test_loss /= len(test_loader.dataset)\n",
    "    return test_loss\n",
    "\n",
    "def train(\n",
    "    model,\n",
    "    model_name,\n",
    "    optimiser,\n",
    "    criterion,\n",
    "    train_loader,\n",
    "    val_loader,\n",
    "    num_epochs=10,\n",
    "    device=device,\n",
    "    step=0,\n",
    "    track=False,\n",
    "):\n",
    "    if track:\n",
    "        writer = SummaryWriter(f\"examples/mnist/logs/autoencoder/{model_name}\")\n",
    "    train_losses = []\n",
    "    val_losses = []\n",
    "\n",
    "    scheduler = torch.optim.lr_scheduler.ReduceLROnPlateau(optimiser, 'min', patience=5, verbose=True)\n",
    "\n",
    "    for epoch in range(num_epochs):\n",
    "        epoch_loss = 0\n",
    "        train_dataset.apply_transform()\n",
    "        model.train()\n",
    "\n",
    "        loop = tqdm(enumerate(train_loader), total=len(train_loader), leave=False)\n",
    "        for batch_idx, (data, target) in loop:\n",
    "            data = data.view(-1, 784).to(device)\n",
    "            optimiser.zero_grad()\n",
    "            output = model(data)\n",
    "            loss = criterion(output, data)\n",
    "            epoch_loss += loss.item()\n",
    "            loss.backward()\n",
    "            optimiser.step()\n",
    "            if batch_idx == 0:\n",
    "\n",
    "                torch.save(model.state_dict(), f\"{model_name}.pth\")\n",
    "                val_loss = test(model, criterion, val_loader)\n",
    "                model.train()\n",
    "\n",
    "            #  TQDM bar update\n",
    "            if epoch > 0 and batch_idx > 0:\n",
    "                loop.set_description(f\"Epoch [{epoch}/{num_epochs}]\")\n",
    "                loop.set_postfix(\n",
    "                    train_loss = train_losses[-1],\n",
    "                    val_loss = val_losses[-1], \n",
    "                )\n",
    "\n",
    "        train_losses.append(epoch_loss / len(train_loader.dataset))\n",
    "        val_losses.append(val_loss)\n",
    "        scheduler.step(val_loss)\n",
    "        step += 1\n",
    "            \n",
    "        if track:\n",
    "            writer.add_scalar(\"Loss/train\", train_losses[-1], step)\n",
    "            writer.add_scalar(\"Loss/val\", val_losses[-1], step)\n",
    "    return train_losses, val_losses, step"
   ]
  },
  {
   "cell_type": "code",
   "execution_count": 38,
   "metadata": {},
   "outputs": [],
   "source": [
    "class AutoEncoder(torch.nn.Module):\n",
    "    def __init__(self, bias=True):\n",
    "        super().__init__()\n",
    "        self.layers = nn.ModuleList([\n",
    "            nn.Linear(INPUT_SHAPE, 200, bias=bias),\n",
    "            nn.Linear(200, 128, bias=bias),\n",
    "            nn.Linear(128, 200, bias=bias),\n",
    "            nn.Linear(200, INPUT_SHAPE, bias=bias),\n",
    "        ])\n",
    "        self.actv_fn = F.relu\n",
    "    \n",
    "    def train(self, mode=True):\n",
    "        self.actv_fn = lambda x: x * (x > 0.2).float()\n",
    "        # self.actv_fn = F.relu\n",
    "    \n",
    "    def eval(self):\n",
    "        self.actv_fn = F.relu\n",
    "        \n",
    "    def forward(self, x):\n",
    "        for i, layer in enumerate(self.layers):\n",
    "            x = layer(x)\n",
    "            if i < len(self.layers) - 1:\n",
    "                x = self.actv_fn(x)\n",
    "            else:\n",
    "                x = torch.sigmoid(x)\n",
    "        return x"
   ]
  },
  {
   "cell_type": "code",
   "execution_count": 39,
   "metadata": {},
   "outputs": [],
   "source": [
    "torch.manual_seed(seed)\n",
    "\n",
    "model_name = f\"same_arch_zae0.2-nobias\"\n",
    "model = AutoEncoder(bias=False).to(device)\n",
    "optimiser = torch.optim.Adam(model.parameters(), lr=1e-4, weight_decay=1e-5)\n",
    "criterion = nn.MSELoss()\n",
    "step = 0"
   ]
  },
  {
   "cell_type": "code",
   "execution_count": 40,
   "metadata": {},
   "outputs": [
    {
     "name": "stderr",
     "output_type": "stream",
     "text": [
      "                                                                                                       \r"
     ]
    }
   ],
   "source": [
    "NUM_EPOCHS = 50\n",
    "BATCH_SIZE = 100\n",
    "train_loader = torch.utils.data.DataLoader(train_dataset, batch_size=BATCH_SIZE, shuffle=True)\n",
    "val_loader = torch.utils.data.DataLoader(val_dataset, batch_size=BATCH_SIZE, shuffle=True)\n",
    "train_losses, val_losses, step = train(\n",
    "    model,\n",
    "    model_name,\n",
    "    optimiser,\n",
    "    criterion,\n",
    "    train_loader,\n",
    "    val_loader,\n",
    "    num_epochs=NUM_EPOCHS,\n",
    "    device=device,\n",
    "    step=step,\n",
    "    track=True,\n",
    ")"
   ]
  },
  {
   "cell_type": "code",
   "execution_count": 25,
   "metadata": {},
   "outputs": [
    {
     "name": "stdout",
     "output_type": "stream",
     "text": [
      "min val loss: 0.0048512300203243895\n",
      "min train loss: 0.004952254397173722\n"
     ]
    },
    {
     "data": {
      "image/png": "[encoded data removed]",
      "text/plain": [
       "<Figure size 640x480 with 1 Axes>"
      ]
     },
     "metadata": {},
     "output_type": "display_data"
    }
   ],
   "source": [
    "# plot em all\n",
    "print(\"min val loss:\", min(val_losses))\n",
    "print(\"min train loss:\", min(train_losses))\n",
    "plt.plot(train_losses, label=\"train\", color=\"blue\")\n",
    "plt.plot(val_losses, label=\"val\", color=\"orange\")\n",
    "plt.legend()\n",
    "plt.yscale(\"log\")\n",
    "plt.show()"
   ]
  }
 ],
 "metadata": {
  "kernelspec": {
   "display_name": "ml-env",
   "language": "python",
   "name": "python3"
  },
  "language_info": {
   "codemirror_mode": {
    "name": "ipython",
    "version": 3
   },
   "file_extension": ".py",
   "mimetype": "text/x-python",
   "name": "python",
   "nbconvert_exporter": "python",
   "pygments_lexer": "ipython3",
   "version": "3.11.4"
  },
  "orig_nbformat": 4
 },
 "nbformat": 4,
 "nbformat_minor": 2
}
