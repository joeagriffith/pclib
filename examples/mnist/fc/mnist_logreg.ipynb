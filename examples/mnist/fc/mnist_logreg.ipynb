{
 "cells": [
  {
   "cell_type": "code",
   "execution_count": 2,
   "metadata": {},
   "outputs": [],
   "source": [
    "import torch\n",
    "import torchvision.datasets as datasets\n",
    "import torchvision.transforms as transforms\n",
    "from pclib.utils.customdataset import PreloadedDataset\n",
    "from torch.utils.tensorboard import SummaryWriter\n",
    "from tqdm import tqdm"
   ]
  },
  {
   "cell_type": "code",
   "execution_count": 2,
   "metadata": {},
   "outputs": [
    {
     "data": {
      "text/plain": [
       "device(type='cuda')"
      ]
     },
     "execution_count": 2,
     "metadata": {},
     "output_type": "execute_result"
    }
   ],
   "source": [
    "device = torch.device('cuda' if torch.cuda.is_available() else 'cpu')\n",
    "device"
   ]
  },
  {
   "cell_type": "code",
   "execution_count": 3,
   "metadata": {},
   "outputs": [],
   "source": [
    "class LogReg(torch.nn.Module):\n",
    "    def __init__(self, input_size, output_size):\n",
    "        super(LogReg, self).__init__()\n",
    "        self.prelin = torch.nn.Linear(784, input_size, bias=False)\n",
    "        self.linear = torch.nn.Linear(input_size, output_size)\n",
    "        \n",
    "    def forward(self, x):\n",
    "        # x = pc(x).detach()\n",
    "        with torch.no_grad():\n",
    "            x = self.prelin(x)\n",
    "        return self.linear(x)\n",
    "\n",
    "# U1 = torch.nn.Linear(24, 784, bias=False)\n",
    "# U1.to(device)\n"
   ]
  },
  {
   "cell_type": "code",
   "execution_count": 4,
   "metadata": {},
   "outputs": [
    {
     "name": "stderr",
     "output_type": "stream",
     "text": [
      "  0%|          | 0/54000 [00:00<?, ?it/s]"
     ]
    },
    {
     "name": "stderr",
     "output_type": "stream",
     "text": [
      "                                                        \r"
     ]
    }
   ],
   "source": [
    "VAL_RATIO = 0.1\n",
    "# transform = transforms.Compose([\n",
    "#     transforms.RandomHorizontalFlip(),\n",
    "#     transforms.RandomAffine(degrees=10, translate=(0.1, 0.1), scale=(0.9, 1.1)),                                \n",
    "# ])\n",
    "transform = transforms.ToTensor()\n",
    "\n",
    "dataset = datasets.MNIST('../Datasets/', train=True, download=False, transform=transforms.ToTensor())\n",
    "# shorten dataset\n",
    "# length = 100\n",
    "# dataset = torch.utils.data.Subset(dataset, range(length))\n",
    "val_len = int(len(dataset) * VAL_RATIO)\n",
    "train_len = len(dataset) - val_len\n",
    "train_dataset, val_dataset = torch.utils.data.random_split(dataset, [train_len, val_len])\n",
    "train_dataset = PreloadedDataset.from_dataset(train_dataset, transform, device)\n",
    "val_dataset = PreloadedDataset.from_dataset(val_dataset, transforms.ToTensor(), device)\n",
    "INPUT_SHAPE = 784\n",
    "NUM_CLASSES = 10"
   ]
  },
  {
   "cell_type": "code",
   "execution_count": 5,
   "metadata": {},
   "outputs": [],
   "source": [
    "BATCH_SIZE = 128\n",
    "\n",
    "train_loader = torch.utils.data.DataLoader(train_dataset, batch_size=BATCH_SIZE, shuffle=True)\n",
    "val_loader = torch.utils.data.DataLoader(val_dataset, batch_size=BATCH_SIZE, shuffle=False)"
   ]
  },
  {
   "cell_type": "code",
   "execution_count": 6,
   "metadata": {},
   "outputs": [],
   "source": [
    "seed = 42\n",
    "torch.manual_seed(seed)\n",
    "\n",
    "INPUT_SHAPE = 256\n",
    "model_name = f\"mnist_linear_pre-lin{INPUT_SHAPE}\"\n",
    "LEARNING_RATE = 0.0001\n",
    "model = LogReg(INPUT_SHAPE, NUM_CLASSES).to(device)\n",
    "optimiser = torch.optim.Adam(model.parameters(), lr=LEARNING_RATE)\n",
    "criterion = torch.nn.CrossEntropyLoss()\n",
    "step = 0"
   ]
  },
  {
   "cell_type": "code",
   "execution_count": 7,
   "metadata": {},
   "outputs": [],
   "source": [
    "def test(\n",
    "    model,\n",
    "    criterion,\n",
    "    test_loader,\n",
    "):\n",
    "    model.eval()\n",
    "    test_loss = 0\n",
    "    correct = 0\n",
    "    with torch.no_grad():\n",
    "        for data, target in test_loader:\n",
    "            data = data.view(-1, 784).to(device)\n",
    "            output = model(data)\n",
    "            test_loss += criterion(output, target).item()\n",
    "            pred = output.argmax(dim=1, keepdim=True)\n",
    "            correct += pred.eq(target.view_as(pred)).sum().item()\n",
    "\n",
    "    test_loss /= len(test_loader.dataset)\n",
    "    test_acc = correct / len(test_loader.dataset)\n",
    "    return test_loss, test_acc\n",
    "\n",
    "def train(\n",
    "    model,\n",
    "    optimiser,\n",
    "    criterion,\n",
    "    train_loader,\n",
    "    val_loader,\n",
    "    num_epochs=10,\n",
    "    device=device,\n",
    "    model_name=model_name,\n",
    "    step=step,\n",
    "):\n",
    "    writer = SummaryWriter(f\"mnist/out/logs/{model_name}\")\n",
    "    train_losses = []\n",
    "    val_losses = []\n",
    "    val_accs = []\n",
    "\n",
    "    model.train()\n",
    "    for epoch in range(num_epochs):\n",
    "        epoch_loss = 0\n",
    "\n",
    "        loop = tqdm(enumerate(train_loader), total=len(train_loader), leave=False)\n",
    "        for batch_idx, (data, target) in loop:\n",
    "            data = data.view(-1, 784).to(device)\n",
    "            optimiser.zero_grad()\n",
    "            output = model(data)\n",
    "            loss = criterion(output, target)\n",
    "            epoch_loss += loss.item()\n",
    "            loss.backward()\n",
    "            optimiser.step()\n",
    "            step += 1\n",
    "            if batch_idx == 0:\n",
    "\n",
    "                torch.save(model.state_dict(), f\"{model_name}.pth\")\n",
    "                val_loss, val_acc = test(model, criterion, val_loader)\n",
    "                model.train()\n",
    "\n",
    "            #  TQDM bar update\n",
    "            if epoch > 0 and batch_idx > 0:\n",
    "                loop.set_description(f\"Epoch [{epoch}/{num_epochs}]\")\n",
    "                loop.set_postfix(\n",
    "                    train_loss = train_losses[-1],\n",
    "                    val_loss = val_losses[-1], \n",
    "                    val_acc = val_accs[-1],\n",
    "                )\n",
    "\n",
    "        train_losses.append(epoch_loss / len(train_loader.dataset))\n",
    "        val_losses.append(val_loss)\n",
    "        val_accs.append(val_acc)\n",
    "            \n",
    "        writer.add_scalar(\"Loss/train\", train_losses[-1], step)\n",
    "        writer.add_scalar(\"Loss/val\", val_losses[-1], step)\n",
    "        writer.add_scalar(\"Accuracy/val\", val_accs[-1], step)\n",
    "    return train_losses, val_losses, val_accs, step"
   ]
  },
  {
   "cell_type": "code",
   "execution_count": 8,
   "metadata": {},
   "outputs": [
    {
     "name": "stderr",
     "output_type": "stream",
     "text": [
      "                                                                                                                  \r"
     ]
    }
   ],
   "source": [
    "NUM_EPOCHS = 5\n",
    "train_losses, val_losses, val_accs, step = train(\n",
    "    model,\n",
    "    optimiser,\n",
    "    criterion,\n",
    "    train_loader,\n",
    "    val_loader,\n",
    "    num_epochs=NUM_EPOCHS,\n",
    "    device=device,\n",
    "    model_name=model_name,\n",
    "    step=step,\n",
    ")"
   ]
  },
  {
   "cell_type": "code",
   "execution_count": 9,
   "metadata": {},
   "outputs": [
    {
     "data": {
      "image/png": "[encoded data removed]",
      "text/plain": [
       "<Figure size 640x480 with 1 Axes>"
      ]
     },
     "metadata": {},
     "output_type": "display_data"
    },
    {
     "name": "stdout",
     "output_type": "stream",
     "text": [
      "min val loss: 0.009579485694567362\n",
      "min train loss: 0.008992450765989445\n"
     ]
    },
    {
     "data": {
      "image/png": "[encoded data removed]",
      "text/plain": [
       "<Figure size 640x480 with 1 Axes>"
      ]
     },
     "metadata": {},
     "output_type": "display_data"
    },
    {
     "name": "stdout",
     "output_type": "stream",
     "text": [
      "max val acc: 0.7943333333333333\n"
     ]
    }
   ],
   "source": [
    "# plot em all\n",
    "import matplotlib.pyplot as plt\n",
    "plt.plot(train_losses, label=\"train\", color=\"blue\")\n",
    "plt.plot(val_losses, label=\"val\", color=\"orange\")\n",
    "plt.legend()\n",
    "plt.show()\n",
    "\n",
    "# print mins\n",
    "print(\"min val loss:\", min(val_losses))\n",
    "print(\"min train loss:\", min(train_losses))\n",
    "\n",
    "plt.plot(val_accs, label=\"val\", color=\"orange\")\n",
    "plt.legend()\n",
    "plt.show()\n",
    "\n",
    "#print maxes\n",
    "print(\"max val acc:\", max(val_accs))"
   ]
  }
 ],
 "metadata": {
  "kernelspec": {
   "display_name": "ml-env",
   "language": "python",
   "name": "python3"
  },
  "language_info": {
   "codemirror_mode": {
    "name": "ipython",
    "version": 3
   },
   "file_extension": ".py",
   "mimetype": "text/x-python",
   "name": "python",
   "nbconvert_exporter": "python",
   "pygments_lexer": "ipython3",
   "version": "3.11.4"
  },
  "orig_nbformat": 4
 },
 "nbformat": 4,
 "nbformat_minor": 2
}
