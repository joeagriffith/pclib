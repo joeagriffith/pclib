{
 "cells": [
  {
   "cell_type": "code",
   "execution_count": 1,
   "metadata": {},
   "outputs": [],
   "source": [
    "import torch\n",
    "import torch.nn.functional as F\n",
    "import torch.nn as nn\n",
    "import torchvision.datasets as datasets\n",
    "import torchvision.transforms as transforms\n",
    "import matplotlib.pyplot as plt\n",
    "%matplotlib inline\n",
    "import os\n",
    "\n",
    "from pclib.nn.models import FCDPCN, Classifier, FCPCN\n",
    "from pclib.nn.layers import DFC\n",
    "from pclib.optim.eval import track_vfe, accuracy\n",
    "from pclib.utils.functional import format_y, identity, shrinkage\n",
    "from pclib.utils.customdataset import PreloadedDataset\n",
    "from tqdm import tqdm\n",
    "from pclib.optim.train_DeepiPC import train_iPC, val_pass, train_iPC_classifier"
   ]
  },
  {
   "cell_type": "code",
   "execution_count": 2,
   "metadata": {},
   "outputs": [
    {
     "data": {
      "text/plain": [
       "device(type='cuda')"
      ]
     },
     "execution_count": 2,
     "metadata": {},
     "output_type": "execute_result"
    }
   ],
   "source": [
    "seed = 42\n",
    "# For reproducibility\n",
    "# os.environ['CUBLAS_WORKSPACE_CONFIG'] = ':4096:8'\n",
    "torch.backends.cudnn.deterministic = True\n",
    "device = torch.device('cuda' if torch.cuda.is_available() else 'cpu')\n",
    "device"
   ]
  },
  {
   "cell_type": "code",
   "execution_count": 3,
   "metadata": {},
   "outputs": [
    {
     "name": "stderr",
     "output_type": "stream",
     "text": [
      "                                                        \r"
     ]
    }
   ],
   "source": [
    "torch.manual_seed(seed)\n",
    "\n",
    "train_transform = transforms.Compose([\n",
    "    transforms.ToTensor(),\n",
    "    # transforms.RandomAffine(degrees=10, translate=(0.1, 0.1), scale=(0.9, 1.1)),                                \n",
    "    # transforms.Normalize((0.1307,), (0.3081,)),\n",
    "])\n",
    "\n",
    "val_transform = transforms.Compose([\n",
    "    transforms.ToTensor(),\n",
    "    # transforms.Normalize((0.1307,), (0.3081,)),\n",
    "])\n",
    "\n",
    "dataset = datasets.MNIST('../Datasets/', train=True, download=False, transform=transforms.ToTensor())\n",
    "\n",
    "VAL_RATIO = 0.2\n",
    "val_len = int(len(dataset) * VAL_RATIO)\n",
    "train_len = len(dataset) - val_len\n",
    "train_dataset, val_dataset = torch.utils.data.random_split(dataset, [train_len, val_len])\n",
    "train_dataset = PreloadedDataset.from_dataset(train_dataset, train_transform, device)\n",
    "val_dataset = PreloadedDataset.from_dataset(val_dataset, val_transform, device)\n",
    "\n",
    "INPUT_SHAPE = 784\n",
    "NUM_CLASSES = 10"
   ]
  },
  {
   "cell_type": "code",
   "execution_count": 4,
   "metadata": {},
   "outputs": [
    {
     "data": {
      "image/png": "[encoded data removed]",
      "text/plain": [
       "<Figure size 1500x500 with 10 Axes>"
      ]
     },
     "metadata": {},
     "output_type": "display_data"
    },
    {
     "name": "stdout",
     "output_type": "stream",
     "text": [
      "Max value:  tensor(1., device='cuda:0')\n",
      "Min value:  tensor(0., device='cuda:0')\n"
     ]
    }
   ],
   "source": [
    "# Show some images\n",
    "fig, axes = plt.subplots(1, 10, figsize=(15, 5))\n",
    "for i, ax in enumerate(axes):\n",
    "    img, label = train_dataset[i]\n",
    "    ax.imshow(img.squeeze().cpu(), cmap='gray')\n",
    "    ax.axis('off')\n",
    "plt.show()\n",
    "\n",
    "# print max min values\n",
    "print('Max value: ', train_dataset.transformed_images.max())\n",
    "print('Min value: ', train_dataset.transformed_images.min())"
   ]
  },
  {
   "cell_type": "code",
   "execution_count": 10,
   "metadata": {},
   "outputs": [
    {
     "name": "stdout",
     "output_type": "stream",
     "text": [
      "Initial VFE: 45.1286, Final VFE: 42.0816\n"
     ]
    },
    {
     "data": {
      "text/plain": [
       "[<matplotlib.lines.Line2D at 0x1d44d928650>]"
      ]
     },
     "execution_count": 10,
     "metadata": {},
     "output_type": "execute_result"
    },
    {
     "data": {
      "image/png": "[encoded data removed]",
      "text/plain": [
       "<Figure size 640x480 with 1 Axes>"
      ]
     },
     "metadata": {},
     "output_type": "display_data"
    }
   ],
   "source": [
    "model = FCDPCN(\n",
    "    # sizes=[INPUT_SHAPE, 1024, 512, 512],\n",
    "    # precisions=[-9999, 4.0, 2.0, 7.0],\n",
    "    sizes=[INPUT_SHAPE, 128],\n",
    "    precisions=[1.0, 1.0],\n",
    "    bias=True, \n",
    "    symmetric=True,\n",
    "    actv_fn=F.relu,\n",
    "    steps=250,\n",
    "    gamma=0.001,\n",
    "    x_decay=0.0,\n",
    "    dropout=0.0,\n",
    "    has_top=False,\n",
    ").to(device)\n",
    "\n",
    "x = train_dataset.transformed_images.flatten(1)\n",
    "gamma = torch.ones(x.shape[0], device=device) * model.gamma\n",
    "state, x_optimiser = model.init_state(x, pin_obs=True)\n",
    "\n",
    "vfes = []\n",
    "for _ in range(1000):\n",
    "    model.step(state, x_optimiser, gamma)\n",
    "    with torch.no_grad():\n",
    "        vfes.append(model.vfe(state).item())\n",
    "\n",
    "print(f'Initial VFE: {vfes[0]:.4f}, Final VFE: {vfes[-1]:.4f}')\n",
    "plt.plot(vfes)"
   ]
  },
  {
   "cell_type": "code",
   "execution_count": 11,
   "metadata": {},
   "outputs": [
    {
     "name": "stderr",
     "output_type": "stream",
     "text": [
      "                                                                                 \r"
     ]
    },
    {
     "ename": "KeyboardInterrupt",
     "evalue": "",
     "output_type": "error",
     "traceback": [
      "\u001b[1;31m---------------------------------------------------------------------------\u001b[0m",
      "\u001b[1;31mKeyboardInterrupt\u001b[0m                         Traceback (most recent call last)",
      "Cell \u001b[1;32mIn[11], line 8\u001b[0m\n\u001b[0;32m      6\u001b[0m log_dir\u001b[38;5;241m=\u001b[39m\u001b[38;5;28;01mNone\u001b[39;00m\n\u001b[0;32m      7\u001b[0m model_dir \u001b[38;5;241m=\u001b[39m \u001b[38;5;28;01mNone\u001b[39;00m\n\u001b[1;32m----> 8\u001b[0m \u001b[43mtrain_iPC\u001b[49m\u001b[43m(\u001b[49m\n\u001b[0;32m      9\u001b[0m \u001b[43m    \u001b[49m\u001b[43mmodel\u001b[49m\u001b[38;5;241;43m=\u001b[39;49m\u001b[43mmodel\u001b[49m\u001b[43m,\u001b[49m\n\u001b[0;32m     10\u001b[0m \u001b[43m    \u001b[49m\u001b[43msupervised\u001b[49m\u001b[38;5;241;43m=\u001b[39;49m\u001b[38;5;28;43;01mFalse\u001b[39;49;00m\u001b[43m,\u001b[49m\n\u001b[0;32m     11\u001b[0m \u001b[43m    \u001b[49m\u001b[43mtrain_data\u001b[49m\u001b[38;5;241;43m=\u001b[39;49m\u001b[43mtrain_dataset\u001b[49m\u001b[43m,\u001b[49m\n\u001b[0;32m     12\u001b[0m \u001b[43m    \u001b[49m\u001b[43mval_data\u001b[49m\u001b[38;5;241;43m=\u001b[39;49m\u001b[43mval_dataset\u001b[49m\u001b[43m,\u001b[49m\n\u001b[0;32m     13\u001b[0m \u001b[43m    \u001b[49m\u001b[43mnum_epochs\u001b[49m\u001b[38;5;241;43m=\u001b[39;49m\u001b[43mNUM_EPOCHS\u001b[49m\u001b[43m,\u001b[49m\n\u001b[0;32m     14\u001b[0m \u001b[43m    \u001b[49m\u001b[43meval_every\u001b[49m\u001b[38;5;241;43m=\u001b[39;49m\u001b[38;5;241;43m250\u001b[39;49m\u001b[43m,\u001b[49m\n\u001b[0;32m     15\u001b[0m \u001b[43m    \u001b[49m\u001b[43mlr\u001b[49m\u001b[38;5;241;43m=\u001b[39;49m\u001b[38;5;241;43m0.001\u001b[39;49m\u001b[43m,\u001b[49m\n\u001b[0;32m     16\u001b[0m \u001b[43m    \u001b[49m\u001b[43mbatch_size\u001b[49m\u001b[38;5;241;43m=\u001b[39;49m\u001b[43mBATCH_SIZE\u001b[49m\u001b[43m,\u001b[49m\n\u001b[0;32m     17\u001b[0m \u001b[43m    \u001b[49m\u001b[43mreg_coeff\u001b[49m\u001b[38;5;241;43m=\u001b[39;49m\u001b[38;5;241;43m0.02\u001b[39;49m\u001b[43m,\u001b[49m\n\u001b[0;32m     18\u001b[0m \u001b[43m    \u001b[49m\u001b[43mflatten\u001b[49m\u001b[38;5;241;43m=\u001b[39;49m\u001b[38;5;28;43;01mTrue\u001b[39;49;00m\u001b[43m,\u001b[49m\n\u001b[0;32m     19\u001b[0m \u001b[43m    \u001b[49m\u001b[43mneg_coeff\u001b[49m\u001b[38;5;241;43m=\u001b[39;49m\u001b[38;5;28;43;01mNone\u001b[39;49;00m\u001b[43m,\u001b[49m\n\u001b[0;32m     20\u001b[0m \u001b[43m    \u001b[49m\u001b[43mcd_coeff\u001b[49m\u001b[38;5;241;43m=\u001b[39;49m\u001b[38;5;28;43;01mNone\u001b[39;49;00m\u001b[43m,\u001b[49m\n\u001b[0;32m     21\u001b[0m \u001b[43m    \u001b[49m\u001b[43mcd_steps\u001b[49m\u001b[38;5;241;43m=\u001b[39;49m\u001b[38;5;241;43m1\u001b[39;49m\u001b[43m,\u001b[49m\n\u001b[0;32m     22\u001b[0m \u001b[43m    \u001b[49m\u001b[43mlog_dir\u001b[49m\u001b[38;5;241;43m=\u001b[39;49m\u001b[43mlog_dir\u001b[49m\u001b[43m,\u001b[49m\n\u001b[0;32m     23\u001b[0m \u001b[43m    \u001b[49m\u001b[43mmodel_dir\u001b[49m\u001b[38;5;241;43m=\u001b[39;49m\u001b[43mmodel_dir\u001b[49m\u001b[43m,\u001b[49m\n\u001b[0;32m     24\u001b[0m \u001b[43m    \u001b[49m\u001b[43mminimal_stats\u001b[49m\u001b[38;5;241;43m=\u001b[39;49m\u001b[38;5;28;43;01mFalse\u001b[39;49;00m\u001b[43m,\u001b[49m\n\u001b[0;32m     25\u001b[0m \u001b[43m    \u001b[49m\u001b[43massert_grads\u001b[49m\u001b[38;5;241;43m=\u001b[39;49m\u001b[38;5;28;43;01mFalse\u001b[39;49;00m\u001b[43m,\u001b[49m\n\u001b[0;32m     26\u001b[0m \u001b[43m    \u001b[49m\u001b[43moptim\u001b[49m\u001b[38;5;241;43m=\u001b[39;49m\u001b[38;5;124;43m'\u001b[39;49m\u001b[38;5;124;43mAdamW\u001b[39;49m\u001b[38;5;124;43m'\u001b[39;49m\u001b[43m,\u001b[49m\n\u001b[0;32m     27\u001b[0m \u001b[43m    \u001b[49m\u001b[43mscheduler\u001b[49m\u001b[38;5;241;43m=\u001b[39;49m\u001b[38;5;28;43;01mNone\u001b[39;49;00m\u001b[43m,\u001b[49m\n\u001b[0;32m     28\u001b[0m \u001b[43m    \u001b[49m\u001b[43mno_momentum\u001b[49m\u001b[38;5;241;43m=\u001b[39;49m\u001b[38;5;28;43;01mFalse\u001b[39;49;00m\u001b[43m,\u001b[49m\n\u001b[0;32m     29\u001b[0m \u001b[43m    \u001b[49m\u001b[43mnorm_grads\u001b[49m\u001b[38;5;241;43m=\u001b[39;49m\u001b[38;5;28;43;01mFalse\u001b[39;49;00m\u001b[43m,\u001b[49m\n\u001b[0;32m     30\u001b[0m \u001b[43m    \u001b[49m\u001b[43mnorm_weights\u001b[49m\u001b[38;5;241;43m=\u001b[39;49m\u001b[38;5;28;43;01mFalse\u001b[39;49;00m\u001b[43m,\u001b[49m\n\u001b[0;32m     31\u001b[0m \u001b[43m    \u001b[49m\u001b[43mlearn_layer\u001b[49m\u001b[38;5;241;43m=\u001b[39;49m\u001b[38;5;28;43;01mNone\u001b[39;49;00m\u001b[43m,\u001b[49m\n\u001b[0;32m     32\u001b[0m \u001b[43m)\u001b[49m\n\u001b[0;32m     33\u001b[0m \u001b[38;5;66;03m# train_iPC_classifier(\u001b[39;00m\n\u001b[0;32m     34\u001b[0m \u001b[38;5;66;03m#     model,\u001b[39;00m\n\u001b[0;32m     35\u001b[0m \u001b[38;5;66;03m#     classifier,\u001b[39;00m\n\u001b[1;32m   (...)\u001b[0m\n\u001b[0;32m     45\u001b[0m \u001b[38;5;66;03m#     scheduler=None,\u001b[39;00m\n\u001b[0;32m     46\u001b[0m \u001b[38;5;66;03m# )\u001b[39;00m\n",
      "File \u001b[1;32mc:\\Users\\joeag\\Documents\\pclib\\pclib\\optim\\train_DeepiPC.py:391\u001b[0m, in \u001b[0;36mtrain_iPC\u001b[1;34m(model, supervised, train_data, val_data, num_epochs, eval_every, lr, batch_size, reg_coeff, flatten, neg_coeff, cd_coeff, cd_steps, log_dir, model_dir, minimal_stats, assert_grads, optim, scheduler, no_momentum, norm_grads, norm_weights, learn_layer)\u001b[0m\n\u001b[0;32m    389\u001b[0m \u001b[38;5;66;03m# Collects statistics for validation data if it exists\u001b[39;00m\n\u001b[0;32m    390\u001b[0m \u001b[38;5;28;01mif\u001b[39;00m val_data \u001b[38;5;129;01mis\u001b[39;00m \u001b[38;5;129;01mnot\u001b[39;00m \u001b[38;5;28;01mNone\u001b[39;00m \u001b[38;5;129;01mand\u001b[39;00m epoch \u001b[38;5;241m%\u001b[39m eval_every \u001b[38;5;241m==\u001b[39m \u001b[38;5;241m0\u001b[39m:\n\u001b[1;32m--> 391\u001b[0m     val_results \u001b[38;5;241m=\u001b[39m \u001b[43mval_pass\u001b[49m\u001b[43m(\u001b[49m\u001b[43mmodel\u001b[49m\u001b[43m,\u001b[49m\u001b[43m \u001b[49m\u001b[43mval_loader\u001b[49m\u001b[43m,\u001b[49m\u001b[43m \u001b[49m\u001b[43mflatten\u001b[49m\u001b[43m,\u001b[49m\u001b[43m \u001b[49m\u001b[43mlearn_layer\u001b[49m\u001b[38;5;241;43m=\u001b[39;49m\u001b[43mlearn_layer\u001b[49m\u001b[43m)\u001b[49m\n\u001b[0;32m    392\u001b[0m     stats[\u001b[38;5;124m'\u001b[39m\u001b[38;5;124mval_vfe\u001b[39m\u001b[38;5;124m'\u001b[39m] \u001b[38;5;241m=\u001b[39m val_results[\u001b[38;5;124m'\u001b[39m\u001b[38;5;124mvfe\u001b[39m\u001b[38;5;124m'\u001b[39m]\u001b[38;5;241m.\u001b[39mitem()\n\u001b[0;32m    394\u001b[0m     \u001b[38;5;28;01mif\u001b[39;00m log_dir:\n",
      "File \u001b[1;32mc:\\Users\\joeag\\Documents\\pclib\\pclib\\optim\\train_DeepiPC.py:163\u001b[0m, in \u001b[0;36mval_pass\u001b[1;34m(model, val_loader, flatten, learn_layer)\u001b[0m\n\u001b[0;32m    160\u001b[0m         x \u001b[38;5;241m=\u001b[39m images\n\u001b[0;32m    162\u001b[0m     \u001b[38;5;66;03m# Forward pass\u001b[39;00m\n\u001b[1;32m--> 163\u001b[0m     _, state, _ \u001b[38;5;241m=\u001b[39m \u001b[43mmodel\u001b[49m\u001b[43m(\u001b[49m\u001b[43mx\u001b[49m\u001b[43m,\u001b[49m\u001b[43m \u001b[49m\u001b[43mpin_obs\u001b[49m\u001b[38;5;241;43m=\u001b[39;49m\u001b[38;5;28;43;01mTrue\u001b[39;49;00m\u001b[43m,\u001b[49m\u001b[43m \u001b[49m\u001b[43mlearn_layer\u001b[49m\u001b[38;5;241;43m=\u001b[39;49m\u001b[43mlearn_layer\u001b[49m\u001b[43m)\u001b[49m\n\u001b[0;32m    164\u001b[0m     vfe \u001b[38;5;241m+\u001b[39m\u001b[38;5;241m=\u001b[39m model\u001b[38;5;241m.\u001b[39mvfe(state, batch_reduction\u001b[38;5;241m=\u001b[39m\u001b[38;5;124m'\u001b[39m\u001b[38;5;124msum\u001b[39m\u001b[38;5;124m'\u001b[39m, learn_layer\u001b[38;5;241m=\u001b[39mlearn_layer)\n\u001b[0;32m    166\u001b[0m vfe \u001b[38;5;241m/\u001b[39m\u001b[38;5;241m=\u001b[39m \u001b[38;5;28mlen\u001b[39m(val_loader\u001b[38;5;241m.\u001b[39mdataset)\n",
      "File \u001b[1;32mc:\\Users\\joeag\\Documents\\venvs\\ml-env\\Lib\\site-packages\\torch\\nn\\modules\\module.py:1501\u001b[0m, in \u001b[0;36mModule._call_impl\u001b[1;34m(self, *args, **kwargs)\u001b[0m\n\u001b[0;32m   1496\u001b[0m \u001b[38;5;66;03m# If we don't have any hooks, we want to skip the rest of the logic in\u001b[39;00m\n\u001b[0;32m   1497\u001b[0m \u001b[38;5;66;03m# this function, and just call forward.\u001b[39;00m\n\u001b[0;32m   1498\u001b[0m \u001b[38;5;28;01mif\u001b[39;00m \u001b[38;5;129;01mnot\u001b[39;00m (\u001b[38;5;28mself\u001b[39m\u001b[38;5;241m.\u001b[39m_backward_hooks \u001b[38;5;129;01mor\u001b[39;00m \u001b[38;5;28mself\u001b[39m\u001b[38;5;241m.\u001b[39m_backward_pre_hooks \u001b[38;5;129;01mor\u001b[39;00m \u001b[38;5;28mself\u001b[39m\u001b[38;5;241m.\u001b[39m_forward_hooks \u001b[38;5;129;01mor\u001b[39;00m \u001b[38;5;28mself\u001b[39m\u001b[38;5;241m.\u001b[39m_forward_pre_hooks\n\u001b[0;32m   1499\u001b[0m         \u001b[38;5;129;01mor\u001b[39;00m _global_backward_pre_hooks \u001b[38;5;129;01mor\u001b[39;00m _global_backward_hooks\n\u001b[0;32m   1500\u001b[0m         \u001b[38;5;129;01mor\u001b[39;00m _global_forward_hooks \u001b[38;5;129;01mor\u001b[39;00m _global_forward_pre_hooks):\n\u001b[1;32m-> 1501\u001b[0m     \u001b[38;5;28;01mreturn\u001b[39;00m \u001b[43mforward_call\u001b[49m\u001b[43m(\u001b[49m\u001b[38;5;241;43m*\u001b[39;49m\u001b[43margs\u001b[49m\u001b[43m,\u001b[49m\u001b[43m \u001b[49m\u001b[38;5;241;43m*\u001b[39;49m\u001b[38;5;241;43m*\u001b[39;49m\u001b[43mkwargs\u001b[49m\u001b[43m)\u001b[49m\n\u001b[0;32m   1502\u001b[0m \u001b[38;5;66;03m# Do not call functions when jit is used\u001b[39;00m\n\u001b[0;32m   1503\u001b[0m full_backward_hooks, non_full_backward_hooks \u001b[38;5;241m=\u001b[39m [], []\n",
      "File \u001b[1;32mc:\\Users\\joeag\\Documents\\pclib\\pclib\\nn\\models\\fcdpcn.py:273\u001b[0m, in \u001b[0;36mFCDPCN.forward\u001b[1;34m(self, obs, y, pin_obs, pin_target, steps, learn_layer)\u001b[0m\n\u001b[0;32m    271\u001b[0m gamma \u001b[38;5;241m=\u001b[39m torch\u001b[38;5;241m.\u001b[39mones(state[\u001b[38;5;241m0\u001b[39m][\u001b[38;5;124m'\u001b[39m\u001b[38;5;124mx\u001b[39m\u001b[38;5;124m'\u001b[39m]\u001b[38;5;241m.\u001b[39mshape[\u001b[38;5;241m0\u001b[39m])\u001b[38;5;241m.\u001b[39mto(\u001b[38;5;28mself\u001b[39m\u001b[38;5;241m.\u001b[39mdevice) \u001b[38;5;241m*\u001b[39m \u001b[38;5;28mself\u001b[39m\u001b[38;5;241m.\u001b[39mgamma\n\u001b[0;32m    272\u001b[0m \u001b[38;5;28;01mfor\u001b[39;00m i \u001b[38;5;129;01min\u001b[39;00m \u001b[38;5;28mrange\u001b[39m(steps):\n\u001b[1;32m--> 273\u001b[0m     \u001b[38;5;28;43mself\u001b[39;49m\u001b[38;5;241;43m.\u001b[39;49m\u001b[43mstep\u001b[49m\u001b[43m(\u001b[49m\u001b[43mstate\u001b[49m\u001b[43m,\u001b[49m\u001b[43m \u001b[49m\u001b[43moptimiser\u001b[49m\u001b[43m,\u001b[49m\u001b[43m \u001b[49m\u001b[43mgamma\u001b[49m\u001b[43m)\u001b[49m\n\u001b[0;32m    274\u001b[0m     \u001b[38;5;28;01mwith\u001b[39;00m torch\u001b[38;5;241m.\u001b[39mno_grad():\n\u001b[0;32m    275\u001b[0m         gamma, prev_vfe \u001b[38;5;241m=\u001b[39m \u001b[38;5;28mself\u001b[39m\u001b[38;5;241m.\u001b[39mupdate_gamma(state, gamma, prev_vfe)\n",
      "File \u001b[1;32mc:\\Users\\joeag\\Documents\\pclib\\pclib\\nn\\models\\fcdpcn.py:231\u001b[0m, in \u001b[0;36mFCDPCN.step\u001b[1;34m(self, state, optimiser, gamma)\u001b[0m\n\u001b[0;32m    229\u001b[0m     \u001b[38;5;28;01massert\u001b[39;00m p\u001b[38;5;241m.\u001b[39mgrad \u001b[38;5;129;01mis\u001b[39;00m \u001b[38;5;28;01mNone\u001b[39;00m, \u001b[38;5;124m\"\u001b[39m\u001b[38;5;124mGradients should be zeroed before calling step().\u001b[39m\u001b[38;5;124m\"\u001b[39m\n\u001b[0;32m    230\u001b[0m vfe \u001b[38;5;241m=\u001b[39m (\u001b[38;5;28mself\u001b[39m\u001b[38;5;241m.\u001b[39mvfe(state, batch_reduction\u001b[38;5;241m=\u001b[39m\u001b[38;5;124m'\u001b[39m\u001b[38;5;124mnone\u001b[39m\u001b[38;5;124m'\u001b[39m) \u001b[38;5;241m*\u001b[39m gamma)\u001b[38;5;241m.\u001b[39msum() \n\u001b[1;32m--> 231\u001b[0m \u001b[43mmake_dot\u001b[49m\u001b[43m(\u001b[49m\u001b[43mvfe\u001b[49m\u001b[43m)\u001b[49m\u001b[38;5;241;43m.\u001b[39;49m\u001b[43mrender\u001b[49m\u001b[43m(\u001b[49m\u001b[38;5;124;43m\"\u001b[39;49m\u001b[38;5;124;43mdeep_vfe\u001b[39;49m\u001b[38;5;124;43m\"\u001b[39;49m\u001b[43m,\u001b[49m\u001b[43m \u001b[49m\u001b[38;5;28;43mformat\u001b[39;49m\u001b[38;5;241;43m=\u001b[39;49m\u001b[38;5;124;43m\"\u001b[39;49m\u001b[38;5;124;43mpng\u001b[39;49m\u001b[38;5;124;43m\"\u001b[39;49m\u001b[43m)\u001b[49m\n\u001b[0;32m    232\u001b[0m vfe\u001b[38;5;241m.\u001b[39mbackward()\n\u001b[0;32m    233\u001b[0m \u001b[38;5;66;03m# for p in optimiser.param_groups[0]['params']:\u001b[39;00m\n\u001b[0;32m    234\u001b[0m \u001b[38;5;66;03m#     print(f'grad.mean(): {p.grad.mean()}, grad.std(): {p.grad.std()}')\u001b[39;00m\n",
      "File \u001b[1;32mc:\\Users\\joeag\\Documents\\venvs\\ml-env\\Lib\\site-packages\\graphviz\\_tools.py:171\u001b[0m, in \u001b[0;36mdeprecate_positional_args.<locals>.decorator.<locals>.wrapper\u001b[1;34m(*args, **kwargs)\u001b[0m\n\u001b[0;32m    162\u001b[0m     wanted \u001b[38;5;241m=\u001b[39m \u001b[38;5;124m'\u001b[39m\u001b[38;5;124m, \u001b[39m\u001b[38;5;124m'\u001b[39m\u001b[38;5;241m.\u001b[39mjoin(\u001b[38;5;124mf\u001b[39m\u001b[38;5;124m'\u001b[39m\u001b[38;5;132;01m{\u001b[39;00mname\u001b[38;5;132;01m}\u001b[39;00m\u001b[38;5;124m=\u001b[39m\u001b[38;5;132;01m{\u001b[39;00mvalue\u001b[38;5;132;01m!r}\u001b[39;00m\u001b[38;5;124m'\u001b[39m\n\u001b[0;32m    163\u001b[0m                        \u001b[38;5;28;01mfor\u001b[39;00m name, value \u001b[38;5;129;01min\u001b[39;00m deprecated\u001b[38;5;241m.\u001b[39mitems())\n\u001b[0;32m    164\u001b[0m     warnings\u001b[38;5;241m.\u001b[39mwarn(\u001b[38;5;124mf\u001b[39m\u001b[38;5;124m'\u001b[39m\u001b[38;5;124mThe signature of \u001b[39m\u001b[38;5;132;01m{\u001b[39;00mfunc\u001b[38;5;241m.\u001b[39m\u001b[38;5;18m__name__\u001b[39m\u001b[38;5;132;01m}\u001b[39;00m\u001b[38;5;124m will be reduced\u001b[39m\u001b[38;5;124m'\u001b[39m\n\u001b[0;32m    165\u001b[0m                   \u001b[38;5;124mf\u001b[39m\u001b[38;5;124m'\u001b[39m\u001b[38;5;124m to \u001b[39m\u001b[38;5;132;01m{\u001b[39;00msupported_number\u001b[38;5;132;01m}\u001b[39;00m\u001b[38;5;124m positional args\u001b[39m\u001b[38;5;124m'\u001b[39m\n\u001b[0;32m    166\u001b[0m                   \u001b[38;5;124mf\u001b[39m\u001b[38;5;124m'\u001b[39m\u001b[38;5;124m \u001b[39m\u001b[38;5;132;01m{\u001b[39;00m\u001b[38;5;28mlist\u001b[39m(supported)\u001b[38;5;132;01m}\u001b[39;00m\u001b[38;5;124m: pass \u001b[39m\u001b[38;5;132;01m{\u001b[39;00mwanted\u001b[38;5;132;01m}\u001b[39;00m\u001b[38;5;124m'\u001b[39m\n\u001b[0;32m    167\u001b[0m                   \u001b[38;5;124m'\u001b[39m\u001b[38;5;124m as keyword arg(s)\u001b[39m\u001b[38;5;124m'\u001b[39m,\n\u001b[0;32m    168\u001b[0m                   stacklevel\u001b[38;5;241m=\u001b[39mstacklevel,\n\u001b[0;32m    169\u001b[0m                   category\u001b[38;5;241m=\u001b[39mcategory)\n\u001b[1;32m--> 171\u001b[0m \u001b[38;5;28;01mreturn\u001b[39;00m \u001b[43mfunc\u001b[49m\u001b[43m(\u001b[49m\u001b[38;5;241;43m*\u001b[39;49m\u001b[43margs\u001b[49m\u001b[43m,\u001b[49m\u001b[43m \u001b[49m\u001b[38;5;241;43m*\u001b[39;49m\u001b[38;5;241;43m*\u001b[39;49m\u001b[43mkwargs\u001b[49m\u001b[43m)\u001b[49m\n",
      "File \u001b[1;32mc:\\Users\\joeag\\Documents\\venvs\\ml-env\\Lib\\site-packages\\graphviz\\rendering.py:122\u001b[0m, in \u001b[0;36mRender.render\u001b[1;34m(self, filename, directory, view, cleanup, format, renderer, formatter, neato_no_op, quiet, quiet_view, outfile, engine, raise_if_result_exists, overwrite_source)\u001b[0m\n\u001b[0;32m    118\u001b[0m filepath \u001b[38;5;241m=\u001b[39m \u001b[38;5;28mself\u001b[39m\u001b[38;5;241m.\u001b[39msave(filename, directory\u001b[38;5;241m=\u001b[39mdirectory, skip_existing\u001b[38;5;241m=\u001b[39m\u001b[38;5;28;01mNone\u001b[39;00m)\n\u001b[0;32m    120\u001b[0m args\u001b[38;5;241m.\u001b[39mappend(filepath)\n\u001b[1;32m--> 122\u001b[0m rendered \u001b[38;5;241m=\u001b[39m \u001b[38;5;28;43mself\u001b[39;49m\u001b[38;5;241;43m.\u001b[39;49m\u001b[43m_render\u001b[49m\u001b[43m(\u001b[49m\u001b[38;5;241;43m*\u001b[39;49m\u001b[43margs\u001b[49m\u001b[43m,\u001b[49m\u001b[43m \u001b[49m\u001b[38;5;241;43m*\u001b[39;49m\u001b[38;5;241;43m*\u001b[39;49m\u001b[43mkwargs\u001b[49m\u001b[43m)\u001b[49m\n\u001b[0;32m    124\u001b[0m \u001b[38;5;28;01mif\u001b[39;00m cleanup:\n\u001b[0;32m    125\u001b[0m     log\u001b[38;5;241m.\u001b[39mdebug(\u001b[38;5;124m'\u001b[39m\u001b[38;5;124mdelete \u001b[39m\u001b[38;5;132;01m%r\u001b[39;00m\u001b[38;5;124m'\u001b[39m, filepath)\n",
      "File \u001b[1;32mc:\\Users\\joeag\\Documents\\venvs\\ml-env\\Lib\\site-packages\\graphviz\\_tools.py:171\u001b[0m, in \u001b[0;36mdeprecate_positional_args.<locals>.decorator.<locals>.wrapper\u001b[1;34m(*args, **kwargs)\u001b[0m\n\u001b[0;32m    162\u001b[0m     wanted \u001b[38;5;241m=\u001b[39m \u001b[38;5;124m'\u001b[39m\u001b[38;5;124m, \u001b[39m\u001b[38;5;124m'\u001b[39m\u001b[38;5;241m.\u001b[39mjoin(\u001b[38;5;124mf\u001b[39m\u001b[38;5;124m'\u001b[39m\u001b[38;5;132;01m{\u001b[39;00mname\u001b[38;5;132;01m}\u001b[39;00m\u001b[38;5;124m=\u001b[39m\u001b[38;5;132;01m{\u001b[39;00mvalue\u001b[38;5;132;01m!r}\u001b[39;00m\u001b[38;5;124m'\u001b[39m\n\u001b[0;32m    163\u001b[0m                        \u001b[38;5;28;01mfor\u001b[39;00m name, value \u001b[38;5;129;01min\u001b[39;00m deprecated\u001b[38;5;241m.\u001b[39mitems())\n\u001b[0;32m    164\u001b[0m     warnings\u001b[38;5;241m.\u001b[39mwarn(\u001b[38;5;124mf\u001b[39m\u001b[38;5;124m'\u001b[39m\u001b[38;5;124mThe signature of \u001b[39m\u001b[38;5;132;01m{\u001b[39;00mfunc\u001b[38;5;241m.\u001b[39m\u001b[38;5;18m__name__\u001b[39m\u001b[38;5;132;01m}\u001b[39;00m\u001b[38;5;124m will be reduced\u001b[39m\u001b[38;5;124m'\u001b[39m\n\u001b[0;32m    165\u001b[0m                   \u001b[38;5;124mf\u001b[39m\u001b[38;5;124m'\u001b[39m\u001b[38;5;124m to \u001b[39m\u001b[38;5;132;01m{\u001b[39;00msupported_number\u001b[38;5;132;01m}\u001b[39;00m\u001b[38;5;124m positional args\u001b[39m\u001b[38;5;124m'\u001b[39m\n\u001b[0;32m    166\u001b[0m                   \u001b[38;5;124mf\u001b[39m\u001b[38;5;124m'\u001b[39m\u001b[38;5;124m \u001b[39m\u001b[38;5;132;01m{\u001b[39;00m\u001b[38;5;28mlist\u001b[39m(supported)\u001b[38;5;132;01m}\u001b[39;00m\u001b[38;5;124m: pass \u001b[39m\u001b[38;5;132;01m{\u001b[39;00mwanted\u001b[38;5;132;01m}\u001b[39;00m\u001b[38;5;124m'\u001b[39m\n\u001b[0;32m    167\u001b[0m                   \u001b[38;5;124m'\u001b[39m\u001b[38;5;124m as keyword arg(s)\u001b[39m\u001b[38;5;124m'\u001b[39m,\n\u001b[0;32m    168\u001b[0m                   stacklevel\u001b[38;5;241m=\u001b[39mstacklevel,\n\u001b[0;32m    169\u001b[0m                   category\u001b[38;5;241m=\u001b[39mcategory)\n\u001b[1;32m--> 171\u001b[0m \u001b[38;5;28;01mreturn\u001b[39;00m \u001b[43mfunc\u001b[49m\u001b[43m(\u001b[49m\u001b[38;5;241;43m*\u001b[39;49m\u001b[43margs\u001b[49m\u001b[43m,\u001b[49m\u001b[43m \u001b[49m\u001b[38;5;241;43m*\u001b[39;49m\u001b[38;5;241;43m*\u001b[39;49m\u001b[43mkwargs\u001b[49m\u001b[43m)\u001b[49m\n",
      "File \u001b[1;32mc:\\Users\\joeag\\Documents\\venvs\\ml-env\\Lib\\site-packages\\graphviz\\backend\\rendering.py:324\u001b[0m, in \u001b[0;36mrender\u001b[1;34m(engine, format, filepath, renderer, formatter, neato_no_op, quiet, outfile, raise_if_result_exists, overwrite_filepath)\u001b[0m\n\u001b[0;32m    320\u001b[0m     \u001b[38;5;28;01mraise\u001b[39;00m exceptions\u001b[38;5;241m.\u001b[39mFileExistsError(\u001b[38;5;124mf\u001b[39m\u001b[38;5;124m'\u001b[39m\u001b[38;5;124moutput file exists: \u001b[39m\u001b[38;5;132;01m{\u001b[39;00mos\u001b[38;5;241m.\u001b[39mfspath(outfile)\u001b[38;5;132;01m!r}\u001b[39;00m\u001b[38;5;124m'\u001b[39m)\n\u001b[0;32m    322\u001b[0m cmd \u001b[38;5;241m+\u001b[39m\u001b[38;5;241m=\u001b[39m args\n\u001b[1;32m--> 324\u001b[0m \u001b[43mexecute\u001b[49m\u001b[38;5;241;43m.\u001b[39;49m\u001b[43mrun_check\u001b[49m\u001b[43m(\u001b[49m\u001b[43mcmd\u001b[49m\u001b[43m,\u001b[49m\n\u001b[0;32m    325\u001b[0m \u001b[43m                  \u001b[49m\u001b[43mcwd\u001b[49m\u001b[38;5;241;43m=\u001b[39;49m\u001b[43mfilepath\u001b[49m\u001b[38;5;241;43m.\u001b[39;49m\u001b[43mparent\u001b[49m\u001b[43m \u001b[49m\u001b[38;5;28;43;01mif\u001b[39;49;00m\u001b[43m \u001b[49m\u001b[43mfilepath\u001b[49m\u001b[38;5;241;43m.\u001b[39;49m\u001b[43mparent\u001b[49m\u001b[38;5;241;43m.\u001b[39;49m\u001b[43mparts\u001b[49m\u001b[43m \u001b[49m\u001b[38;5;28;43;01melse\u001b[39;49;00m\u001b[43m \u001b[49m\u001b[38;5;28;43;01mNone\u001b[39;49;00m\u001b[43m,\u001b[49m\n\u001b[0;32m    326\u001b[0m \u001b[43m                  \u001b[49m\u001b[43mquiet\u001b[49m\u001b[38;5;241;43m=\u001b[39;49m\u001b[43mquiet\u001b[49m\u001b[43m,\u001b[49m\n\u001b[0;32m    327\u001b[0m \u001b[43m                  \u001b[49m\u001b[43mcapture_output\u001b[49m\u001b[38;5;241;43m=\u001b[39;49m\u001b[38;5;28;43;01mTrue\u001b[39;49;00m\u001b[43m)\u001b[49m\n\u001b[0;32m    329\u001b[0m \u001b[38;5;28;01mreturn\u001b[39;00m os\u001b[38;5;241m.\u001b[39mfspath(outfile)\n",
      "File \u001b[1;32mc:\\Users\\joeag\\Documents\\venvs\\ml-env\\Lib\\site-packages\\graphviz\\backend\\execute.py:81\u001b[0m, in \u001b[0;36mrun_check\u001b[1;34m(cmd, input_lines, encoding, quiet, **kwargs)\u001b[0m\n\u001b[0;32m     79\u001b[0m         proc \u001b[38;5;241m=\u001b[39m _run_input_lines(cmd, input_lines, kwargs\u001b[38;5;241m=\u001b[39mkwargs)\n\u001b[0;32m     80\u001b[0m     \u001b[38;5;28;01melse\u001b[39;00m:\n\u001b[1;32m---> 81\u001b[0m         proc \u001b[38;5;241m=\u001b[39m \u001b[43msubprocess\u001b[49m\u001b[38;5;241;43m.\u001b[39;49m\u001b[43mrun\u001b[49m\u001b[43m(\u001b[49m\u001b[43mcmd\u001b[49m\u001b[43m,\u001b[49m\u001b[43m \u001b[49m\u001b[38;5;241;43m*\u001b[39;49m\u001b[38;5;241;43m*\u001b[39;49m\u001b[43mkwargs\u001b[49m\u001b[43m)\u001b[49m\n\u001b[0;32m     82\u001b[0m \u001b[38;5;28;01mexcept\u001b[39;00m \u001b[38;5;167;01mOSError\u001b[39;00m \u001b[38;5;28;01mas\u001b[39;00m e:\n\u001b[0;32m     83\u001b[0m     \u001b[38;5;28;01mif\u001b[39;00m e\u001b[38;5;241m.\u001b[39merrno \u001b[38;5;241m==\u001b[39m errno\u001b[38;5;241m.\u001b[39mENOENT:\n",
      "File \u001b[1;32m~\\AppData\\Local\\Programs\\Python\\Python311\\Lib\\subprocess.py:548\u001b[0m, in \u001b[0;36mrun\u001b[1;34m(input, capture_output, timeout, check, *popenargs, **kwargs)\u001b[0m\n\u001b[0;32m    545\u001b[0m     kwargs[\u001b[38;5;124m'\u001b[39m\u001b[38;5;124mstdout\u001b[39m\u001b[38;5;124m'\u001b[39m] \u001b[38;5;241m=\u001b[39m PIPE\n\u001b[0;32m    546\u001b[0m     kwargs[\u001b[38;5;124m'\u001b[39m\u001b[38;5;124mstderr\u001b[39m\u001b[38;5;124m'\u001b[39m] \u001b[38;5;241m=\u001b[39m PIPE\n\u001b[1;32m--> 548\u001b[0m \u001b[38;5;28;01mwith\u001b[39;00m \u001b[43mPopen\u001b[49m\u001b[43m(\u001b[49m\u001b[38;5;241;43m*\u001b[39;49m\u001b[43mpopenargs\u001b[49m\u001b[43m,\u001b[49m\u001b[43m \u001b[49m\u001b[38;5;241;43m*\u001b[39;49m\u001b[38;5;241;43m*\u001b[39;49m\u001b[43mkwargs\u001b[49m\u001b[43m)\u001b[49m \u001b[38;5;28;01mas\u001b[39;00m process:\n\u001b[0;32m    549\u001b[0m     \u001b[38;5;28;01mtry\u001b[39;00m:\n\u001b[0;32m    550\u001b[0m         stdout, stderr \u001b[38;5;241m=\u001b[39m process\u001b[38;5;241m.\u001b[39mcommunicate(\u001b[38;5;28minput\u001b[39m, timeout\u001b[38;5;241m=\u001b[39mtimeout)\n",
      "File \u001b[1;32m~\\AppData\\Local\\Programs\\Python\\Python311\\Lib\\subprocess.py:1026\u001b[0m, in \u001b[0;36mPopen.__init__\u001b[1;34m(self, args, bufsize, executable, stdin, stdout, stderr, preexec_fn, close_fds, shell, cwd, env, universal_newlines, startupinfo, creationflags, restore_signals, start_new_session, pass_fds, user, group, extra_groups, encoding, errors, text, umask, pipesize, process_group)\u001b[0m\n\u001b[0;32m   1022\u001b[0m         \u001b[38;5;28;01mif\u001b[39;00m \u001b[38;5;28mself\u001b[39m\u001b[38;5;241m.\u001b[39mtext_mode:\n\u001b[0;32m   1023\u001b[0m             \u001b[38;5;28mself\u001b[39m\u001b[38;5;241m.\u001b[39mstderr \u001b[38;5;241m=\u001b[39m io\u001b[38;5;241m.\u001b[39mTextIOWrapper(\u001b[38;5;28mself\u001b[39m\u001b[38;5;241m.\u001b[39mstderr,\n\u001b[0;32m   1024\u001b[0m                     encoding\u001b[38;5;241m=\u001b[39mencoding, errors\u001b[38;5;241m=\u001b[39merrors)\n\u001b[1;32m-> 1026\u001b[0m     \u001b[38;5;28;43mself\u001b[39;49m\u001b[38;5;241;43m.\u001b[39;49m\u001b[43m_execute_child\u001b[49m\u001b[43m(\u001b[49m\u001b[43margs\u001b[49m\u001b[43m,\u001b[49m\u001b[43m \u001b[49m\u001b[43mexecutable\u001b[49m\u001b[43m,\u001b[49m\u001b[43m \u001b[49m\u001b[43mpreexec_fn\u001b[49m\u001b[43m,\u001b[49m\u001b[43m \u001b[49m\u001b[43mclose_fds\u001b[49m\u001b[43m,\u001b[49m\n\u001b[0;32m   1027\u001b[0m \u001b[43m                        \u001b[49m\u001b[43mpass_fds\u001b[49m\u001b[43m,\u001b[49m\u001b[43m \u001b[49m\u001b[43mcwd\u001b[49m\u001b[43m,\u001b[49m\u001b[43m \u001b[49m\u001b[43menv\u001b[49m\u001b[43m,\u001b[49m\n\u001b[0;32m   1028\u001b[0m \u001b[43m                        \u001b[49m\u001b[43mstartupinfo\u001b[49m\u001b[43m,\u001b[49m\u001b[43m \u001b[49m\u001b[43mcreationflags\u001b[49m\u001b[43m,\u001b[49m\u001b[43m \u001b[49m\u001b[43mshell\u001b[49m\u001b[43m,\u001b[49m\n\u001b[0;32m   1029\u001b[0m \u001b[43m                        \u001b[49m\u001b[43mp2cread\u001b[49m\u001b[43m,\u001b[49m\u001b[43m \u001b[49m\u001b[43mp2cwrite\u001b[49m\u001b[43m,\u001b[49m\n\u001b[0;32m   1030\u001b[0m \u001b[43m                        \u001b[49m\u001b[43mc2pread\u001b[49m\u001b[43m,\u001b[49m\u001b[43m \u001b[49m\u001b[43mc2pwrite\u001b[49m\u001b[43m,\u001b[49m\n\u001b[0;32m   1031\u001b[0m \u001b[43m                        \u001b[49m\u001b[43merrread\u001b[49m\u001b[43m,\u001b[49m\u001b[43m \u001b[49m\u001b[43merrwrite\u001b[49m\u001b[43m,\u001b[49m\n\u001b[0;32m   1032\u001b[0m \u001b[43m                        \u001b[49m\u001b[43mrestore_signals\u001b[49m\u001b[43m,\u001b[49m\n\u001b[0;32m   1033\u001b[0m \u001b[43m                        \u001b[49m\u001b[43mgid\u001b[49m\u001b[43m,\u001b[49m\u001b[43m \u001b[49m\u001b[43mgids\u001b[49m\u001b[43m,\u001b[49m\u001b[43m \u001b[49m\u001b[43muid\u001b[49m\u001b[43m,\u001b[49m\u001b[43m \u001b[49m\u001b[43mumask\u001b[49m\u001b[43m,\u001b[49m\n\u001b[0;32m   1034\u001b[0m \u001b[43m                        \u001b[49m\u001b[43mstart_new_session\u001b[49m\u001b[43m,\u001b[49m\u001b[43m \u001b[49m\u001b[43mprocess_group\u001b[49m\u001b[43m)\u001b[49m\n\u001b[0;32m   1035\u001b[0m \u001b[38;5;28;01mexcept\u001b[39;00m:\n\u001b[0;32m   1036\u001b[0m     \u001b[38;5;66;03m# Cleanup if the child failed starting.\u001b[39;00m\n\u001b[0;32m   1037\u001b[0m     \u001b[38;5;28;01mfor\u001b[39;00m f \u001b[38;5;129;01min\u001b[39;00m \u001b[38;5;28mfilter\u001b[39m(\u001b[38;5;28;01mNone\u001b[39;00m, (\u001b[38;5;28mself\u001b[39m\u001b[38;5;241m.\u001b[39mstdin, \u001b[38;5;28mself\u001b[39m\u001b[38;5;241m.\u001b[39mstdout, \u001b[38;5;28mself\u001b[39m\u001b[38;5;241m.\u001b[39mstderr)):\n",
      "File \u001b[1;32m~\\AppData\\Local\\Programs\\Python\\Python311\\Lib\\subprocess.py:1538\u001b[0m, in \u001b[0;36mPopen._execute_child\u001b[1;34m(self, args, executable, preexec_fn, close_fds, pass_fds, cwd, env, startupinfo, creationflags, shell, p2cread, p2cwrite, c2pread, c2pwrite, errread, errwrite, unused_restore_signals, unused_gid, unused_gids, unused_uid, unused_umask, unused_start_new_session, unused_process_group)\u001b[0m\n\u001b[0;32m   1536\u001b[0m \u001b[38;5;66;03m# Start the process\u001b[39;00m\n\u001b[0;32m   1537\u001b[0m \u001b[38;5;28;01mtry\u001b[39;00m:\n\u001b[1;32m-> 1538\u001b[0m     hp, ht, pid, tid \u001b[38;5;241m=\u001b[39m _winapi\u001b[38;5;241m.\u001b[39mCreateProcess(executable, args,\n\u001b[0;32m   1539\u001b[0m                              \u001b[38;5;66;03m# no special security\u001b[39;00m\n\u001b[0;32m   1540\u001b[0m                              \u001b[38;5;28;01mNone\u001b[39;00m, \u001b[38;5;28;01mNone\u001b[39;00m,\n\u001b[0;32m   1541\u001b[0m                              \u001b[38;5;28mint\u001b[39m(\u001b[38;5;129;01mnot\u001b[39;00m close_fds),\n\u001b[0;32m   1542\u001b[0m                              creationflags,\n\u001b[0;32m   1543\u001b[0m                              env,\n\u001b[0;32m   1544\u001b[0m                              cwd,\n\u001b[0;32m   1545\u001b[0m                              startupinfo)\n\u001b[0;32m   1546\u001b[0m \u001b[38;5;28;01mfinally\u001b[39;00m:\n\u001b[0;32m   1547\u001b[0m     \u001b[38;5;66;03m# Child is launched. Close the parent's copy of those pipe\u001b[39;00m\n\u001b[0;32m   1548\u001b[0m     \u001b[38;5;66;03m# handles that only the child should have open.  You need\u001b[39;00m\n\u001b[1;32m   (...)\u001b[0m\n\u001b[0;32m   1551\u001b[0m     \u001b[38;5;66;03m# pipe will not close when the child process exits and the\u001b[39;00m\n\u001b[0;32m   1552\u001b[0m     \u001b[38;5;66;03m# ReadFile will hang.\u001b[39;00m\n\u001b[0;32m   1553\u001b[0m     \u001b[38;5;28mself\u001b[39m\u001b[38;5;241m.\u001b[39m_close_pipe_fds(p2cread, p2cwrite,\n\u001b[0;32m   1554\u001b[0m                          c2pread, c2pwrite,\n\u001b[0;32m   1555\u001b[0m                          errread, errwrite)\n",
      "\u001b[1;31mKeyboardInterrupt\u001b[0m: "
     ]
    }
   ],
   "source": [
    "# torch.manual_seed(42)\n",
    "model_name = \"128\"\n",
    "NUM_EPOCHS = 2500\n",
    "BATCH_SIZE = 48000\n",
    "# log_dir = f'examples/mnist/out/logs/fc/unsup_iPC/x_decay/{model_name}'\n",
    "log_dir=None\n",
    "model_dir = None\n",
    "train_iPC(\n",
    "    model=model,\n",
    "    supervised=False,\n",
    "    train_data=train_dataset,\n",
    "    val_data=val_dataset,\n",
    "    num_epochs=NUM_EPOCHS,\n",
    "    eval_every=250,\n",
    "    lr=0.001,\n",
    "    batch_size=BATCH_SIZE,\n",
    "    reg_coeff=0.02,\n",
    "    flatten=True,\n",
    "    neg_coeff=None,\n",
    "    cd_coeff=None,\n",
    "    cd_steps=1,\n",
    "    log_dir=log_dir,\n",
    "    model_dir=model_dir,\n",
    "    minimal_stats=False,\n",
    "    assert_grads=False,\n",
    "    optim='AdamW',\n",
    "    scheduler=None,\n",
    "    no_momentum=False,\n",
    "    norm_grads=False,\n",
    "    norm_weights=False,\n",
    "    learn_layer=None,\n",
    ")\n",
    "# train_iPC_classifier(\n",
    "#     model,\n",
    "#     classifier,\n",
    "#     train_dataset,\n",
    "#     val_dataset,\n",
    "#     num_epochs=100,\n",
    "#     lr=0.001,\n",
    "#     batch_size=100,\n",
    "#     reg_coeff=0.02,\n",
    "#     flatten=True,\n",
    "#     log_dir=log_dir,\n",
    "#     optim='AdamW',\n",
    "#     scheduler=None,\n",
    "# )"
   ]
  },
  {
   "cell_type": "code",
   "execution_count": null,
   "metadata": {},
   "outputs": [
    {
     "data": {
      "text/plain": [
       "torch.Size([10, 32, 28, 28])"
      ]
     },
     "execution_count": 9,
     "metadata": {},
     "output_type": "execute_result"
    }
   ],
   "source": [
    "cnn = nn.Sequential(\n",
    "    nn.Unflatten(1, (128, 1, 1)),\n",
    "    nn.ConvTranspose2d(128, 32, 7, stride=1),\n",
    "    # nn.ConvTranspose2d(64, 32, 5, stride=2),\n",
    "    nn.ConvTranspose2d(32, 32, 4, stride=4),\n",
    "    # nn.ConvTranspose2d(32, 1, 4, stride=1),\n",
    ").to(device)\n",
    "\n",
    "z = torch.randn(10, 128).to(device)\n",
    "cnn(z).shape\n"
   ]
  },
  {
   "cell_type": "code",
   "execution_count": null,
   "metadata": {},
   "outputs": [
    {
     "data": {
      "text/plain": [
       "41.36286163330078"
      ]
     },
     "execution_count": 9,
     "metadata": {},
     "output_type": "execute_result"
    }
   ],
   "source": [
    "x = val_dataset.transformed_images[:100].flatten(1)\n",
    "\n",
    "_, state, _ = model(x, pin_obs=True)\n",
    "\n",
    "# state, optimiser = model.init_state(x, pin_obs=True)\n",
    "# gamma = torch.ones(x.shape[0], device=device) * model.gamma\n",
    "# for _ in range(250):\n",
    "#     model.step(state, optimiser, gamma)\n",
    "\n",
    "\n",
    "\n",
    "vfe = model.vfe(state).item()\n",
    "vfe\n",
    "\n"
   ]
  },
  {
   "cell_type": "code",
   "execution_count": null,
   "metadata": {},
   "outputs": [],
   "source": [
    "mlp = torch.nn.Linear(10, 2)\n",
    "\n",
    "state = {\"x\": torch.ones((1, 10), requires_grad=True)}\n",
    "optimiser = torch.optim.SGD([state[\"x\"]], lr=0.001)\n",
    "x = torch.randn((1,2))\n",
    "\n",
    "for _ in range(5):\n",
    "    state_flatt = state[\"x\"].flatten(1)\n",
    "    pred = mlp(state_flatt)\n",
    "    error = (x - pred).square().sum()\n",
    "    optimiser.zero_grad()\n",
    "    error.backward()\n",
    "    optimiser.step()"
   ]
  },
  {
   "cell_type": "code",
   "execution_count": null,
   "metadata": {},
   "outputs": [],
   "source": [
    "x = torch.randn(1, 784).to(device)\n",
    "x.requires_grad = True\n",
    "y = F.relu(x)\n",
    "y.requires_grad"
   ]
  },
  {
   "cell_type": "code",
   "execution_count": null,
   "metadata": {},
   "outputs": [],
   "source": [
    "x = torch.randn(1,1)\n",
    "from torchviz import make_dot\n",
    "make_dot(x).render('test', format=\"png\")\n"
   ]
  },
  {
   "cell_type": "code",
   "execution_count": null,
   "metadata": {},
   "outputs": [],
   "source": [
    "decays = [0.01, 0.05, 0.1, 0.5, 1.0]\n",
    "for decay in decays:\n",
    "    torch.manual_seed(seed)\n",
    "\n",
    "    model_name = f'{decay}'\n",
    "    model = FCPCN(\n",
    "        sizes=[INPUT_SHAPE, 128],\n",
    "        # precisions=[-9999, 4.0, 2.0, 7.0],\n",
    "        precisions=[1.0, 1.0],\n",
    "        bias=True, \n",
    "        symmetric=True,\n",
    "        actv_fn=F.relu,\n",
    "        steps=250,\n",
    "        gamma=0.001,\n",
    "        x_decay=decay,\n",
    "        dropout=0.0,\n",
    "        has_top=False,\n",
    "    ).to(device)\n",
    "    classifier = Classifier(128, 10).to(device)\n",
    "    stats = {\n",
    "        'epoch': 0,\n",
    "        'posVfe': [],\n",
    "        'negVfe': [],\n",
    "        'negMse': [],\n",
    "        'cdVfe': [],\n",
    "        'valVfe': [],\n",
    "        'valAcc': [],\n",
    "    }\n",
    "\n",
    "    NUM_EPOCHS = 2500\n",
    "    BATCH_SIZE = 48000\n",
    "    log_dir = f'examples/mnist/out/logs/fc/unsup_iPC/x_decay/{model_name}'\n",
    "    # model_dir = f'examples/mnist/out/models/fc/unsup_iPC/layers/{model_name}'\n",
    "    # log_dir = None\n",
    "    model_dir = None\n",
    "    train_iPC(\n",
    "        model=model,\n",
    "        supervised=False,\n",
    "        train_data=train_dataset,\n",
    "        val_data=val_dataset,\n",
    "        num_epochs=NUM_EPOCHS,\n",
    "        eval_every=250,\n",
    "        lr=0.001,\n",
    "        batch_size=BATCH_SIZE,\n",
    "        reg_coeff=0.02,\n",
    "        flatten=True,\n",
    "        neg_coeff=None,\n",
    "        cd_coeff=None,\n",
    "        cd_steps=1,\n",
    "        log_dir=log_dir,\n",
    "        model_dir=model_dir,\n",
    "        minimal_stats=False,\n",
    "        assert_grads=False,\n",
    "        optim='AdamW',\n",
    "        scheduler=None,\n",
    "        no_momentum=False,\n",
    "        norm_grads=False,\n",
    "        norm_weights=False,\n",
    "        learn_layer=None,\n",
    "    )\n",
    "\n",
    "    train_iPC_classifier(\n",
    "        model,\n",
    "        classifier,\n",
    "        train_dataset,\n",
    "        val_dataset,\n",
    "        num_epochs=100,\n",
    "        lr=0.001,\n",
    "        batch_size=100,\n",
    "        reg_coeff=0.02,\n",
    "        flatten=True,\n",
    "        log_dir=log_dir,\n",
    "        optim='AdamW',\n",
    "        scheduler=None,\n",
    "    )"
   ]
  },
  {
   "cell_type": "code",
   "execution_count": null,
   "metadata": {},
   "outputs": [],
   "source": [
    "sizes_arr = [INPUT_SHAPE, 128], [INPUT_SHAPE, 128, 128], [INPUT_SHAPE, 128, 128, 128], [INPUT_SHAPE, 128, 128, 128, 128]]\n",
    "for sizes in sizes_arr:\n",
    "    torch.manual_seed(seed)\n",
    "\n",
    "    model_name = f'{sizes}'\n",
    "    model = FCPCN(\n",
    "        # sizes=[INPUT_SHAPE, 1024, 512, 512],\n",
    "        # precisions=[-9999, 4.0, 2.0, 7.0],\n",
    "        sizes=sizes,\n",
    "        precisions=[1.0 for _ in range(len(sizes))],\n",
    "        bias=True, \n",
    "        symmetric=True,\n",
    "        actv_fn=F.elu,\n",
    "        steps=250,\n",
    "        gamma=0.001,\n",
    "        x_decay=0.0,\n",
    "        dropout=0.0,\n",
    "        has_top=False,\n",
    "    ).to(device)\n",
    "    # classifier = Classifier(model.sizes[-1], 10).to(device)\n",
    "    \n",
    "    stats = {\n",
    "        'epoch': 0,\n",
    "        'posVfe': [],\n",
    "        'negVfe': [],\n",
    "        'negMse': [],\n",
    "        'cdVfe': [],\n",
    "        'valVfe': [],\n",
    "        'valAcc': [],\n",
    "    }\n",
    "\n",
    "    NUM_EPOCHS = 2500\n",
    "    BATCH_SIZE = 48000\n",
    "    log_dir = f'examples/mnist/out/logs/fc/unsup_iPC/layers/{model_name}'\n",
    "    # model_dir = f'examples/mnist/out/models/fc/unsup_iPC/layers/{model_name}'\n",
    "    # log_dir = None\n",
    "    model_dir = None\n",
    "    train_iPC(\n",
    "        model=model,\n",
    "        supervised=False,\n",
    "        train_data=train_dataset,\n",
    "        val_data=val_dataset,\n",
    "        num_epochs=NUM_EPOCHS,\n",
    "        eval_every=250,\n",
    "        lr=0.001,\n",
    "        batch_size=BATCH_SIZE,\n",
    "        reg_coeff=0.02,\n",
    "        flatten=True,\n",
    "        neg_coeff=None,\n",
    "        cd_coeff=None,\n",
    "        cd_steps=1,\n",
    "        log_dir=log_dir,\n",
    "        model_dir=model_dir,\n",
    "        minimal_stats=False,\n",
    "        assert_grads=False,\n",
    "        optim='AdamW',\n",
    "        scheduler=None,\n",
    "        no_momentum=False,\n",
    "        norm_grads=False,\n",
    "        norm_weights=False,\n",
    "        learn_layer=None,\n",
    "    )\n",
    "\n",
    "    train_iPC_classifier(\n",
    "        model,\n",
    "        classifier,\n",
    "        train_dataset,\n",
    "        val_dataset,\n",
    "        num_epochs=100,\n",
    "        lr=0.001,\n",
    "        batch_size=100,\n",
    "        reg_coeff=0.02,\n",
    "        flatten=True,\n",
    "        log_dir=log_dir,\n",
    "        optim='AdamW',\n",
    "        scheduler=None,\n",
    "    )"
   ]
  },
  {
   "cell_type": "code",
   "execution_count": null,
   "metadata": {},
   "outputs": [],
   "source": [
    "x = torch.randn(100, 784).to(device)\n",
    "out, _ = model(x)\n",
    "out.norm()"
   ]
  },
  {
   "cell_type": "code",
   "execution_count": null,
   "metadata": {},
   "outputs": [],
   "source": [
    "states = [torch.ones(1, requires_grad=True), torch.ones(1, requires_grad=False)]\n",
    "substates = [s for s in states if s.requires_grad]\n",
    "len(substates)"
   ]
  },
  {
   "cell_type": "code",
   "execution_count": null,
   "metadata": {},
   "outputs": [],
   "source": [
    "model.eval()\n",
    "imgs = train_dataset.images.clone().flatten(1)\n",
    "imgs.shape\n",
    "out, state = model(imgs, pin_obs=True, steps=200)\n",
    "print(model.vfe(state))\n",
    "\n",
    "sparsity = [(torch.abs(layer['x']) == 0).float().mean().item() for layer in state]\n",
    "print(f'Sparsities: {sparsity}')\n",
    "\n",
    "reconstructions = model.layers[1].predict(state[1])\n",
    "mse = F.mse_loss(reconstructions, imgs)\n",
    "print(mse)\n",
    "\n",
    "# show first 10 images\n",
    "fig, axes = plt.subplots(1, 10, figsize=(15, 5))\n",
    "for i, ax in enumerate(axes):\n",
    "    ax.imshow(reconstructions[i].view(28, 28).detach().cpu(), cmap='gray')\n",
    "    ax.axis('off')"
   ]
  },
  {
   "cell_type": "code",
   "execution_count": null,
   "metadata": {},
   "outputs": [],
   "source": [
    "model.eval()\n",
    "imgs = train_dataset.transformed_images.clone().flatten(1) + 0.3*torch.randn_like(train_dataset.transformed_images.clone().flatten(1))\n",
    "state = model.init_state(imgs)\n",
    "\n",
    "vfes = []\n",
    "gamma = torch.ones(imgs.shape[0], device=device) * model.gamma\n",
    "for _ in range(500):\n",
    "    model.step(state, gamma=gamma, pin_obs=True)\n",
    "    vfes.append(model.vfe(state).item())\n",
    "\n",
    "plt.plot(vfes)"
   ]
  },
  {
   "cell_type": "code",
   "execution_count": null,
   "metadata": {},
   "outputs": [],
   "source": [
    "model.eval()\n",
    "imgs = train_dataset.transformed_images[:10].clone().flatten(1)\n",
    "imgs.shape\n",
    "out, state = model(imgs, pin_obs=True, steps=2000)\n",
    "\n",
    "out, state = model(y=out, pin_target=True, steps=500)\n",
    "# out, state = model(imgs, y=out, steps=200)\n",
    "reconstructions = state[0]['x']\n",
    "mse = F.mse_loss(reconstructions, imgs)\n",
    "print(mse)\n",
    "\n",
    "# show first 10 images\n",
    "fig, axes = plt.subplots(1, 10, figsize=(15, 5))\n",
    "for i, ax in enumerate(axes):\n",
    "    ax.imshow(state[0]['x'][i].view(28, 28).detach().cpu(), cmap='gray')\n",
    "    ax.axis('off')"
   ]
  },
  {
   "cell_type": "code",
   "execution_count": null,
   "metadata": {},
   "outputs": [],
   "source": [
    "imgs = train_dataset.transformed_images.clone().flatten(1)\n",
    "imgs.shape\n",
    "out, state = model(imgs, pin_obs=True, steps=2000)\n",
    "print('vfe: ', model.vfe(state).item())\n",
    "\n",
    "mse = []\n",
    "state = model.init_state(y=out)\n",
    "gamma = torch.ones(state[0]['x'].shape[0], device=device) * model.gamma\n",
    "prev_vfe = None\n",
    "with torch.no_grad():\n",
    "    for _ in range(2000):\n",
    "        model.step(state, gamma, pin_target=True)\n",
    "        reconstructions = state[0]['x']\n",
    "        mse.append(F.mse_loss(reconstructions, imgs).item())\n",
    "        gamma, prev_vfe = model.update_gamma(state, gamma, prev_vfe)\n",
    "\n",
    "print('final mse: ', mse[-1])\n",
    "plt.plot(mse)\n",
    "plt.yscale('log')"
   ]
  },
  {
   "cell_type": "code",
   "execution_count": null,
   "metadata": {},
   "outputs": [],
   "source": [
    "plt.plot(stats['negMse'])\n",
    "plt.yscale('log')"
   ]
  },
  {
   "cell_type": "code",
   "execution_count": null,
   "metadata": {},
   "outputs": [],
   "source": [
    "all_stats['classic'] = stats"
   ]
  },
  {
   "cell_type": "code",
   "execution_count": null,
   "metadata": {},
   "outputs": [],
   "source": [
    "for k, v in all_stats.items():\n",
    "    plt.plot(v['posVfe'], label=k)\n",
    "    plt.plot(v['negVfe'], label=k+' (neg)')\n",
    "plt.legend()\n",
    "plt.yscale('log')\n",
    "plt.title('TrainVFE')\n",
    "plt.show()"
   ]
  },
  {
   "cell_type": "code",
   "execution_count": null,
   "metadata": {},
   "outputs": [],
   "source": [
    "model.eval()\n",
    "og = train_dataset.images[0].flatten(1).clone()\n",
    "x = og.clone() + torch.randn_like(og) * 0.3\n",
    "# x[torch.rand_like(x) > 0.7] = 0.0\n",
    "# errs = [F.mse_loss(x, og).item()]\n",
    "vfes = []\n",
    "errs = []\n",
    "\n",
    "\n",
    "# Plot the first 1st digit after multiple steps\n",
    "fig, axes = plt.subplots(10, 10, figsize=(10, 10))\n",
    "for i, ax in enumerate(axes):\n",
    "    for j, ax2 in enumerate(ax):\n",
    "        img = x.cpu().reshape(28,28).detach()\n",
    "        # img = (F.normalize(x.cpu(), 1).reshape(28,28).detach() - F.normalize(og.cpu(), 1).reshape(28,28).detach()).abs()\n",
    "        ax2.imshow(img, cmap='gray')\n",
    "        x, state = model.reconstruct(x, steps=200, beta=0.05)\n",
    "        errs.append(F.mse_loss(F.normalize(x), F.normalize(og)).item())\n",
    "        # errs.append(F.mse_loss(x, og).item())\n",
    "        vfes.append(model.vfe(state).item())\n",
    "        ax2.axis('off')\n",
    "\n",
    "plt.show()\n",
    "\n",
    "print('Final MSE: ', errs[-1])\n",
    "print('Final VFE: ', vfes[-1])\n",
    "print('Min MSE: ', min(errs))\n",
    "print('Min VFE: ', min(vfes))\n",
    "# Plot MSE and VFE, VFE logarithmically\n",
    "fig, axes = plt.subplots(1, 2, figsize=(10, 5))\n",
    "axes[0].plot(errs)\n",
    "axes[0].set_title('MSE')\n",
    "axes[1].plot(vfes)\n",
    "axes[1].set_yscale('log')\n",
    "axes[1].set_title('VFE')\n",
    "plt.show()\n"
   ]
  },
  {
   "cell_type": "code",
   "execution_count": null,
   "metadata": {},
   "outputs": [],
   "source": [
    "torch.save(model.state_dict(), 'examples\\mnist\\out\\models\\mnist_original.pth')"
   ]
  },
  {
   "cell_type": "code",
   "execution_count": null,
   "metadata": {},
   "outputs": [],
   "source": [
    "def train_classifier(\n",
    "        model,\n",
    "        classifier,\n",
    "        NUM_EPOCHS,\n",
    "        train_dataset,\n",
    "        val_dataset,\n",
    "        stats,\n",
    "):\n",
    "    # Init data\n",
    "    trainLoader = torch.utils.data.DataLoader(train_dataset, batch_size=200, shuffle=True)\n",
    "    valLoader = torch.utils.data.DataLoader(val_dataset, batch_size=200, shuffle=False)\n",
    "\n",
    "    with torch.no_grad():\n",
    "        model.eval()\n",
    "        train_X = [(model(x.flatten(1), pin_obs=True)[0], y) for x, y in trainLoader]\n",
    "\n",
    "    for i in range(NUM_EPOCHS):\n",
    "        classifier.train()\n",
    "        # Epoch stats\n",
    "        epochLosses = []\n",
    "\n",
    "        optimiser = torch.optim.AdamW(classifier.parameters(), lr=0.01)  \n",
    "\n",
    "        # TQDM loop\n",
    "        loop = tqdm(trainLoader, total=len(trainLoader), leave=False)\n",
    "        loop.set_description('Epoch [{}/{}]'.format(i, NUM_EPOCHS))\n",
    "        if stats['epoch'] > 0:\n",
    "            loop.set_postfix({'trainLoss': stats['trainLoss'][-1], 'valLoss': stats['valLoss'][-1], 'valAcc': stats['valAcc'][-1]})\n",
    "\n",
    "        # Iterate over all batches\n",
    "        # for (images, labels) in loop:\n",
    "        #     images = images.flatten(1)\n",
    "\n",
    "        #     with torch.no_grad():\n",
    "        #         # out, state = model(images, pin_obs=True, steps=200)\n",
    "        #         out, state = model(images, pin_obs=True)\n",
    "        for i in range(len(train_X)):\n",
    "            out = train_X[i][0]\n",
    "            labels = train_X[i][1]\n",
    "            out = classifier(out)\n",
    "\n",
    "            model.zero_grad()\n",
    "            loss = F.cross_entropy(out, labels)\n",
    "            loss.backward()\n",
    "            optimiser.step()\n",
    "            epochLosses.append(loss.item())\n",
    "\n",
    "        # Track epoch stats\n",
    "        stats['trainLoss'].append(torch.tensor(epochLosses).mean().item())\n",
    "\n",
    "        # Update learning rate\n",
    "        # if scheduler is not None:\n",
    "        #     scheduler.step(stats['ValAcc'][-1])\n",
    "\n",
    "        # Validation pass\n",
    "        classifier.eval()\n",
    "        with torch.no_grad():\n",
    "            num_correct = 0\n",
    "            N = 0\n",
    "            losses = []\n",
    "            for (images, labels) in valLoader:\n",
    "                images = images.flatten(1)\n",
    "                out, state = model(images, pin_obs=True)\n",
    "                out = classifier(out)\n",
    "                num_correct += (out.argmax(1) == labels).sum().item()\n",
    "                N += len(labels)\n",
    "                losses.append(F.cross_entropy(out, labels).item())\n",
    "            val_results = {\n",
    "                'acc': num_correct / N,\n",
    "                'loss': torch.tensor(losses).mean().item()\n",
    "            }\n",
    "            stats['valAcc'].append(val_results['acc'])\n",
    "            stats['valLoss'].append(val_results['loss'])\n",
    "\n",
    "        stats['epoch'] += 1"
   ]
  },
  {
   "cell_type": "code",
   "execution_count": null,
   "metadata": {},
   "outputs": [],
   "source": [
    "classifier = torch.nn.Sequential(\n",
    "    # torch.nn.Linear(600, 200),\n",
    "    # torch.nn.ReLU(),\n",
    "    # torch.nn.Linear(200, 10, bias=False),\n",
    "    torch.nn.Linear(64, 10, bias=False),\n",
    ").to(device)\n",
    "class_stats = {\n",
    "    'epoch': 0,\n",
    "    'trainLoss': [],\n",
    "    'valAcc': [],\n",
    "    'valLoss': [],\n",
    "}"
   ]
  },
  {
   "cell_type": "code",
   "execution_count": null,
   "metadata": {},
   "outputs": [],
   "source": [
    "NUM_EPOCHS = 30\n",
    "train_classifier(\n",
    "    model,\n",
    "    classifier,\n",
    "    NUM_EPOCHS,\n",
    "    train_dataset,\n",
    "    val_dataset,\n",
    "    class_stats,\n",
    "    # eval_every=10,\n",
    ")"
   ]
  },
  {
   "cell_type": "code",
   "execution_count": null,
   "metadata": {},
   "outputs": [],
   "source": [
    "plt.plot(class_stats['trainLoss'])\n",
    "plt.show()\n",
    "plt.plot(class_stats['valAcc'])"
   ]
  }
 ],
 "metadata": {
  "kernelspec": {
   "display_name": "ml-env",
   "language": "python",
   "name": "python3"
  },
  "language_info": {
   "codemirror_mode": {
    "name": "ipython",
    "version": 3
   },
   "file_extension": ".py",
   "mimetype": "text/x-python",
   "name": "python",
   "nbconvert_exporter": "python",
   "pygments_lexer": "ipython3",
   "version": "3.11.4"
  },
  "orig_nbformat": 4
 },
 "nbformat": 4,
 "nbformat_minor": 2
}
