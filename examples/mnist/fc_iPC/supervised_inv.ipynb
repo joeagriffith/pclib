{
 "cells": [
  {
   "cell_type": "code",
   "execution_count": 1,
   "metadata": {},
   "outputs": [],
   "source": [
    "import torch\n",
    "import torch.nn.functional as F\n",
    "import torchvision.datasets as datasets\n",
    "import torchvision.transforms as transforms\n",
    "import matplotlib.pyplot as plt\n",
    "%matplotlib inline\n",
    "import os\n",
    "\n",
    "from pclib.nn.models import FCPCN\n",
    "from pclib.optim.eval import track_vfe, accuracy\n",
    "from pclib.utils.functional import format_y, identity, shrinkage\n",
    "from pclib.utils.customdataset import PreloadedDataset\n",
    "from tqdm import tqdm\n",
    "from pclib.optim.train import val_pass"
   ]
  },
  {
   "cell_type": "code",
   "execution_count": 2,
   "metadata": {},
   "outputs": [
    {
     "data": {
      "text/plain": [
       "device(type='cuda')"
      ]
     },
     "execution_count": 2,
     "metadata": {},
     "output_type": "execute_result"
    }
   ],
   "source": [
    "seed = 42\n",
    "# For reproducibility\n",
    "os.environ['CUBLAS_WORKSPACE_CONFIG'] = ':4096:8'\n",
    "device = torch.device('cuda' if torch.cuda.is_available() else 'cpu')\n",
    "device"
   ]
  },
  {
   "cell_type": "code",
   "execution_count": 3,
   "metadata": {},
   "outputs": [
    {
     "name": "stderr",
     "output_type": "stream",
     "text": [
      "                                                        \r"
     ]
    }
   ],
   "source": [
    "torch.manual_seed(seed)\n",
    "\n",
    "# Scale img transform\n",
    "class Scale(object):\n",
    "    def __init__(self, scale_factor):\n",
    "        self.scale_factor = scale_factor\n",
    "\n",
    "    def __call__(self, img):\n",
    "        return img * self.scale_factor + 0.5 * (1 - self.scale_factor)\n",
    "\n",
    "# Inverse Logistic Sigmoid Transform\n",
    "class InvLogit(object):\n",
    "    def __call__(self, x):\n",
    "        return torch.log(x / (1 - x))\n",
    "\n",
    "train_transform = transforms.Compose([\n",
    "    transforms.ToTensor(),\n",
    "    Scale(0.9),\n",
    "    InvLogit(),\n",
    "    # transforms.RandomAffine(degrees=10, translate=(0.1, 0.1), scale=(0.9, 1.1)),                                \n",
    "    # transforms.Normalize((0.1307,), (0.3081,)),\n",
    "])\n",
    "\n",
    "val_transform = transforms.Compose([\n",
    "    transforms.ToTensor(),\n",
    "    Scale(0.9),\n",
    "    InvLogit(),\n",
    "    # transforms.Normalize((0.1307,), (0.3081,)),\n",
    "])\n",
    "\n",
    "dataset = datasets.MNIST('../Datasets/', train=True, download=False, transform=transforms.ToTensor())\n",
    "\n",
    "VAL_RATIO = 0.2\n",
    "val_len = int(len(dataset) * VAL_RATIO)\n",
    "train_len = len(dataset) - val_len\n",
    "train_dataset, val_dataset = torch.utils.data.random_split(dataset, [train_len, val_len])\n",
    "train_dataset = PreloadedDataset.from_dataset(train_dataset, train_transform, device)\n",
    "val_dataset = PreloadedDataset.from_dataset(val_dataset, val_transform, device)\n",
    "INPUT_SHAPE = 784\n",
    "NUM_CLASSES = 10"
   ]
  },
  {
   "cell_type": "code",
   "execution_count": 4,
   "metadata": {},
   "outputs": [
    {
     "data": {
      "image/png": "[encoded data removed]",
      "text/plain": [
       "<Figure size 1500x500 with 10 Axes>"
      ]
     },
     "metadata": {},
     "output_type": "display_data"
    },
    {
     "name": "stdout",
     "output_type": "stream",
     "text": [
      "Max value:  tensor(2.9444, device='cuda:0')\n",
      "Min value:  tensor(-2.9444, device='cuda:0')\n"
     ]
    }
   ],
   "source": [
    "# Show some images\n",
    "fig, axes = plt.subplots(1, 10, figsize=(15, 5))\n",
    "for i, ax in enumerate(axes):\n",
    "    img, label = train_dataset[i]\n",
    "    ax.imshow(img.squeeze().cpu(), cmap='gray')\n",
    "    ax.axis('off')\n",
    "plt.show()\n",
    "\n",
    "# print max min values\n",
    "print('Max value: ', train_dataset.transformed_images.max())\n",
    "print('Min value: ', train_dataset.transformed_images.min())"
   ]
  },
  {
   "cell_type": "code",
   "execution_count": 44,
   "metadata": {},
   "outputs": [],
   "source": [
    "all_stats = {}"
   ]
  },
  {
   "cell_type": "code",
   "execution_count": 45,
   "metadata": {},
   "outputs": [],
   "source": [
    "def train(\n",
    "        model,\n",
    "        train_dataset,\n",
    "        val_dataset,\n",
    "        BATCH_SIZE,\n",
    "        NUM_EPOCHS,\n",
    "        optimiser,\n",
    "        scheduler,\n",
    "        stats,\n",
    "        norm_grads=False,\n",
    "        neg_cnst=None,\n",
    "        cd=None,\n",
    "        eval_every=100,\n",
    "):\n",
    "    train_loader = torch.utils.data.DataLoader(train_dataset, batch_size=BATCH_SIZE, shuffle=True)\n",
    "    val_loader = torch.utils.data.DataLoader(val_dataset, batch_size=BATCH_SIZE, shuffle=False)\n",
    "\n",
    "    pos_states = [model.init_state(images.flatten(1), F.one_hot(labels, 10)) for images, labels in train_loader]\n",
    "    neg_states = [model.init_state(images.flatten(1), F.one_hot(labels, 10)) for images, labels in train_loader]\n",
    "\n",
    "    model.train()\n",
    "    gamma = torch.ones(pos_states[0][0]['x'].shape[0], device=device) * model.gamma\n",
    "    cd_gamma = torch.ones(pos_states[0][0]['x'].shape[0], device=device) * model.gamma\n",
    "\n",
    "    loop = tqdm(range(NUM_EPOCHS), leave=False)\n",
    "    for epoch in loop:\n",
    "\n",
    "        if stats['epoch'] > 0:\n",
    "            postfix = {'steps': stats['epoch'], 'posVFE': stats['posVfe'][-1], 'valAcc': stats['valAcc'][-1], 'valVFE': stats['valVfe'][-1]}\n",
    "            if neg_cnst:\n",
    "                postfix['negVFE'] = stats['negVfe'][-1]\n",
    "                postfix['negMSE'] = stats['negMse'][-1]\n",
    "            if cd:\n",
    "                postfix['cdVFE'] = stats['cdVfe'][-1]\n",
    "            loop.set_postfix(postfix)\n",
    "        \n",
    "        epoch_stats = {'posVfe': [], 'negVfe': [], 'cdVfe': [], 'negMse': []}\n",
    "        \n",
    "        for i in range(len(train_loader)):\n",
    "\n",
    "            # Update particles and calculate new VFE\n",
    "            model.step(pos_states[i], gamma, pin_obs=True, pin_target=True)\n",
    "            pos_vfe = model.vfe(pos_states[i], normalise=norm_grads)\n",
    "            loss = pos_vfe.clone()\n",
    "\n",
    "            # Same For Negative particles\n",
    "            if neg_cnst:\n",
    "                neg_states[i][-1]['x'] = pos_states[i][-1]['x']\n",
    "                # for _ in range(20):\n",
    "                model.step(neg_states[i], gamma, pin_target=True)\n",
    "                neg_vfe = model.vfe(neg_states[i], normalise=norm_grads)\n",
    "                reconstruction = neg_states[i][0]['x']\n",
    "                neg_mse = F.mse_loss(reconstruction, pos_states[i][0]['x'])\n",
    "                loss -= neg_cnst*neg_vfe\n",
    "            if cd:\n",
    "                cd_state = [{k: v.clone() for k, v in state_l.items()} for state_l in pos_states[i]]\n",
    "                # for _ in range(cd):\n",
    "                #     model.step(cd_state, cd_gamma, pin_obs=False)\n",
    "                \n",
    "                out, _ = model.reconstruct(cd_state[0]['x'], steps=cd)\n",
    "                cd_state[0]['x'] = out\n",
    "\n",
    "                cd_vfe = model.vfe(cd_state, normalise=norm_grads)\n",
    "                loss += -0.75 * cd_vfe\n",
    "\n",
    "            optimiser.zero_grad()\n",
    "            loss.backward()\n",
    "            optimiser.step()\n",
    "            if model.has_top:\n",
    "                model.top.weight.data = model.top.weight.data - torch.diag(model.top.weight.data.diag())\n",
    "\n",
    "            # if norm_grads, recalculate VFE WITHOUT normalisation for plotting (otherwise it will be constant)\n",
    "            if norm_grads:\n",
    "                pos_vfe = model.vfe(pos_states[i], normalise=False)\n",
    "                if neg_cnst:\n",
    "                    neg_vfe = model.vfe(neg_states[i], normalise=False)\n",
    "                if cd:\n",
    "                    cd_vfe = model.vfe(cd_state, normalise=False)\n",
    "\n",
    "            epoch_stats['posVfe'].append(pos_vfe.item())\n",
    "            if neg_cnst:\n",
    "                epoch_stats['negVfe'].append(neg_vfe.item())\n",
    "                epoch_stats['negMse'].append(neg_mse.item())\n",
    "            if cd:\n",
    "                epoch_stats['cdVfe'].append(cd_vfe.item())\n",
    "            \n",
    "        if epoch % eval_every == 0:\n",
    "            val_stats = val_pass(model, None, val_loader)\n",
    "            stats['valAcc'].append(val_stats['acc'].item())\n",
    "            stats['valVfe'].append(val_stats['vfe'].item())\n",
    "\n",
    "        pos_vfe = sum(epoch_stats['posVfe']) / len(epoch_stats['posVfe'])\n",
    "        if pos_vfe < 0:\n",
    "            raise ValueError(f'epoch VFE is negative: {pos_vfe}')\n",
    "        stats['posVfe'].append(sum(epoch_stats['posVfe']) / len(epoch_stats['posVfe']))\n",
    "        if neg_cnst:\n",
    "            stats['negVfe'].append(sum(epoch_stats['negVfe']) / len(epoch_stats['negVfe'])) \n",
    "            stats['negMse'].append(sum(epoch_stats['negMse']) / len(epoch_stats['negMse']))\n",
    "        if cd:\n",
    "            stats['cdVfe'].append(sum(epoch_stats['cdVfe']) / len(epoch_stats['cdVfe']))\n",
    "\n",
    "        # Update learning rate\n",
    "        if scheduler is not None:\n",
    "            scheduler.step(stats['posVfe'][-1])\n",
    "        \n",
    "        stats['epoch'] += 1"
   ]
  },
  {
   "cell_type": "code",
   "execution_count": 57,
   "metadata": {},
   "outputs": [],
   "source": [
    "torch.manual_seed(seed)\n",
    "\n",
    "model = FCPCN(\n",
    "    sizes=[10, 600, 600, 784],\n",
    "    precisions=[1.0, 1.0, 1.0, 1.0],\n",
    "    bias=True, \n",
    "    symmetric=True, \n",
    "    actv_fn=F.sigmoid,\n",
    "    # actv_fn=shrinkage,\n",
    "    steps=20,\n",
    "    gamma=0.1,\n",
    "    x_decay=0.0,\n",
    "    inverted = True,\n",
    ").to(device)\n",
    "stats = {\n",
    "    'epoch': 0,\n",
    "    'posVfe': [],\n",
    "    'negVfe': [],\n",
    "    'negMse': [],\n",
    "    'cdVfe': [],\n",
    "    'valVfe': [],\n",
    "    'valAcc': [],\n",
    "}\n",
    "optimiser = torch.optim.AdamW(model.parameters(), lr=0.001, weight_decay=0.02)\n",
    "scheduler = torch.optim.lr_scheduler.ReduceLROnPlateau(optimiser, patience=500, factor=0.5, verbose=True, threshold=1e-4, min_lr=1e-6)"
   ]
  },
  {
   "cell_type": "code",
   "execution_count": 58,
   "metadata": {},
   "outputs": [
    {
     "name": "stderr",
     "output_type": "stream",
     "text": [
      " 10%|▉         | 954/10000 [4:36:49<39:41:51, 15.80s/it, steps=954, posVFE=533, valAcc=0.107, valVFE=5.9]  "
     ]
    }
   ],
   "source": [
    "BATCH_SIZE = 20\n",
    "NUM_EPOCHS = 10000\n",
    "stats = train(\n",
    "    model,\n",
    "    train_dataset,\n",
    "    val_dataset,\n",
    "    BATCH_SIZE,\n",
    "    NUM_EPOCHS,\n",
    "    optimiser,\n",
    "    # scheduler,\n",
    "    None,\n",
    "    stats,\n",
    "    eval_every=1,\n",
    ")"
   ]
  },
  {
   "cell_type": "code",
   "execution_count": 39,
   "metadata": {},
   "outputs": [],
   "source": [
    "all_stats['basic'] = stats"
   ]
  },
  {
   "cell_type": "code",
   "execution_count": 40,
   "metadata": {},
   "outputs": [
    {
     "ename": "TypeError",
     "evalue": "'NoneType' object is not subscriptable",
     "output_type": "error",
     "traceback": [
      "\u001b[1;31m---------------------------------------------------------------------------\u001b[0m",
      "\u001b[1;31mTypeError\u001b[0m                                 Traceback (most recent call last)",
      "Cell \u001b[1;32mIn[40], line 2\u001b[0m\n\u001b[0;32m      1\u001b[0m \u001b[38;5;28;01mfor\u001b[39;00m k, v \u001b[38;5;129;01min\u001b[39;00m all_stats\u001b[38;5;241m.\u001b[39mitems():\n\u001b[1;32m----> 2\u001b[0m     plt\u001b[38;5;241m.\u001b[39mplot(\u001b[43mv\u001b[49m\u001b[43m[\u001b[49m\u001b[38;5;124;43m'\u001b[39;49m\u001b[38;5;124;43mtrainVfe\u001b[39;49m\u001b[38;5;124;43m'\u001b[39;49m\u001b[43m]\u001b[49m, label\u001b[38;5;241m=\u001b[39mk)\n\u001b[0;32m      3\u001b[0m     plt\u001b[38;5;241m.\u001b[39mplot(v[\u001b[38;5;124m'\u001b[39m\u001b[38;5;124mnegVfe\u001b[39m\u001b[38;5;124m'\u001b[39m], label\u001b[38;5;241m=\u001b[39mk\u001b[38;5;241m+\u001b[39m\u001b[38;5;124m'\u001b[39m\u001b[38;5;124m (neg)\u001b[39m\u001b[38;5;124m'\u001b[39m)\n\u001b[0;32m      4\u001b[0m plt\u001b[38;5;241m.\u001b[39mlegend()\n",
      "\u001b[1;31mTypeError\u001b[0m: 'NoneType' object is not subscriptable"
     ]
    }
   ],
   "source": [
    "for k, v in all_stats.items():\n",
    "    plt.plot(v['trainVfe'], label=k)\n",
    "    plt.plot(v['negVfe'], label=k+' (neg)')\n",
    "plt.legend()\n",
    "plt.yscale('log')\n",
    "plt.title('TrainVFE')\n",
    "plt.show()\n",
    "\n",
    "for k, v in all_stats.items():\n",
    "    plt.plot(v['valVfe'], label=k)\n",
    "plt.legend()\n",
    "plt.title('valVFE')\n",
    "plt.show()\n",
    "\n",
    "for k, v in all_stats.items():\n",
    "    plt.plot(v['valAcc'], label=k)\n",
    "plt.legend()\n",
    "plt.title('ValAcc')\n",
    "# plt.yscale('log')\n",
    "plt.show()"
   ]
  }
 ],
 "metadata": {
  "kernelspec": {
   "display_name": "ml-env",
   "language": "python",
   "name": "python3"
  },
  "language_info": {
   "codemirror_mode": {
    "name": "ipython",
    "version": 3
   },
   "file_extension": ".py",
   "mimetype": "text/x-python",
   "name": "python",
   "nbconvert_exporter": "python",
   "pygments_lexer": "ipython3",
   "version": "3.11.4"
  },
  "orig_nbformat": 4
 },
 "nbformat": 4,
 "nbformat_minor": 2
}
