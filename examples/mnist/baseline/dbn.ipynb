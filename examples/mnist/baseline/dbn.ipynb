{
 "cells": [
  {
   "cell_type": "code",
   "execution_count": 1,
   "metadata": {},
   "outputs": [],
   "source": [
    "import torch\n",
    "import torch.nn as nn\n",
    "import torch.nn.functional as F\n",
    "import torchvision.datasets as datasets\n",
    "import torchvision.transforms as transforms\n",
    "import matplotlib.pyplot as plt\n",
    "%matplotlib inline\n",
    "import os\n",
    "\n",
    "from pclib.nn.models import FCPCN\n",
    "from pclib.optim.train import train\n",
    "from pclib.optim.eval import track_vfe, accuracy\n",
    "from pclib.utils.functional import format_y, identity, shrinkage\n",
    "from pclib.utils.customdataset import PreloadedDataset\n",
    "\n",
    "from tqdm import tqdm\n",
    "from torch.utils.tensorboard import SummaryWriter"
   ]
  },
  {
   "cell_type": "code",
   "execution_count": 2,
   "metadata": {},
   "outputs": [
    {
     "data": {
      "text/plain": [
       "device(type='cuda')"
      ]
     },
     "execution_count": 2,
     "metadata": {},
     "output_type": "execute_result"
    }
   ],
   "source": [
    "seed = 42\n",
    "# For reproducibility\n",
    "os.environ['CUBLAS_WORKSPACE_CONFIG'] = ':4096:8'\n",
    "device = torch.device('cuda' if torch.cuda.is_available() else 'cpu')\n",
    "device"
   ]
  },
  {
   "cell_type": "code",
   "execution_count": 3,
   "metadata": {},
   "outputs": [
    {
     "name": "stderr",
     "output_type": "stream",
     "text": [
      "                                                        \r"
     ]
    },
    {
     "data": {
      "image/png": "[encoded data removed]",
      "text/plain": [
       "<Figure size 1500x500 with 10 Axes>"
      ]
     },
     "metadata": {},
     "output_type": "display_data"
    },
    {
     "name": "stdout",
     "output_type": "stream",
     "text": [
      "Max value:  tensor(1., device='cuda:0')\n",
      "Min value:  tensor(0., device='cuda:0')\n"
     ]
    }
   ],
   "source": [
    "torch.manual_seed(seed)\n",
    "\n",
    "# Scale img transform\n",
    "class Scale(object):\n",
    "    def __init__(self, scale_factor):\n",
    "        self.scale_factor = scale_factor\n",
    "\n",
    "    def __call__(self, img):\n",
    "        return img * self.scale_factor + 0.5 * (1 - self.scale_factor)\n",
    "\n",
    "# Inverse Logistic Sigmoid Transform\n",
    "class InvLogit(object):\n",
    "    def __call__(self, x):\n",
    "        return torch.log(x / (1 - x))\n",
    "\n",
    "train_transform = transforms.Compose([\n",
    "    transforms.ToTensor(),\n",
    "    # Scale(0.9),\n",
    "    # InvLogit(),\n",
    "    # transforms.RandomAffine(degrees=10, translate=(0.1, 0.1), scale=(0.9, 1.1)),                                \n",
    "    # transforms.Normalize((0.1307,), (0.3081,)),\n",
    "])\n",
    "\n",
    "val_transform = transforms.Compose([\n",
    "    transforms.ToTensor(),\n",
    "    # Scale(0.9),\n",
    "    # InvLogit(),\n",
    "    # transforms.Normalize((0.1307,), (0.3081,)),\n",
    "])\n",
    "\n",
    "dataset = datasets.MNIST('../Datasets/', train=True, download=False, transform=transforms.ToTensor())\n",
    "\n",
    "VAL_RATIO = 0.2\n",
    "val_len = int(len(dataset) * VAL_RATIO)\n",
    "train_len = len(dataset) - val_len\n",
    "train_dataset, val_dataset = torch.utils.data.random_split(dataset, [train_len, val_len])\n",
    "train_dataset = PreloadedDataset.from_dataset(train_dataset, train_transform, device)\n",
    "val_dataset = PreloadedDataset.from_dataset(val_dataset, val_transform, device)\n",
    "INPUT_SHAPE = 784\n",
    "NUM_CLASSES = 10\n",
    "\n",
    "# Show some images\n",
    "fig, axes = plt.subplots(1, 10, figsize=(15, 5))\n",
    "for i, ax in enumerate(axes):\n",
    "    img, label = train_dataset[i]\n",
    "    ax.imshow(img.squeeze().cpu(), cmap='gray')\n",
    "    ax.axis('off')\n",
    "plt.show()\n",
    "\n",
    "# print max min values\n",
    "print('Max value: ', train_dataset.transformed_images.max())\n",
    "print('Min value: ', train_dataset.transformed_images.min())"
   ]
  },
  {
   "cell_type": "code",
   "execution_count": 4,
   "metadata": {},
   "outputs": [],
   "source": [
    "H_DIM = 200\n",
    "Z_DIM = 20\n",
    "class VAE(nn.Module):\n",
    "    def __init__(self):\n",
    "        super().__init__()\n",
    "        self.encoder = nn.Sequential(\n",
    "            nn.Linear(INPUT_SHAPE, 200),\n",
    "            nn.ReLU(),\n",
    "            nn.Linear(200, H_DIM),\n",
    "            nn.ReLU(),\n",
    "        )\n",
    "\n",
    "        self.mu = nn.Linear(H_DIM, Z_DIM)\n",
    "        self.logvar = nn.Linear(H_DIM, Z_DIM)\n",
    "        self.z2hidden = nn.Linear(Z_DIM, H_DIM)\n",
    "\n",
    "        self.decoder = nn.Sequential(\n",
    "            nn.Linear(H_DIM, 200),\n",
    "            nn.ReLU(),\n",
    "            nn.Linear(200, INPUT_SHAPE),\n",
    "            nn.Sigmoid()\n",
    "        )\n",
    "        self.register_buffer('epochs_trained', torch.tensor(0, dtype=torch.long))\n",
    "        self.register_buffer('min_val_loss', torch.tensor(float('inf')))\n",
    "    \n",
    "    def inc_epochs(self):\n",
    "        self.epochs_trained += 1\n",
    "    \n",
    "    def is_best(self, val_loss):\n",
    "        if val_loss < self.min_val_loss:\n",
    "            self.min_val_loss = val_loss\n",
    "            return True\n",
    "        return False\n",
    "    \n",
    "    def encode(self, x):\n",
    "        h = self.encoder(x)\n",
    "        return self.mu(h), self.logvar(h)\n",
    "    \n",
    "    def reparameterize(self, mu, logvar):     \n",
    "        std = torch.exp(0.5 * logvar)\n",
    "        eps = torch.randn_like(std)\n",
    "        return mu + eps * std\n",
    "    \n",
    "    def decode(self, z):\n",
    "        return self.decoder(self.z2hidden(z))\n",
    "    \n",
    "    def forward(self, x):\n",
    "        mu, logvar = self.encode(x)\n",
    "        z = self.reparameterize(mu, logvar)\n",
    "        return self.decode(z), mu, logvar\n",
    "    \n",
    "    def sample(self, n):\n",
    "        z = torch.randn(n, Z_DIM).to(device)\n",
    "        return self.decode(z)\n",
    "    \n",
    "    def loss(self, x_hat, x, mu, logvar):\n",
    "        BCE = F.binary_cross_entropy(x_hat, x, reduction='sum')\n",
    "        KLD = -0.5 * torch.sum(1 + logvar - mu.pow(2) - logvar.exp())\n",
    "        return BCE + KLD"
   ]
  },
  {
   "cell_type": "code",
   "execution_count": 26,
   "metadata": {},
   "outputs": [],
   "source": [
    "def train(\n",
    "        model,\n",
    "        log_dir,\n",
    "        train_dataset,\n",
    "        val_dataset,\n",
    "        num_epochs,\n",
    "        batch_size,\n",
    "        optimiser,\n",
    "        stats,\n",
    "):\n",
    "    if log_dir is not None:\n",
    "        writer = SummaryWriter(log_dir)\n",
    "\n",
    "    train_loader = torch.utils.data.DataLoader(train_dataset, batch_size=batch_size, shuffle=True)\n",
    "    val_loader = torch.utils.data.DataLoader(val_dataset, batch_size=batch_size, shuffle=False)\n",
    "\n",
    "    if stats is None:\n",
    "        stats = {\n",
    "            'train_loss': [],\n",
    "            'val_loss': [],\n",
    "        }\n",
    "\n",
    "    for epoch in range(num_epochs):\n",
    "        model.train()\n",
    "        epoch_train_loss = torch.zeros(len(train_loader)).to(device)\n",
    "        loop = tqdm(enumerate(train_loader), leave=False, desc=f'Epoch [{epoch + 1}/{num_epochs}]')\n",
    "        if epoch > 0:\n",
    "            loop.set_postfix({'train_loss': stats['train_loss'][-1], 'val_loss': stats['val_loss'][-1]})\n",
    "        for i, (x, _) in loop:\n",
    "            x = x.view(-1, INPUT_SHAPE)\n",
    "            x_hat, mu, logvar = model(x)\n",
    "            loss = model.loss(x_hat, x, mu, logvar)\n",
    "            optimiser.zero_grad()\n",
    "            loss.backward()\n",
    "            optimiser.step()\n",
    "            epoch_train_loss[i] = loss.item()\n",
    "        stats['train_loss'].append(epoch_train_loss.sum().item() / len(train_dataset))\n",
    "        \n",
    "        model.eval()\n",
    "        with torch.no_grad():\n",
    "            epoch_val_loss = torch.zeros(len(val_loader)).to(device)\n",
    "            for i, (x, _) in enumerate(val_loader):\n",
    "                x = x.view(-1, INPUT_SHAPE)\n",
    "                x_hat, mu, logvar = model(x)\n",
    "                val_loss = model.loss(x_hat, x, mu, logvar)\n",
    "                epoch_val_loss[i] = val_loss.item()\n",
    "            stats['val_loss'].append(epoch_val_loss.sum().item() / len(val_dataset))\n",
    "\n",
    "            should_update = model.is_best(epoch_val_loss.sum().detach() / len(val_dataset))\n",
    "            model.inc_epochs()\n",
    "        \n",
    "        if log_dir is not None:\n",
    "            writer.add_scalar('Loss/train', stats['train_loss'][-1], epoch)\n",
    "            writer.add_scalar('Loss/val', stats['val_loss'][-1], epoch)\n",
    "            \n",
    "    return stats"
   ]
  },
  {
   "cell_type": "code",
   "execution_count": 27,
   "metadata": {},
   "outputs": [],
   "source": [
    "torch.manual_seed(42)\n",
    "log_dir = f\"examples/mnist/out/logs/baseline/VAE\"\n",
    "model = VAE().to(device)\n",
    "optimiser = torch.optim.AdamW(model.parameters(), lr=0.001)\n",
    "stats = None"
   ]
  },
  {
   "cell_type": "code",
   "execution_count": 28,
   "metadata": {},
   "outputs": [
    {
     "name": "stderr",
     "output_type": "stream",
     "text": [
      "Epoch [11/30]: 755it [00:01, 603.49it/s, train_loss=110, val_loss=110] "
     ]
    }
   ],
   "source": [
    "log_dir = None\n",
    "stats = train(\n",
    "    model,\n",
    "    log_dir,\n",
    "    train_dataset,\n",
    "    val_dataset,\n",
    "    num_epochs=30,\n",
    "    batch_size=32,\n",
    "    optimiser=optimiser,\n",
    "    stats=stats,\n",
    ")"
   ]
  },
  {
   "cell_type": "code",
   "execution_count": null,
   "metadata": {},
   "outputs": [
    {
     "data": {
      "image/png": "[encoded data removed]",
      "text/plain": [
       "<Figure size 640x480 with 1 Axes>"
      ]
     },
     "metadata": {},
     "output_type": "display_data"
    }
   ],
   "source": [
    "plt.plot(stats['train_loss'], label='Train')\n",
    "# plt.plot(stats['val_loss'], label='Val')\n",
    "plt.title('Loss')\n",
    "plt.legend()\n",
    "plt.show()"
   ]
  }
 ],
 "metadata": {
  "kernelspec": {
   "display_name": "ml-env",
   "language": "python",
   "name": "python3"
  },
  "language_info": {
   "codemirror_mode": {
    "name": "ipython",
    "version": 3
   },
   "file_extension": ".py",
   "mimetype": "text/x-python",
   "name": "python",
   "nbconvert_exporter": "python",
   "pygments_lexer": "ipython3",
   "version": "3.11.4"
  }
 },
 "nbformat": 4,
 "nbformat_minor": 2
}
